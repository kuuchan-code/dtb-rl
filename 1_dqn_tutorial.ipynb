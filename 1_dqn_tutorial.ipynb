{
 "cells": [
  {
   "cell_type": "markdown",
   "metadata": {
    "id": "klGNgWREsvQv"
   },
   "source": [
    "##### Copyright 2018 The TF-Agents Authors."
   ]
  },
  {
   "cell_type": "code",
   "execution_count": 1,
   "metadata": {
    "cellView": "form",
    "execution": {
     "iopub.execute_input": "2021-02-12T22:21:58.440777Z",
     "iopub.status.busy": "2021-02-12T22:21:58.440184Z",
     "iopub.status.idle": "2021-02-12T22:21:58.441982Z",
     "shell.execute_reply": "2021-02-12T22:21:58.442345Z"
    },
    "id": "nQnmcm0oI1Q-"
   },
   "outputs": [],
   "source": [
    "#@title Licensed under the Apache License, Version 2.0 (the \"License\");\n",
    "# you may not use this file except in compliance with the License.\n",
    "# You may obtain a copy of the License at\n",
    "#\n",
    "# https://www.apache.org/licenses/LICENSE-2.0\n",
    "#\n",
    "# Unless required by applicable law or agreed to in writing, software\n",
    "# distributed under the License is distributed on an \"AS IS\" BASIS,\n",
    "# WITHOUT WARRANTIES OR CONDITIONS OF ANY KIND, either express or implied.\n",
    "# See the License for the specific language governing permissions and\n",
    "# limitations under the License."
   ]
  },
  {
   "cell_type": "markdown",
   "metadata": {
    "id": "pmDI-h7cI0tI"
   },
   "source": [
    "# TF-Agent を使用した Deep Q Network のトレーニング\n",
    "\n",
    "<table class=\"tfo-notebook-buttons\" align=\"left\">\n",
    "  <td><a target=\"_blank\" href=\"https://www.tensorflow.org/agents/tutorials/1_dqn_tutorial\"><img src=\"https://www.tensorflow.org/images/tf_logo_32px.png\"> TensorFlow.orgで表示</a></td>\n",
    "  <td><a target=\"_blank\" href=\"https://colab.research.google.com/github/tensorflow/docs-l10n/blob/master/site/ja/agents/tutorials/1_dqn_tutorial.ipynb\">     <img src=\"https://www.tensorflow.org/images/colab_logo_32px.png\">Google Colabで実行</a></td>\n",
    "  <td><a target=\"_blank\" href=\"https://github.com/tensorflow/docs-l10n/blob/master/site/ja/agents/tutorials/1_dqn_tutorial.ipynb\"><img src=\"https://www.tensorflow.org/images/GitHub-Mark-32px.png\">GitHub でソースを表示{</a></td>\n",
    "  <td><a href=\"https://storage.googleapis.com/tensorflow_docs/docs-l10n/site/ja/agents/tutorials/1_dqn_tutorial.ipynb\"><img src=\"https://www.tensorflow.org/images/download_logo_32px.png\">ノートブックをダウンロード/a0}</a></td>\n",
    "</table>"
   ]
  },
  {
   "cell_type": "markdown",
   "metadata": {
    "id": "lsaQlK8fFQqH"
   },
   "source": [
    "## はじめに\n"
   ]
  },
  {
   "cell_type": "markdown",
   "metadata": {
    "id": "cKOCZlhUgXVK"
   },
   "source": [
    "この例は、Cartpole環境でTF-Agentsライブラリを使用して[ DQN（Deep Q Networks）](https://storage.googleapis.com/deepmind-media/dqn/DQNNaturePaper.pdf)エージェントをトレーニングする方法を示しています。\n",
    "\n",
    "![Cartpole environment](https://raw.githubusercontent.com/tensorflow/agents/master/docs/tutorials/images/cartpole.png)\n",
    "\n",
    "ここでは、トレーニング、評価、データ収集のための強化学習（RL）パイプラインのすべてのコンポーネントについて説明します。\n",
    "\n",
    "このコードをライブで実行するには、上の [Google Colabで実行] リンクをクリックしてください。\n"
   ]
  },
  {
   "cell_type": "markdown",
   "metadata": {
    "id": "1u9QVVsShC9X"
   },
   "source": [
    "## セットアップ"
   ]
  },
  {
   "cell_type": "markdown",
   "metadata": {
    "id": "kNrNXKI7bINP"
   },
   "source": [
    "以下の依存関係をインストールしていない場合は、実行します。"
   ]
  },
  {
   "cell_type": "code",
   "execution_count": null,
   "metadata": {
    "execution": {
     "iopub.execute_input": "2021-02-12T22:21:58.459190Z",
     "iopub.status.busy": "2021-02-12T22:21:58.458456Z",
     "iopub.status.idle": "2021-02-12T22:22:14.622083Z",
     "shell.execute_reply": "2021-02-12T22:22:14.621525Z"
    },
    "id": "KEHR2Ui-lo8O"
   },
   "outputs": [
    {
     "name": "stdout",
     "output_type": "stream",
     "text": [
      "Get:1 https://developer.download.nvidia.com/compute/cuda/repos/ubuntu2004/x86_64  InRelease [1581 B]\n",
      "Ign:2 https://developer.download.nvidia.com/compute/machine-learning/repos/ubuntu1804/x86_64  InRelease\n",
      "Get:3 https://developer.download.nvidia.com/compute/cuda/repos/ubuntu2004/x86_64  Packages [579 kB]\n",
      "Hit:4 https://developer.download.nvidia.com/compute/machine-learning/repos/ubuntu1804/x86_64  Release\n",
      "Get:6 http://security.ubuntu.com/ubuntu focal-security InRelease [114 kB]      \n",
      "Hit:7 http://archive.ubuntu.com/ubuntu focal InRelease \n",
      "Get:8 http://archive.ubuntu.com/ubuntu focal-updates InRelease [114 kB]\n",
      "Get:9 http://security.ubuntu.com/ubuntu focal-security/multiverse amd64 Packages [27.5 kB]\n",
      "Get:10 http://security.ubuntu.com/ubuntu focal-security/restricted amd64 Packages [1324 kB]\n",
      "Get:11 http://archive.ubuntu.com/ubuntu focal-backports InRelease [108 kB]\n",
      "Get:12 http://archive.ubuntu.com/ubuntu focal-updates/main amd64 Packages [2420 kB]\n",
      "Get:13 http://security.ubuntu.com/ubuntu focal-security/universe amd64 Packages [881 kB]\n",
      "Get:14 http://security.ubuntu.com/ubuntu focal-security/main amd64 Packages [1974 kB]\n",
      "Get:15 http://archive.ubuntu.com/ubuntu focal-updates/multiverse amd64 Packages [30.3 kB]\n",
      "Get:16 http://archive.ubuntu.com/ubuntu focal-updates/restricted amd64 Packages [1411 kB]\n",
      "Get:17 http://archive.ubuntu.com/ubuntu focal-updates/universe amd64 Packages [1161 kB]\n",
      "Get:18 http://archive.ubuntu.com/ubuntu focal-backports/main amd64 Packages [54.2 kB]\n",
      "Get:19 http://archive.ubuntu.com/ubuntu focal-backports/universe amd64 Packages [27.1 kB]\n",
      "Fetched 10.2 MB in 3s (2970 kB/s)                           \n",
      "Reading package lists... Done\n",
      "Reading package lists... Done\n",
      "Building dependency tree       \n",
      "Reading state information... Done\n",
      "The following additional packages will be installed:\n",
      "  alsa-topology-conf alsa-ucm-conf fontconfig fontconfig-config\n",
      "  fonts-dejavu-core i965-va-driver intel-media-va-driver libaacs0 libaom0\n",
      "  libasound2 libasound2-data libass9 libasyncns0 libavc1394-0 libavcodec58\n",
      "  libavdevice58 libavfilter7 libavformat58 libavresample4 libavutil56\n",
      "  libbdplus0 libbluray2 libbs2b0 libbsd0 libcaca0 libcairo-gobject2 libcairo2\n",
      "  libcdio-cdda2 libcdio-paranoia2 libcdio18 libchromaprint1 libcodec2-0.9\n",
      "  libdatrie1 libdc1394-22 libdrm-amdgpu1 libdrm-common libdrm-intel1\n",
      "  libdrm-nouveau2 libdrm-radeon1 libdrm2 libedit2 libfftw3-double3 libflac8\n",
      "  libflite1 libfontconfig1 libfontenc1 libfribidi0 libgdk-pixbuf2.0-0\n",
      "  libgdk-pixbuf2.0-bin libgdk-pixbuf2.0-common libgl1 libgl1-mesa-dri\n",
      "  libglapi-mesa libglvnd0 libglx-mesa0 libglx0 libgme0 libgraphite2-3 libgsm1\n",
      "  libharfbuzz0b libice6 libiec61883-0 libigdgmm11 libjack-jackd2-0 libjbig0\n",
      "  liblilv-0-0 libllvm12 libmp3lame0 libmpg123-0 libmysofa1 libnuma1 libogg0\n",
      "  libopenal-data libopenal1 libopenjp2-7 libopenmpt0 libopus0 libpango-1.0-0\n",
      "  libpangocairo-1.0-0 libpangoft2-1.0-0 libpciaccess0 libpixman-1-0\n",
      "  libpostproc55 libpulse0 libraw1394-11 librsvg2-2 librsvg2-common\n",
      "  librubberband2 libsamplerate0 libsdl2-2.0-0 libsensors-config libsensors5\n",
      "  libserd-0-0 libshine3 libslang2 libsm6 libsnappy1v5 libsndfile1 libsndio7.0\n",
      "  libsord-0-0 libsoxr0 libspeex1 libsratom-0-0 libssh-gcrypt-4 libswresample3\n",
      "  libswscale5 libthai-data libthai0 libtheora0 libtiff5 libtwolame0 libunwind8\n",
      "  libusb-1.0-0 libva-drm2 libva-x11-2 libva2 libvdpau1 libvidstab1.1\n",
      "  libvorbis0a libvorbisenc2 libvorbisfile3 libvpx6 libvulkan1 libwavpack1\n",
      "  libwayland-client0 libwayland-cursor0 libwayland-egl1 libwebp6 libwebpmux3\n",
      "  libwrap0 libx11-6 libx11-data libx11-xcb1 libx264-155 libx265-179 libxau6\n",
      "  libxaw7 libxcb-dri2-0 libxcb-dri3-0 libxcb-glx0 libxcb-present0\n",
      "  libxcb-randr0 libxcb-render0 libxcb-shape0 libxcb-shm0 libxcb-sync1\n",
      "  libxcb-xfixes0 libxcb1 libxcursor1 libxdmcp6 libxext6 libxfixes3 libxfont2\n",
      "  libxi6 libxinerama1 libxkbcommon0 libxkbfile1 libxmu6 libxmuu1 libxpm4\n",
      "  libxrandr2 libxrender1 libxshmfence1 libxss1 libxt6 libxv1 libxvidcore4\n",
      "  libxxf86vm1 libzvbi-common libzvbi0 mesa-va-drivers mesa-vdpau-drivers\n",
      "  mesa-vulkan-drivers ocl-icd-libopencl1 shared-mime-info ucf va-driver-all\n",
      "  vdpau-driver-all x11-common x11-xkb-utils xauth xfonts-base xfonts-encodings\n",
      "  xfonts-utils xkb-data xserver-common\n",
      "Suggested packages:\n",
      "  ffmpeg-doc i965-va-driver-shaders libasound2-plugins alsa-utils\n",
      "  libbluray-bdj libfftw3-bin libfftw3-dev jackd2 libportaudio2 opus-tools\n",
      "  pciutils pulseaudio libraw1394-doc librsvg2-bin lm-sensors serdi sndiod\n",
      "  sordi speex opencl-icd libvdpau-va-gl1 nvidia-vdpau-driver\n",
      "  nvidia-legacy-340xx-vdpau-driver nvidia-legacy-304xx-vdpau-driver\n",
      "The following NEW packages will be installed:\n",
      "  alsa-topology-conf alsa-ucm-conf ffmpeg fontconfig fontconfig-config\n",
      "  fonts-dejavu-core i965-va-driver intel-media-va-driver libaacs0 libaom0\n",
      "  libasound2 libasound2-data libass9 libasyncns0 libavc1394-0 libavcodec58\n",
      "  libavdevice58 libavfilter7 libavformat58 libavresample4 libavutil56\n",
      "  libbdplus0 libbluray2 libbs2b0 libbsd0 libcaca0 libcairo-gobject2 libcairo2\n",
      "  libcdio-cdda2 libcdio-paranoia2 libcdio18 libchromaprint1 libcodec2-0.9\n",
      "  libdatrie1 libdc1394-22 libdrm-amdgpu1 libdrm-common libdrm-intel1\n",
      "  libdrm-nouveau2 libdrm-radeon1 libdrm2 libedit2 libfftw3-double3 libflac8\n",
      "  libflite1 libfontconfig1 libfontenc1 libfribidi0 libgdk-pixbuf2.0-0\n",
      "  libgdk-pixbuf2.0-bin libgdk-pixbuf2.0-common libgl1 libgl1-mesa-dri\n",
      "  libglapi-mesa libglvnd0 libglx-mesa0 libglx0 libgme0 libgraphite2-3 libgsm1\n",
      "  libharfbuzz0b libice6 libiec61883-0 libigdgmm11 libjack-jackd2-0 libjbig0\n",
      "  liblilv-0-0 libllvm12 libmp3lame0 libmpg123-0 libmysofa1 libnuma1 libogg0\n",
      "  libopenal-data libopenal1 libopenjp2-7 libopenmpt0 libopus0 libpango-1.0-0\n",
      "  libpangocairo-1.0-0 libpangoft2-1.0-0 libpciaccess0 libpixman-1-0\n",
      "  libpostproc55 libpulse0 libraw1394-11 librsvg2-2 librsvg2-common\n",
      "  librubberband2 libsamplerate0 libsdl2-2.0-0 libsensors-config libsensors5\n",
      "  libserd-0-0 libshine3 libslang2 libsm6 libsnappy1v5 libsndfile1 libsndio7.0\n",
      "  libsord-0-0 libsoxr0 libspeex1 libsratom-0-0 libssh-gcrypt-4 libswresample3\n",
      "  libswscale5 libthai-data libthai0 libtheora0 libtiff5 libtwolame0 libunwind8\n",
      "  libusb-1.0-0 libva-drm2 libva-x11-2 libva2 libvdpau1 libvidstab1.1\n",
      "  libvorbis0a libvorbisenc2 libvorbisfile3 libvpx6 libvulkan1 libwavpack1\n",
      "  libwayland-client0 libwayland-cursor0 libwayland-egl1 libwebp6 libwebpmux3\n",
      "  libwrap0 libx11-6 libx11-data libx11-xcb1 libx264-155 libx265-179 libxau6\n",
      "  libxaw7 libxcb-dri2-0 libxcb-dri3-0 libxcb-glx0 libxcb-present0\n",
      "  libxcb-randr0 libxcb-render0 libxcb-shape0 libxcb-shm0 libxcb-sync1\n",
      "  libxcb-xfixes0 libxcb1 libxcursor1 libxdmcp6 libxext6 libxfixes3 libxfont2\n",
      "  libxi6 libxinerama1 libxkbcommon0 libxkbfile1 libxmu6 libxmuu1 libxpm4\n",
      "  libxrandr2 libxrender1 libxshmfence1 libxss1 libxt6 libxv1 libxvidcore4\n",
      "  libxxf86vm1 libzvbi-common libzvbi0 mesa-va-drivers mesa-vdpau-drivers\n",
      "  mesa-vulkan-drivers ocl-icd-libopencl1 shared-mime-info ucf va-driver-all\n",
      "  vdpau-driver-all x11-common x11-xkb-utils xauth xfonts-base xfonts-encodings\n",
      "  xfonts-utils xkb-data xserver-common xvfb\n",
      "0 upgraded, 188 newly installed, 0 to remove and 26 not upgraded.\n",
      "Need to get 103 MB of archives.\n",
      "After this operation, 795 MB of additional disk space will be used.\n",
      "Get:1 http://archive.ubuntu.com/ubuntu focal/main amd64 libbsd0 amd64 0.10.0-1 [45.4 kB]\n",
      "Get:2 http://archive.ubuntu.com/ubuntu focal-updates/main amd64 libfribidi0 amd64 1.0.8-2ubuntu0.1 [24.2 kB]\n",
      "Get:3 http://archive.ubuntu.com/ubuntu focal/main amd64 libslang2 amd64 2.3.2-4 [429 kB]\n",
      "Get:4 http://archive.ubuntu.com/ubuntu focal/main amd64 shared-mime-info amd64 1.15-1 [430 kB]\n",
      "Get:5 http://archive.ubuntu.com/ubuntu focal/main amd64 ucf all 3.0038+nmu1 [51.6 kB]\n",
      "Get:6 http://archive.ubuntu.com/ubuntu focal/main amd64 xkb-data all 2.29-2 [349 kB]\n",
      "Get:7 http://archive.ubuntu.com/ubuntu focal-updates/main amd64 libdrm-common all 2.4.107-8ubuntu1~20.04.2 [5396 B]\n",
      "Get:8 http://archive.ubuntu.com/ubuntu focal-updates/main amd64 libdrm2 amd64 2.4.107-8ubuntu1~20.04.2 [34.1 kB]\n",
      "Get:9 http://archive.ubuntu.com/ubuntu focal/main amd64 libedit2 amd64 3.1-20191231-1 [87.0 kB]\n",
      "Get:10 http://archive.ubuntu.com/ubuntu focal/main amd64 libnuma1 amd64 2.0.12-1 [20.8 kB]\n",
      "Get:11 http://archive.ubuntu.com/ubuntu focal/main amd64 libusb-1.0-0 amd64 2:1.0.23-2build1 [46.5 kB]\n",
      "Get:12 http://archive.ubuntu.com/ubuntu focal/main amd64 libxau6 amd64 1:1.0.9-0ubuntu1 [7488 B]\n"
     ]
    },
    {
     "name": "stdout",
     "output_type": "stream",
     "text": [
      "Get:13 http://archive.ubuntu.com/ubuntu focal/main amd64 libxdmcp6 amd64 1:1.1.3-0ubuntu1 [10.6 kB]\n",
      "Get:14 http://archive.ubuntu.com/ubuntu focal/main amd64 libxcb1 amd64 1.14-2 [44.7 kB]\n",
      "Get:15 http://archive.ubuntu.com/ubuntu focal-updates/main amd64 libx11-data all 2:1.6.9-2ubuntu1.2 [113 kB]\n",
      "Get:16 http://archive.ubuntu.com/ubuntu focal-updates/main amd64 libx11-6 amd64 2:1.6.9-2ubuntu1.2 [575 kB]\n",
      "Get:17 http://archive.ubuntu.com/ubuntu focal/main amd64 libxext6 amd64 2:1.3.4-0ubuntu1 [29.1 kB]\n",
      "Get:18 http://archive.ubuntu.com/ubuntu focal/main amd64 libxmuu1 amd64 2:1.1.3-0ubuntu1 [9728 B]\n",
      "Get:19 http://archive.ubuntu.com/ubuntu focal/main amd64 xauth amd64 1:1.1-0ubuntu1 [25.0 kB]\n",
      "Get:20 http://archive.ubuntu.com/ubuntu focal/main amd64 alsa-topology-conf all 1.2.2-1 [7364 B]\n",
      "Get:21 http://archive.ubuntu.com/ubuntu focal-updates/main amd64 alsa-ucm-conf all 1.2.2-1ubuntu0.13 [27.0 kB]\n",
      "Get:22 http://archive.ubuntu.com/ubuntu focal/universe amd64 libaom0 amd64 1.0.0.errata1-3build1 [1160 kB]\n",
      "Get:23 http://archive.ubuntu.com/ubuntu focal/universe amd64 libva2 amd64 2.7.0-2 [53.5 kB]\n",
      "Get:24 http://archive.ubuntu.com/ubuntu focal/universe amd64 libva-drm2 amd64 2.7.0-2 [7044 B]\n",
      "Get:25 http://archive.ubuntu.com/ubuntu focal/main amd64 libxfixes3 amd64 1:5.0.3-2 [10.9 kB]\n",
      "Get:26 http://archive.ubuntu.com/ubuntu focal/universe amd64 libva-x11-2 amd64 2.7.0-2 [11.9 kB]\n",
      "Get:27 http://archive.ubuntu.com/ubuntu focal/main amd64 libvdpau1 amd64 1.3-1ubuntu2 [25.6 kB]\n",
      "Get:28 http://archive.ubuntu.com/ubuntu focal/main amd64 ocl-icd-libopencl1 amd64 2.2.11-1ubuntu1 [30.3 kB]\n",
      "Get:29 http://archive.ubuntu.com/ubuntu focal-updates/universe amd64 libavutil56 amd64 7:4.2.7-0ubuntu0.1 [241 kB]\n",
      "Get:30 http://archive.ubuntu.com/ubuntu focal/main amd64 fonts-dejavu-core all 2.37-1 [1041 kB]\n",
      "Get:31 http://archive.ubuntu.com/ubuntu focal/main amd64 fontconfig-config all 2.13.1-2ubuntu3 [28.8 kB]\n",
      "Get:32 http://archive.ubuntu.com/ubuntu focal/main amd64 libfontconfig1 amd64 2.13.1-2ubuntu3 [114 kB]\n",
      "Get:33 http://archive.ubuntu.com/ubuntu focal/main amd64 libpixman-1-0 amd64 0.38.4-0ubuntu1 [227 kB]\n",
      "Get:34 http://archive.ubuntu.com/ubuntu focal/main amd64 libxcb-render0 amd64 1.14-2 [14.8 kB]\n",
      "Get:35 http://archive.ubuntu.com/ubuntu focal/main amd64 libxcb-shm0 amd64 1.14-2 [5584 B]\n",
      "Get:36 http://archive.ubuntu.com/ubuntu focal/main amd64 libxrender1 amd64 1:0.9.10-1 [18.7 kB]\n",
      "Get:37 http://archive.ubuntu.com/ubuntu focal/main amd64 libcairo2 amd64 1.16.0-4ubuntu1 [583 kB]\n",
      "Get:38 http://archive.ubuntu.com/ubuntu focal/universe amd64 libcodec2-0.9 amd64 0.9.2-2 [7886 kB]\n",
      "Get:39 http://archive.ubuntu.com/ubuntu focal/universe amd64 libgsm1 amd64 1.0.18-2 [24.4 kB]\n",
      "Get:40 http://archive.ubuntu.com/ubuntu focal/main amd64 libmp3lame0 amd64 3.100-3 [133 kB]\n",
      "Get:41 http://archive.ubuntu.com/ubuntu focal-updates/main amd64 libopenjp2-7 amd64 2.3.1-1ubuntu4.20.04.1 [141 kB]\n",
      "Get:42 http://archive.ubuntu.com/ubuntu focal/main amd64 libopus0 amd64 1.3.1-0ubuntu1 [191 kB]\n",
      "Get:43 http://archive.ubuntu.com/ubuntu focal/main amd64 libcairo-gobject2 amd64 1.16.0-4ubuntu1 [17.2 kB]\n",
      "Get:44 http://archive.ubuntu.com/ubuntu focal/main amd64 libjbig0 amd64 2.1-3.1build1 [26.7 kB]\n",
      "Get:45 http://archive.ubuntu.com/ubuntu focal-updates/main amd64 libwebp6 amd64 0.6.1-2ubuntu0.20.04.1 [185 kB]\n",
      "Get:46 http://archive.ubuntu.com/ubuntu focal-updates/main amd64 libtiff5 amd64 4.1.0+git191117-2ubuntu0.20.04.3 [162 kB]\n",
      "Get:47 http://archive.ubuntu.com/ubuntu focal-updates/main amd64 libgdk-pixbuf2.0-common all 2.40.0+dfsg-3ubuntu0.2 [4652 B]\n",
      "Get:48 http://archive.ubuntu.com/ubuntu focal-updates/main amd64 libgdk-pixbuf2.0-0 amd64 2.40.0+dfsg-3ubuntu0.2 [168 kB]\n",
      "Get:49 http://archive.ubuntu.com/ubuntu focal/main amd64 fontconfig amd64 2.13.1-2ubuntu3 [171 kB]\n",
      "Get:50 http://archive.ubuntu.com/ubuntu focal/main amd64 libgraphite2-3 amd64 1.3.13-11build1 [73.5 kB]\n",
      "Get:51 http://archive.ubuntu.com/ubuntu focal/main amd64 libharfbuzz0b amd64 2.6.4-1ubuntu4 [391 kB]\n",
      "Get:52 http://archive.ubuntu.com/ubuntu focal/main amd64 libthai-data all 0.1.28-3 [134 kB]\n",
      "Get:53 http://archive.ubuntu.com/ubuntu focal/main amd64 libdatrie1 amd64 0.2.12-3 [18.7 kB]\n",
      "Get:54 http://archive.ubuntu.com/ubuntu focal/main amd64 libthai0 amd64 0.1.28-3 [18.1 kB]\n",
      "Get:55 http://archive.ubuntu.com/ubuntu focal/main amd64 libpango-1.0-0 amd64 1.44.7-2ubuntu4 [162 kB]\n",
      "Get:56 http://archive.ubuntu.com/ubuntu focal/main amd64 libpangoft2-1.0-0 amd64 1.44.7-2ubuntu4 [34.9 kB]\n",
      "Get:57 http://archive.ubuntu.com/ubuntu focal/main amd64 libpangocairo-1.0-0 amd64 1.44.7-2ubuntu4 [24.8 kB]\n",
      "Get:58 http://archive.ubuntu.com/ubuntu focal-updates/main amd64 librsvg2-2 amd64 2.48.9-1ubuntu0.20.04.1 [2253 kB]\n",
      "Get:59 http://archive.ubuntu.com/ubuntu focal/universe amd64 libshine3 amd64 3.1.1-2 [23.2 kB]\n",
      "Get:60 http://archive.ubuntu.com/ubuntu focal/main amd64 libsnappy1v5 amd64 1.1.8-1build1 [16.7 kB]\n",
      "Get:61 http://archive.ubuntu.com/ubuntu focal-updates/main amd64 libspeex1 amd64 1.2~rc1.2-1.1ubuntu1.20.04.1 [53.2 kB]\n",
      "Get:62 http://archive.ubuntu.com/ubuntu focal/main amd64 libsoxr0 amd64 0.1.3-2build1 [78.0 kB]\n",
      "Get:63 http://archive.ubuntu.com/ubuntu focal-updates/universe amd64 libswresample3 amd64 7:4.2.7-0ubuntu0.1 [57.1 kB]\n",
      "Get:64 http://archive.ubuntu.com/ubuntu focal/main amd64 libogg0 amd64 1.3.4-0ubuntu1 [24.0 kB]\n",
      "Get:65 http://archive.ubuntu.com/ubuntu focal/main amd64 libtheora0 amd64 1.1.1+dfsg.1-15ubuntu2 [162 kB]\n",
      "Get:66 http://archive.ubuntu.com/ubuntu focal/main amd64 libtwolame0 amd64 0.4.0-2 [47.6 kB]\n",
      "Get:67 http://archive.ubuntu.com/ubuntu focal/main amd64 libvorbis0a amd64 1.3.6-2ubuntu1 [87.0 kB]\n",
      "Get:68 http://archive.ubuntu.com/ubuntu focal/main amd64 libvorbisenc2 amd64 1.3.6-2ubuntu1 [70.7 kB]\n",
      "Get:69 http://archive.ubuntu.com/ubuntu focal/main amd64 libvpx6 amd64 1.8.2-1build1 [820 kB]\n",
      "Get:70 http://archive.ubuntu.com/ubuntu focal-updates/main amd64 libwavpack1 amd64 5.2.0-1ubuntu0.1 [77.3 kB]\n",
      "Get:71 http://archive.ubuntu.com/ubuntu focal-updates/main amd64 libwebpmux3 amd64 0.6.1-2ubuntu0.20.04.1 [19.5 kB]\n",
      "Get:72 http://archive.ubuntu.com/ubuntu focal/universe amd64 libx264-155 amd64 2:0.155.2917+git0a84d98-2 [521 kB]\n",
      "Get:73 http://archive.ubuntu.com/ubuntu focal/universe amd64 libx265-179 amd64 3.2.1-1build1 [1060 kB]\n",
      "Get:74 http://archive.ubuntu.com/ubuntu focal/universe amd64 libxvidcore4 amd64 2:1.3.7-1 [201 kB]\n",
      "Get:75 http://archive.ubuntu.com/ubuntu focal/universe amd64 libzvbi-common all 0.2.35-17 [32.5 kB]\n",
      "Get:76 http://archive.ubuntu.com/ubuntu focal/universe amd64 libzvbi0 amd64 0.2.35-17 [237 kB]\n",
      "Get:77 http://archive.ubuntu.com/ubuntu focal-updates/universe amd64 libavcodec58 amd64 7:4.2.7-0ubuntu0.1 [4878 kB]\n",
      "Get:78 http://archive.ubuntu.com/ubuntu focal-updates/main amd64 libasound2-data all 1.2.2-2.1ubuntu2.5 [20.1 kB]\n",
      "Get:79 http://archive.ubuntu.com/ubuntu focal-updates/main amd64 libasound2 amd64 1.2.2-2.1ubuntu2.5 [335 kB]\n",
      "Get:80 http://archive.ubuntu.com/ubuntu focal/main amd64 libraw1394-11 amd64 2.1.2-1 [30.7 kB]\n",
      "Get:81 http://archive.ubuntu.com/ubuntu focal/main amd64 libavc1394-0 amd64 0.5.4-5 [16.2 kB]\n",
      "Get:82 http://archive.ubuntu.com/ubuntu focal/universe amd64 libass9 amd64 1:0.14.0-2 [88.0 kB]\n",
      "Get:83 http://archive.ubuntu.com/ubuntu focal/universe amd64 libbluray2 amd64 1:1.2.0-1 [138 kB]\n",
      "Get:84 http://archive.ubuntu.com/ubuntu focal/universe amd64 libchromaprint1 amd64 1.4.3-3build1 [37.6 kB]\n",
      "Get:85 http://archive.ubuntu.com/ubuntu focal/universe amd64 libgme0 amd64 0.6.2-1build1 [123 kB]\n",
      "Get:86 http://archive.ubuntu.com/ubuntu focal/main amd64 libmpg123-0 amd64 1.25.13-1 [124 kB]\n",
      "Get:87 http://archive.ubuntu.com/ubuntu focal/main amd64 libvorbisfile3 amd64 1.3.6-2ubuntu1 [16.1 kB]\n",
      "Get:88 http://archive.ubuntu.com/ubuntu focal/universe amd64 libopenmpt0 amd64 0.4.11-1build1 [599 kB]\n",
      "Get:89 http://archive.ubuntu.com/ubuntu focal-updates/main amd64 libssh-gcrypt-4 amd64 0.9.3-2ubuntu2.2 [202 kB]\n",
      "Get:90 http://archive.ubuntu.com/ubuntu focal-updates/universe amd64 libavformat58 amd64 7:4.2.7-0ubuntu0.1 [985 kB]\n",
      "Get:91 http://archive.ubuntu.com/ubuntu focal/universe amd64 libbs2b0 amd64 3.1.0+dfsg-2.2build1 [10.2 kB]\n",
      "Get:92 http://archive.ubuntu.com/ubuntu focal/universe amd64 libflite1 amd64 2.1-release-3 [12.8 MB]\n"
     ]
    },
    {
     "name": "stdout",
     "output_type": "stream",
     "text": [
      "Get:93 http://archive.ubuntu.com/ubuntu focal/universe amd64 libserd-0-0 amd64 0.30.2-1 [46.6 kB]\n",
      "Get:94 http://archive.ubuntu.com/ubuntu focal/universe amd64 libsord-0-0 amd64 0.16.4-1 [19.5 kB]\n",
      "Get:95 http://archive.ubuntu.com/ubuntu focal/universe amd64 libsratom-0-0 amd64 0.6.4-1 [16.9 kB]\n",
      "Get:96 http://archive.ubuntu.com/ubuntu focal-updates/universe amd64 liblilv-0-0 amd64 0.24.6-1ubuntu0.1 [40.6 kB]\n",
      "Get:97 http://archive.ubuntu.com/ubuntu focal/universe amd64 libmysofa1 amd64 1.0~dfsg0-1 [39.2 kB]\n",
      "Get:98 http://archive.ubuntu.com/ubuntu focal-updates/universe amd64 libpostproc55 amd64 7:4.2.7-0ubuntu0.1 [55.0 kB]\n",
      "Get:99 http://archive.ubuntu.com/ubuntu focal/main amd64 libfftw3-double3 amd64 3.3.8-2ubuntu1 [728 kB]\n",
      "Get:100 http://archive.ubuntu.com/ubuntu focal/main amd64 libsamplerate0 amd64 0.1.9-2 [939 kB]\n",
      "Get:101 http://archive.ubuntu.com/ubuntu focal/universe amd64 librubberband2 amd64 1.8.2-1build1 [89.4 kB]\n",
      "Get:102 http://archive.ubuntu.com/ubuntu focal-updates/universe amd64 libswscale5 amd64 7:4.2.7-0ubuntu0.1 [157 kB]\n",
      "Get:103 http://archive.ubuntu.com/ubuntu focal/universe amd64 libvidstab1.1 amd64 1.1.0-2 [35.0 kB]\n",
      "Get:104 http://archive.ubuntu.com/ubuntu focal-updates/universe amd64 libavfilter7 amd64 7:4.2.7-0ubuntu0.1 [1085 kB]\n",
      "Get:105 http://archive.ubuntu.com/ubuntu focal-updates/main amd64 libcaca0 amd64 0.99.beta19-2.1ubuntu1.20.04.2 [203 kB]\n",
      "Get:106 http://archive.ubuntu.com/ubuntu focal/main amd64 libcdio18 amd64 2.0.0-2 [58.6 kB]\n",
      "Get:107 http://archive.ubuntu.com/ubuntu focal/main amd64 libcdio-cdda2 amd64 10.2+2.0.0-1 [17.6 kB]\n",
      "Get:108 http://archive.ubuntu.com/ubuntu focal/main amd64 libcdio-paranoia2 amd64 10.2+2.0.0-1 [16.2 kB]\n",
      "Get:109 http://archive.ubuntu.com/ubuntu focal/universe amd64 libdc1394-22 amd64 2.2.5-2.1 [79.6 kB]\n",
      "Get:110 http://archive.ubuntu.com/ubuntu focal-updates/main amd64 libglvnd0 amd64 1.3.2-1~ubuntu0.20.04.2 [48.1 kB]\n",
      "Get:111 http://archive.ubuntu.com/ubuntu focal-updates/main amd64 libglapi-mesa amd64 21.2.6-0ubuntu0.1~20.04.2 [27.4 kB]\n",
      "Get:112 http://archive.ubuntu.com/ubuntu focal-updates/main amd64 libx11-xcb1 amd64 2:1.6.9-2ubuntu1.2 [9372 B]\n",
      "Get:113 http://archive.ubuntu.com/ubuntu focal/main amd64 libxcb-dri2-0 amd64 1.14-2 [6920 B]\n",
      "Get:114 http://archive.ubuntu.com/ubuntu focal/main amd64 libxcb-dri3-0 amd64 1.14-2 [6552 B]\n",
      "Get:115 http://archive.ubuntu.com/ubuntu focal/main amd64 libxcb-glx0 amd64 1.14-2 [22.1 kB]\n",
      "Get:116 http://archive.ubuntu.com/ubuntu focal/main amd64 libxcb-present0 amd64 1.14-2 [5560 B]\n",
      "Get:117 http://archive.ubuntu.com/ubuntu focal/main amd64 libxcb-sync1 amd64 1.14-2 [8884 B]\n",
      "Get:118 http://archive.ubuntu.com/ubuntu focal/main amd64 libxcb-xfixes0 amd64 1.14-2 [9296 B]\n",
      "Get:119 http://archive.ubuntu.com/ubuntu focal/main amd64 libxshmfence1 amd64 1.3-1 [5028 B]\n",
      "Get:120 http://archive.ubuntu.com/ubuntu focal/main amd64 libxxf86vm1 amd64 1:1.1.4-1build1 [10.2 kB]\n",
      "Get:121 http://archive.ubuntu.com/ubuntu focal-updates/main amd64 libdrm-amdgpu1 amd64 2.4.107-8ubuntu1~20.04.2 [18.6 kB]\n",
      "Get:122 http://archive.ubuntu.com/ubuntu focal/main amd64 libpciaccess0 amd64 0.16-0ubuntu1 [17.9 kB]\n",
      "Get:123 http://archive.ubuntu.com/ubuntu focal-updates/main amd64 libdrm-intel1 amd64 2.4.107-8ubuntu1~20.04.2 [60.3 kB]\n",
      "Get:124 http://archive.ubuntu.com/ubuntu focal-updates/main amd64 libdrm-nouveau2 amd64 2.4.107-8ubuntu1~20.04.2 [16.6 kB]\n",
      "Get:125 http://archive.ubuntu.com/ubuntu focal-updates/main amd64 libdrm-radeon1 amd64 2.4.107-8ubuntu1~20.04.2 [19.7 kB]\n",
      "Get:126 http://archive.ubuntu.com/ubuntu focal-updates/main amd64 libllvm12 amd64 1:12.0.0-3ubuntu1~20.04.5 [18.8 MB]\n",
      "Get:127 http://archive.ubuntu.com/ubuntu focal-updates/main amd64 libsensors-config all 1:3.6.0-2ubuntu1.1 [6052 B]\n",
      "Get:128 http://archive.ubuntu.com/ubuntu focal-updates/main amd64 libsensors5 amd64 1:3.6.0-2ubuntu1.1 [27.2 kB]\n",
      "Get:129 http://archive.ubuntu.com/ubuntu focal/main amd64 libvulkan1 amd64 1.2.131.2-1 [93.3 kB]\n",
      "Get:130 http://archive.ubuntu.com/ubuntu focal-updates/main amd64 libgl1-mesa-dri amd64 21.2.6-0ubuntu0.1~20.04.2 [11.0 MB]\n",
      "Get:131 http://archive.ubuntu.com/ubuntu focal-updates/main amd64 libglx-mesa0 amd64 21.2.6-0ubuntu0.1~20.04.2 [137 kB]\n",
      "Get:132 http://archive.ubuntu.com/ubuntu focal-updates/main amd64 libglx0 amd64 1.3.2-1~ubuntu0.20.04.2 [32.5 kB]\n",
      "Get:133 http://archive.ubuntu.com/ubuntu focal-updates/main amd64 libgl1 amd64 1.3.2-1~ubuntu0.20.04.2 [85.8 kB]\n",
      "Get:134 http://archive.ubuntu.com/ubuntu focal/main amd64 libiec61883-0 amd64 1.2.0-3 [24.3 kB]\n",
      "Get:135 http://archive.ubuntu.com/ubuntu focal/main amd64 libjack-jackd2-0 amd64 1.9.12~dfsg-2ubuntu2 [267 kB]\n",
      "Get:136 http://archive.ubuntu.com/ubuntu focal/universe amd64 libopenal-data all 1:1.19.1-1 [162 kB]\n",
      "Get:137 http://archive.ubuntu.com/ubuntu focal/universe amd64 libsndio7.0 amd64 1.5.0-3 [24.5 kB]\n",
      "Get:138 http://archive.ubuntu.com/ubuntu focal/universe amd64 libopenal1 amd64 1:1.19.1-1 [492 kB]\n",
      "Get:139 http://archive.ubuntu.com/ubuntu focal/main amd64 libasyncns0 amd64 0.8-6 [12.1 kB]\n",
      "Get:140 http://archive.ubuntu.com/ubuntu focal/main amd64 libflac8 amd64 1.3.3-1build1 [103 kB]\n",
      "Get:141 http://archive.ubuntu.com/ubuntu focal-updates/main amd64 libsndfile1 amd64 1.0.28-7ubuntu0.1 [170 kB]\n",
      "Get:142 http://archive.ubuntu.com/ubuntu focal/main amd64 libwrap0 amd64 7.6.q-30 [46.3 kB]\n",
      "Get:143 http://archive.ubuntu.com/ubuntu focal-updates/main amd64 libpulse0 amd64 1:13.99.1-1ubuntu3.13 [262 kB]\n",
      "Get:144 http://archive.ubuntu.com/ubuntu focal/main amd64 libwayland-client0 amd64 1.18.0-1 [23.9 kB]\n",
      "Get:145 http://archive.ubuntu.com/ubuntu focal/main amd64 libwayland-cursor0 amd64 1.18.0-1 [10.3 kB]\n",
      "Get:146 http://archive.ubuntu.com/ubuntu focal/main amd64 libwayland-egl1 amd64 1.18.0-1 [5692 B]\n",
      "Get:147 http://archive.ubuntu.com/ubuntu focal/main amd64 libxcursor1 amd64 1:1.2.0-2 [20.1 kB]\n",
      "Get:148 http://archive.ubuntu.com/ubuntu focal/main amd64 libxi6 amd64 2:1.7.10-0ubuntu1 [29.9 kB]\n",
      "Get:149 http://archive.ubuntu.com/ubuntu focal/main amd64 libxinerama1 amd64 2:1.1.4-2 [6904 B]\n",
      "Get:150 http://archive.ubuntu.com/ubuntu focal/main amd64 libxkbcommon0 amd64 0.10.0-1 [98.4 kB]\n",
      "Get:151 http://archive.ubuntu.com/ubuntu focal/main amd64 libxrandr2 amd64 2:1.5.2-0ubuntu1 [18.5 kB]\n",
      "Get:152 http://archive.ubuntu.com/ubuntu focal/main amd64 x11-common all 1:7.7+19ubuntu14 [22.3 kB]\n",
      "Get:153 http://archive.ubuntu.com/ubuntu focal/main amd64 libxss1 amd64 1:1.2.3-1 [8140 B]\n",
      "Get:154 http://archive.ubuntu.com/ubuntu focal/universe amd64 libsdl2-2.0-0 amd64 2.0.10+dfsg1-3 [407 kB]\n",
      "Get:155 http://archive.ubuntu.com/ubuntu focal/main amd64 libxcb-shape0 amd64 1.14-2 [5928 B]\n",
      "Get:156 http://archive.ubuntu.com/ubuntu focal/main amd64 libxv1 amd64 2:1.0.11-1 [10.7 kB]\n",
      "Get:157 http://archive.ubuntu.com/ubuntu focal-updates/universe amd64 libavdevice58 amd64 7:4.2.7-0ubuntu0.1 [74.3 kB]\n",
      "Get:158 http://archive.ubuntu.com/ubuntu focal-updates/universe amd64 libavresample4 amd64 7:4.2.7-0ubuntu0.1 [54.2 kB]\n",
      "Get:159 http://archive.ubuntu.com/ubuntu focal-updates/universe amd64 ffmpeg amd64 7:4.2.7-0ubuntu0.1 [1453 kB]\n",
      "Get:160 http://archive.ubuntu.com/ubuntu focal/universe amd64 libigdgmm11 amd64 20.1.1+ds1-1 [111 kB]\n",
      "Get:161 http://archive.ubuntu.com/ubuntu focal/universe amd64 intel-media-va-driver amd64 20.1.1+dfsg1-1 [1764 kB]\n",
      "Get:162 http://archive.ubuntu.com/ubuntu focal/universe amd64 libaacs0 amd64 0.9.0-2 [50.1 kB]\n",
      "Get:163 http://archive.ubuntu.com/ubuntu focal/universe amd64 libbdplus0 amd64 0.1.2-3 [47.3 kB]\n",
      "Get:164 http://archive.ubuntu.com/ubuntu focal/main amd64 libfontenc1 amd64 1:1.1.4-0ubuntu1 [14.0 kB]\n",
      "Get:165 http://archive.ubuntu.com/ubuntu focal-updates/main amd64 libgdk-pixbuf2.0-bin amd64 2.40.0+dfsg-3ubuntu0.2 [14.1 kB]\n",
      "Get:166 http://archive.ubuntu.com/ubuntu focal/main amd64 libice6 amd64 2:1.0.10-0ubuntu1 [41.0 kB]\n",
      "Get:167 http://archive.ubuntu.com/ubuntu focal-updates/main amd64 librsvg2-common amd64 2.48.9-1ubuntu0.20.04.1 [9212 B]\n",
      "Get:168 http://archive.ubuntu.com/ubuntu focal/main amd64 libsm6 amd64 2:1.2.3-1 [16.1 kB]\n",
      "Get:169 http://archive.ubuntu.com/ubuntu focal/main amd64 libunwind8 amd64 1.2.1-9build1 [47.6 kB]\n",
      "Get:170 http://archive.ubuntu.com/ubuntu focal/main amd64 libxt6 amd64 1:1.1.5-1 [160 kB]\n"
     ]
    },
    {
     "name": "stdout",
     "output_type": "stream",
     "text": [
      "Get:171 http://archive.ubuntu.com/ubuntu focal/main amd64 libxmu6 amd64 2:1.1.3-0ubuntu1 [45.8 kB]\n",
      "Get:172 http://archive.ubuntu.com/ubuntu focal/main amd64 libxpm4 amd64 1:3.5.12-1 [34.0 kB]\n",
      "Get:173 http://archive.ubuntu.com/ubuntu focal/main amd64 libxaw7 amd64 2:1.0.13-1 [173 kB]\n",
      "Get:174 http://archive.ubuntu.com/ubuntu focal/main amd64 libxcb-randr0 amd64 1.14-2 [16.3 kB]\n",
      "Get:175 http://archive.ubuntu.com/ubuntu focal/main amd64 libxfont2 amd64 1:2.0.3-1 [91.7 kB]\n",
      "Get:176 http://archive.ubuntu.com/ubuntu focal/main amd64 libxkbfile1 amd64 1:1.1.0-1 [65.3 kB]\n",
      "Get:177 http://archive.ubuntu.com/ubuntu focal-updates/universe amd64 mesa-va-drivers amd64 21.2.6-0ubuntu0.1~20.04.2 [2970 kB]\n",
      "Get:178 http://archive.ubuntu.com/ubuntu focal-updates/main amd64 mesa-vdpau-drivers amd64 21.2.6-0ubuntu0.1~20.04.2 [3089 kB]\n",
      "Get:179 http://archive.ubuntu.com/ubuntu focal-updates/main amd64 mesa-vulkan-drivers amd64 21.2.6-0ubuntu0.1~20.04.2 [5788 kB]\n",
      "Get:180 http://archive.ubuntu.com/ubuntu focal/universe amd64 i965-va-driver amd64 2.4.0-0ubuntu1 [924 kB]\n",
      "Get:181 http://archive.ubuntu.com/ubuntu focal/universe amd64 va-driver-all amd64 2.7.0-2 [4020 B]\n",
      "Get:182 http://archive.ubuntu.com/ubuntu focal/main amd64 vdpau-driver-all amd64 1.3-1ubuntu2 [4596 B]\n",
      "Get:183 http://archive.ubuntu.com/ubuntu focal/main amd64 x11-xkb-utils amd64 7.7+5 [158 kB]\n",
      "Get:184 http://archive.ubuntu.com/ubuntu focal/main amd64 xfonts-encodings all 1:1.0.5-0ubuntu1 [573 kB]\n",
      "Get:185 http://archive.ubuntu.com/ubuntu focal/main amd64 xfonts-utils amd64 1:7.7+6 [91.5 kB]\n",
      "Get:186 http://archive.ubuntu.com/ubuntu focal/main amd64 xfonts-base all 1:1.0.5 [5896 kB]\n",
      "Get:187 http://archive.ubuntu.com/ubuntu focal-updates/main amd64 xserver-common all 2:1.20.13-1ubuntu1~20.04.2 [26.5 kB]\n",
      "Get:188 http://archive.ubuntu.com/ubuntu focal-updates/universe amd64 xvfb amd64 2:1.20.13-1ubuntu1~20.04.2 [779 kB]\n",
      "Fetched 103 MB in 15s (6938 kB/s)                                              \n",
      "debconf: delaying package configuration, since apt-utils is not installed\n",
      "Selecting previously unselected package libbsd0:amd64.\n",
      "(Reading database ... 20632 files and directories currently installed.)\n",
      "Preparing to unpack .../000-libbsd0_0.10.0-1_amd64.deb ...\n",
      "Unpacking libbsd0:amd64 (0.10.0-1) ...\n",
      "Selecting previously unselected package libfribidi0:amd64.\n",
      "Preparing to unpack .../001-libfribidi0_1.0.8-2ubuntu0.1_amd64.deb ...\n",
      "Unpacking libfribidi0:amd64 (1.0.8-2ubuntu0.1) ...\n",
      "Selecting previously unselected package libslang2:amd64.\n",
      "Preparing to unpack .../002-libslang2_2.3.2-4_amd64.deb ...\n",
      "Unpacking libslang2:amd64 (2.3.2-4) ...\n",
      "Selecting previously unselected package shared-mime-info.\n",
      "Preparing to unpack .../003-shared-mime-info_1.15-1_amd64.deb ...\n",
      "Unpacking shared-mime-info (1.15-1) ...\n",
      "Selecting previously unselected package ucf.\n",
      "Preparing to unpack .../004-ucf_3.0038+nmu1_all.deb ...\n",
      "Moving old data out of the way\n",
      "Unpacking ucf (3.0038+nmu1) ...\n",
      "Selecting previously unselected package xkb-data.\n",
      "Preparing to unpack .../005-xkb-data_2.29-2_all.deb ...\n",
      "Unpacking xkb-data (2.29-2) ...\n",
      "Selecting previously unselected package libdrm-common.\n",
      "Preparing to unpack .../006-libdrm-common_2.4.107-8ubuntu1~20.04.2_all.deb ...\n",
      "Unpacking libdrm-common (2.4.107-8ubuntu1~20.04.2) ...\n",
      "Selecting previously unselected package libdrm2:amd64.\n",
      "Preparing to unpack .../007-libdrm2_2.4.107-8ubuntu1~20.04.2_amd64.deb ...\n",
      "Unpacking libdrm2:amd64 (2.4.107-8ubuntu1~20.04.2) ...\n",
      "Selecting previously unselected package libedit2:amd64.\n",
      "Preparing to unpack .../008-libedit2_3.1-20191231-1_amd64.deb ...\n",
      "Unpacking libedit2:amd64 (3.1-20191231-1) ...\n",
      "Selecting previously unselected package libnuma1:amd64.\n",
      "Preparing to unpack .../009-libnuma1_2.0.12-1_amd64.deb ...\n",
      "Unpacking libnuma1:amd64 (2.0.12-1) ...\n",
      "Selecting previously unselected package libusb-1.0-0:amd64.\n",
      "Preparing to unpack .../010-libusb-1.0-0_2%3a1.0.23-2build1_amd64.deb ...\n",
      "Unpacking libusb-1.0-0:amd64 (2:1.0.23-2build1) ...\n",
      "Selecting previously unselected package libxau6:amd64.\n",
      "Preparing to unpack .../011-libxau6_1%3a1.0.9-0ubuntu1_amd64.deb ...\n",
      "Unpacking libxau6:amd64 (1:1.0.9-0ubuntu1) ...\n",
      "Selecting previously unselected package libxdmcp6:amd64.\n",
      "Preparing to unpack .../012-libxdmcp6_1%3a1.1.3-0ubuntu1_amd64.deb ...\n",
      "Unpacking libxdmcp6:amd64 (1:1.1.3-0ubuntu1) ...\n",
      "Selecting previously unselected package libxcb1:amd64.\n",
      "Preparing to unpack .../013-libxcb1_1.14-2_amd64.deb ...\n",
      "Unpacking libxcb1:amd64 (1.14-2) ...\n",
      "Selecting previously unselected package libx11-data.\n",
      "Preparing to unpack .../014-libx11-data_2%3a1.6.9-2ubuntu1.2_all.deb ...\n",
      "Unpacking libx11-data (2:1.6.9-2ubuntu1.2) ...\n",
      "Selecting previously unselected package libx11-6:amd64.\n",
      "Preparing to unpack .../015-libx11-6_2%3a1.6.9-2ubuntu1.2_amd64.deb ...\n",
      "Unpacking libx11-6:amd64 (2:1.6.9-2ubuntu1.2) ...\n",
      "Selecting previously unselected package libxext6:amd64.\n",
      "Preparing to unpack .../016-libxext6_2%3a1.3.4-0ubuntu1_amd64.deb ...\n",
      "Unpacking libxext6:amd64 (2:1.3.4-0ubuntu1) ...\n",
      "Selecting previously unselected package libxmuu1:amd64.\n",
      "Preparing to unpack .../017-libxmuu1_2%3a1.1.3-0ubuntu1_amd64.deb ...\n",
      "Unpacking libxmuu1:amd64 (2:1.1.3-0ubuntu1) ...\n",
      "Selecting previously unselected package xauth.\n",
      "Preparing to unpack .../018-xauth_1%3a1.1-0ubuntu1_amd64.deb ...\n",
      "Unpacking xauth (1:1.1-0ubuntu1) ...\n",
      "Selecting previously unselected package alsa-topology-conf.\n",
      "Preparing to unpack .../019-alsa-topology-conf_1.2.2-1_all.deb ...\n",
      "Unpacking alsa-topology-conf (1.2.2-1) ...\n",
      "Selecting previously unselected package alsa-ucm-conf.\n",
      "Preparing to unpack .../020-alsa-ucm-conf_1.2.2-1ubuntu0.13_all.deb ...\n",
      "Unpacking alsa-ucm-conf (1.2.2-1ubuntu0.13) ...\n",
      "Selecting previously unselected package libaom0:amd64.\n",
      "Preparing to unpack .../021-libaom0_1.0.0.errata1-3build1_amd64.deb ...\n",
      "Unpacking libaom0:amd64 (1.0.0.errata1-3build1) ...\n",
      "Selecting previously unselected package libva2:amd64.\n",
      "Preparing to unpack .../022-libva2_2.7.0-2_amd64.deb ...\n",
      "Unpacking libva2:amd64 (2.7.0-2) ...\n",
      "Selecting previously unselected package libva-drm2:amd64.\n",
      "Preparing to unpack .../023-libva-drm2_2.7.0-2_amd64.deb ...\n",
      "Unpacking libva-drm2:amd64 (2.7.0-2) ...\n",
      "Selecting previously unselected package libxfixes3:amd64.\n",
      "Preparing to unpack .../024-libxfixes3_1%3a5.0.3-2_amd64.deb ...\n",
      "Unpacking libxfixes3:amd64 (1:5.0.3-2) ...\n",
      "Selecting previously unselected package libva-x11-2:amd64.\n",
      "Preparing to unpack .../025-libva-x11-2_2.7.0-2_amd64.deb ...\n",
      "Unpacking libva-x11-2:amd64 (2.7.0-2) ...\n",
      "Selecting previously unselected package libvdpau1:amd64.\n",
      "Preparing to unpack .../026-libvdpau1_1.3-1ubuntu2_amd64.deb ...\n",
      "Unpacking libvdpau1:amd64 (1.3-1ubuntu2) ...\n",
      "Selecting previously unselected package ocl-icd-libopencl1:amd64.\n",
      "Preparing to unpack .../027-ocl-icd-libopencl1_2.2.11-1ubuntu1_amd64.deb ...\n",
      "Unpacking ocl-icd-libopencl1:amd64 (2.2.11-1ubuntu1) ...\n",
      "Selecting previously unselected package libavutil56:amd64.\n",
      "Preparing to unpack .../028-libavutil56_7%3a4.2.7-0ubuntu0.1_amd64.deb ...\n",
      "Unpacking libavutil56:amd64 (7:4.2.7-0ubuntu0.1) ...\n",
      "Selecting previously unselected package fonts-dejavu-core.\n",
      "Preparing to unpack .../029-fonts-dejavu-core_2.37-1_all.deb ...\n",
      "Unpacking fonts-dejavu-core (2.37-1) ...\n",
      "Selecting previously unselected package fontconfig-config.\n",
      "Preparing to unpack .../030-fontconfig-config_2.13.1-2ubuntu3_all.deb ...\n",
      "Unpacking fontconfig-config (2.13.1-2ubuntu3) ...\n",
      "Selecting previously unselected package libfontconfig1:amd64.\n",
      "Preparing to unpack .../031-libfontconfig1_2.13.1-2ubuntu3_amd64.deb ...\n",
      "Unpacking libfontconfig1:amd64 (2.13.1-2ubuntu3) ...\n",
      "Selecting previously unselected package libpixman-1-0:amd64.\n",
      "Preparing to unpack .../032-libpixman-1-0_0.38.4-0ubuntu1_amd64.deb ...\n",
      "Unpacking libpixman-1-0:amd64 (0.38.4-0ubuntu1) ...\n",
      "Selecting previously unselected package libxcb-render0:amd64.\n",
      "Preparing to unpack .../033-libxcb-render0_1.14-2_amd64.deb ...\n",
      "Unpacking libxcb-render0:amd64 (1.14-2) ...\n",
      "Selecting previously unselected package libxcb-shm0:amd64.\n",
      "Preparing to unpack .../034-libxcb-shm0_1.14-2_amd64.deb ...\n",
      "Unpacking libxcb-shm0:amd64 (1.14-2) ...\n",
      "Selecting previously unselected package libxrender1:amd64.\n",
      "Preparing to unpack .../035-libxrender1_1%3a0.9.10-1_amd64.deb ...\n",
      "Unpacking libxrender1:amd64 (1:0.9.10-1) ...\n",
      "Selecting previously unselected package libcairo2:amd64.\n"
     ]
    },
    {
     "name": "stdout",
     "output_type": "stream",
     "text": [
      "Preparing to unpack .../036-libcairo2_1.16.0-4ubuntu1_amd64.deb ...\n",
      "Unpacking libcairo2:amd64 (1.16.0-4ubuntu1) ...\n",
      "Selecting previously unselected package libcodec2-0.9:amd64.\n",
      "Preparing to unpack .../037-libcodec2-0.9_0.9.2-2_amd64.deb ...\n",
      "Unpacking libcodec2-0.9:amd64 (0.9.2-2) ...\n",
      "Selecting previously unselected package libgsm1:amd64.\n",
      "Preparing to unpack .../038-libgsm1_1.0.18-2_amd64.deb ...\n",
      "Unpacking libgsm1:amd64 (1.0.18-2) ...\n",
      "Selecting previously unselected package libmp3lame0:amd64.\n",
      "Preparing to unpack .../039-libmp3lame0_3.100-3_amd64.deb ...\n",
      "Unpacking libmp3lame0:amd64 (3.100-3) ...\n",
      "Selecting previously unselected package libopenjp2-7:amd64.\n",
      "Preparing to unpack .../040-libopenjp2-7_2.3.1-1ubuntu4.20.04.1_amd64.deb ...\n",
      "Unpacking libopenjp2-7:amd64 (2.3.1-1ubuntu4.20.04.1) ...\n",
      "Selecting previously unselected package libopus0:amd64.\n",
      "Preparing to unpack .../041-libopus0_1.3.1-0ubuntu1_amd64.deb ...\n",
      "Unpacking libopus0:amd64 (1.3.1-0ubuntu1) ...\n",
      "Selecting previously unselected package libcairo-gobject2:amd64.\n",
      "Preparing to unpack .../042-libcairo-gobject2_1.16.0-4ubuntu1_amd64.deb ...\n",
      "Unpacking libcairo-gobject2:amd64 (1.16.0-4ubuntu1) ...\n",
      "Selecting previously unselected package libjbig0:amd64.\n",
      "Preparing to unpack .../043-libjbig0_2.1-3.1build1_amd64.deb ...\n",
      "Unpacking libjbig0:amd64 (2.1-3.1build1) ...\n",
      "Selecting previously unselected package libwebp6:amd64.\n",
      "Preparing to unpack .../044-libwebp6_0.6.1-2ubuntu0.20.04.1_amd64.deb ...\n",
      "Unpacking libwebp6:amd64 (0.6.1-2ubuntu0.20.04.1) ...\n",
      "Selecting previously unselected package libtiff5:amd64.\n",
      "Preparing to unpack .../045-libtiff5_4.1.0+git191117-2ubuntu0.20.04.3_amd64.deb ...\n",
      "Unpacking libtiff5:amd64 (4.1.0+git191117-2ubuntu0.20.04.3) ...\n",
      "Selecting previously unselected package libgdk-pixbuf2.0-common.\n",
      "Preparing to unpack .../046-libgdk-pixbuf2.0-common_2.40.0+dfsg-3ubuntu0.2_all.deb ...\n",
      "Unpacking libgdk-pixbuf2.0-common (2.40.0+dfsg-3ubuntu0.2) ...\n",
      "Selecting previously unselected package libgdk-pixbuf2.0-0:amd64.\n",
      "Preparing to unpack .../047-libgdk-pixbuf2.0-0_2.40.0+dfsg-3ubuntu0.2_amd64.deb ...\n",
      "Unpacking libgdk-pixbuf2.0-0:amd64 (2.40.0+dfsg-3ubuntu0.2) ...\n",
      "Selecting previously unselected package fontconfig.\n",
      "Preparing to unpack .../048-fontconfig_2.13.1-2ubuntu3_amd64.deb ...\n",
      "Unpacking fontconfig (2.13.1-2ubuntu3) ...\n",
      "Selecting previously unselected package libgraphite2-3:amd64.\n",
      "Preparing to unpack .../049-libgraphite2-3_1.3.13-11build1_amd64.deb ...\n",
      "Unpacking libgraphite2-3:amd64 (1.3.13-11build1) ...\n",
      "Selecting previously unselected package libharfbuzz0b:amd64.\n",
      "Preparing to unpack .../050-libharfbuzz0b_2.6.4-1ubuntu4_amd64.deb ...\n",
      "Unpacking libharfbuzz0b:amd64 (2.6.4-1ubuntu4) ...\n",
      "Selecting previously unselected package libthai-data.\n",
      "Preparing to unpack .../051-libthai-data_0.1.28-3_all.deb ...\n",
      "Unpacking libthai-data (0.1.28-3) ...\n",
      "Selecting previously unselected package libdatrie1:amd64.\n",
      "Preparing to unpack .../052-libdatrie1_0.2.12-3_amd64.deb ...\n",
      "Unpacking libdatrie1:amd64 (0.2.12-3) ...\n",
      "Selecting previously unselected package libthai0:amd64.\n",
      "Preparing to unpack .../053-libthai0_0.1.28-3_amd64.deb ...\n",
      "Unpacking libthai0:amd64 (0.1.28-3) ...\n",
      "Selecting previously unselected package libpango-1.0-0:amd64.\n",
      "Preparing to unpack .../054-libpango-1.0-0_1.44.7-2ubuntu4_amd64.deb ...\n",
      "Unpacking libpango-1.0-0:amd64 (1.44.7-2ubuntu4) ...\n",
      "Selecting previously unselected package libpangoft2-1.0-0:amd64.\n",
      "Preparing to unpack .../055-libpangoft2-1.0-0_1.44.7-2ubuntu4_amd64.deb ...\n",
      "Unpacking libpangoft2-1.0-0:amd64 (1.44.7-2ubuntu4) ...\n",
      "Selecting previously unselected package libpangocairo-1.0-0:amd64.\n",
      "Preparing to unpack .../056-libpangocairo-1.0-0_1.44.7-2ubuntu4_amd64.deb ...\n",
      "Unpacking libpangocairo-1.0-0:amd64 (1.44.7-2ubuntu4) ...\n",
      "Selecting previously unselected package librsvg2-2:amd64.\n",
      "Preparing to unpack .../057-librsvg2-2_2.48.9-1ubuntu0.20.04.1_amd64.deb ...\n",
      "Unpacking librsvg2-2:amd64 (2.48.9-1ubuntu0.20.04.1) ...\n",
      "Selecting previously unselected package libshine3:amd64.\n",
      "Preparing to unpack .../058-libshine3_3.1.1-2_amd64.deb ...\n",
      "Unpacking libshine3:amd64 (3.1.1-2) ...\n",
      "Selecting previously unselected package libsnappy1v5:amd64.\n",
      "Preparing to unpack .../059-libsnappy1v5_1.1.8-1build1_amd64.deb ...\n",
      "Unpacking libsnappy1v5:amd64 (1.1.8-1build1) ...\n",
      "Selecting previously unselected package libspeex1:amd64.\n",
      "Preparing to unpack .../060-libspeex1_1.2~rc1.2-1.1ubuntu1.20.04.1_amd64.deb ...\n",
      "Unpacking libspeex1:amd64 (1.2~rc1.2-1.1ubuntu1.20.04.1) ...\n",
      "Selecting previously unselected package libsoxr0:amd64.\n",
      "Preparing to unpack .../061-libsoxr0_0.1.3-2build1_amd64.deb ...\n",
      "Unpacking libsoxr0:amd64 (0.1.3-2build1) ...\n",
      "Selecting previously unselected package libswresample3:amd64.\n",
      "Preparing to unpack .../062-libswresample3_7%3a4.2.7-0ubuntu0.1_amd64.deb ...\n",
      "Unpacking libswresample3:amd64 (7:4.2.7-0ubuntu0.1) ...\n",
      "Selecting previously unselected package libogg0:amd64.\n",
      "Preparing to unpack .../063-libogg0_1.3.4-0ubuntu1_amd64.deb ...\n",
      "Unpacking libogg0:amd64 (1.3.4-0ubuntu1) ...\n",
      "Selecting previously unselected package libtheora0:amd64.\n",
      "Preparing to unpack .../064-libtheora0_1.1.1+dfsg.1-15ubuntu2_amd64.deb ...\n",
      "Unpacking libtheora0:amd64 (1.1.1+dfsg.1-15ubuntu2) ...\n",
      "Selecting previously unselected package libtwolame0:amd64.\n",
      "Preparing to unpack .../065-libtwolame0_0.4.0-2_amd64.deb ...\n",
      "Unpacking libtwolame0:amd64 (0.4.0-2) ...\n",
      "Selecting previously unselected package libvorbis0a:amd64.\n",
      "Preparing to unpack .../066-libvorbis0a_1.3.6-2ubuntu1_amd64.deb ...\n",
      "Unpacking libvorbis0a:amd64 (1.3.6-2ubuntu1) ...\n",
      "Selecting previously unselected package libvorbisenc2:amd64.\n",
      "Preparing to unpack .../067-libvorbisenc2_1.3.6-2ubuntu1_amd64.deb ...\n",
      "Unpacking libvorbisenc2:amd64 (1.3.6-2ubuntu1) ...\n",
      "Selecting previously unselected package libvpx6:amd64.\n",
      "Preparing to unpack .../068-libvpx6_1.8.2-1build1_amd64.deb ...\n",
      "Unpacking libvpx6:amd64 (1.8.2-1build1) ...\n",
      "Selecting previously unselected package libwavpack1:amd64.\n",
      "Preparing to unpack .../069-libwavpack1_5.2.0-1ubuntu0.1_amd64.deb ...\n",
      "Unpacking libwavpack1:amd64 (5.2.0-1ubuntu0.1) ...\n",
      "Selecting previously unselected package libwebpmux3:amd64.\n",
      "Preparing to unpack .../070-libwebpmux3_0.6.1-2ubuntu0.20.04.1_amd64.deb ...\n",
      "Unpacking libwebpmux3:amd64 (0.6.1-2ubuntu0.20.04.1) ...\n",
      "Selecting previously unselected package libx264-155:amd64.\n",
      "Preparing to unpack .../071-libx264-155_2%3a0.155.2917+git0a84d98-2_amd64.deb ...\n",
      "Unpacking libx264-155:amd64 (2:0.155.2917+git0a84d98-2) ...\n",
      "Selecting previously unselected package libx265-179:amd64.\n",
      "Preparing to unpack .../072-libx265-179_3.2.1-1build1_amd64.deb ...\n",
      "Unpacking libx265-179:amd64 (3.2.1-1build1) ...\n",
      "Selecting previously unselected package libxvidcore4:amd64.\n",
      "Preparing to unpack .../073-libxvidcore4_2%3a1.3.7-1_amd64.deb ...\n",
      "Unpacking libxvidcore4:amd64 (2:1.3.7-1) ...\n",
      "Selecting previously unselected package libzvbi-common.\n",
      "Preparing to unpack .../074-libzvbi-common_0.2.35-17_all.deb ...\n",
      "Unpacking libzvbi-common (0.2.35-17) ...\n",
      "Selecting previously unselected package libzvbi0:amd64.\n",
      "Preparing to unpack .../075-libzvbi0_0.2.35-17_amd64.deb ...\n",
      "Unpacking libzvbi0:amd64 (0.2.35-17) ...\n",
      "Selecting previously unselected package libavcodec58:amd64.\n",
      "Preparing to unpack .../076-libavcodec58_7%3a4.2.7-0ubuntu0.1_amd64.deb ...\n",
      "Unpacking libavcodec58:amd64 (7:4.2.7-0ubuntu0.1) ...\n",
      "Selecting previously unselected package libasound2-data.\n",
      "Preparing to unpack .../077-libasound2-data_1.2.2-2.1ubuntu2.5_all.deb ...\n",
      "Unpacking libasound2-data (1.2.2-2.1ubuntu2.5) ...\n",
      "Selecting previously unselected package libasound2:amd64.\n",
      "Preparing to unpack .../078-libasound2_1.2.2-2.1ubuntu2.5_amd64.deb ...\n",
      "Unpacking libasound2:amd64 (1.2.2-2.1ubuntu2.5) ...\n",
      "Selecting previously unselected package libraw1394-11:amd64.\n",
      "Preparing to unpack .../079-libraw1394-11_2.1.2-1_amd64.deb ...\n",
      "Unpacking libraw1394-11:amd64 (2.1.2-1) ...\n",
      "Selecting previously unselected package libavc1394-0:amd64.\n",
      "Preparing to unpack .../080-libavc1394-0_0.5.4-5_amd64.deb ...\n",
      "Unpacking libavc1394-0:amd64 (0.5.4-5) ...\n",
      "Selecting previously unselected package libass9:amd64.\n",
      "Preparing to unpack .../081-libass9_1%3a0.14.0-2_amd64.deb ...\n",
      "Unpacking libass9:amd64 (1:0.14.0-2) ...\n",
      "Selecting previously unselected package libbluray2:amd64.\n",
      "Preparing to unpack .../082-libbluray2_1%3a1.2.0-1_amd64.deb ...\n",
      "Unpacking libbluray2:amd64 (1:1.2.0-1) ...\n"
     ]
    },
    {
     "name": "stdout",
     "output_type": "stream",
     "text": [
      "Selecting previously unselected package libchromaprint1:amd64.\n",
      "Preparing to unpack .../083-libchromaprint1_1.4.3-3build1_amd64.deb ...\n",
      "Unpacking libchromaprint1:amd64 (1.4.3-3build1) ...\n",
      "Selecting previously unselected package libgme0:amd64.\n",
      "Preparing to unpack .../084-libgme0_0.6.2-1build1_amd64.deb ...\n",
      "Unpacking libgme0:amd64 (0.6.2-1build1) ...\n",
      "Selecting previously unselected package libmpg123-0:amd64.\n",
      "Preparing to unpack .../085-libmpg123-0_1.25.13-1_amd64.deb ...\n",
      "Unpacking libmpg123-0:amd64 (1.25.13-1) ...\n",
      "Selecting previously unselected package libvorbisfile3:amd64.\n",
      "Preparing to unpack .../086-libvorbisfile3_1.3.6-2ubuntu1_amd64.deb ...\n",
      "Unpacking libvorbisfile3:amd64 (1.3.6-2ubuntu1) ...\n",
      "Selecting previously unselected package libopenmpt0:amd64.\n",
      "Preparing to unpack .../087-libopenmpt0_0.4.11-1build1_amd64.deb ...\n",
      "Unpacking libopenmpt0:amd64 (0.4.11-1build1) ...\n",
      "Selecting previously unselected package libssh-gcrypt-4:amd64.\n",
      "Preparing to unpack .../088-libssh-gcrypt-4_0.9.3-2ubuntu2.2_amd64.deb ...\n",
      "Unpacking libssh-gcrypt-4:amd64 (0.9.3-2ubuntu2.2) ...\n",
      "Selecting previously unselected package libavformat58:amd64.\n",
      "Preparing to unpack .../089-libavformat58_7%3a4.2.7-0ubuntu0.1_amd64.deb ...\n",
      "Unpacking libavformat58:amd64 (7:4.2.7-0ubuntu0.1) ...\n",
      "Selecting previously unselected package libbs2b0:amd64.\n",
      "Preparing to unpack .../090-libbs2b0_3.1.0+dfsg-2.2build1_amd64.deb ...\n",
      "Unpacking libbs2b0:amd64 (3.1.0+dfsg-2.2build1) ...\n",
      "Selecting previously unselected package libflite1:amd64.\n",
      "Preparing to unpack .../091-libflite1_2.1-release-3_amd64.deb ...\n",
      "Unpacking libflite1:amd64 (2.1-release-3) ...\n",
      "Selecting previously unselected package libserd-0-0:amd64.\n",
      "Preparing to unpack .../092-libserd-0-0_0.30.2-1_amd64.deb ...\n",
      "Unpacking libserd-0-0:amd64 (0.30.2-1) ...\n",
      "Selecting previously unselected package libsord-0-0:amd64.\n",
      "Preparing to unpack .../093-libsord-0-0_0.16.4-1_amd64.deb ...\n",
      "Unpacking libsord-0-0:amd64 (0.16.4-1) ...\n",
      "Selecting previously unselected package libsratom-0-0:amd64.\n",
      "Preparing to unpack .../094-libsratom-0-0_0.6.4-1_amd64.deb ...\n",
      "Unpacking libsratom-0-0:amd64 (0.6.4-1) ...\n",
      "Selecting previously unselected package liblilv-0-0:amd64.\n",
      "Preparing to unpack .../095-liblilv-0-0_0.24.6-1ubuntu0.1_amd64.deb ...\n",
      "Unpacking liblilv-0-0:amd64 (0.24.6-1ubuntu0.1) ...\n",
      "Selecting previously unselected package libmysofa1:amd64.\n",
      "Preparing to unpack .../096-libmysofa1_1.0~dfsg0-1_amd64.deb ...\n",
      "Unpacking libmysofa1:amd64 (1.0~dfsg0-1) ...\n",
      "Selecting previously unselected package libpostproc55:amd64.\n",
      "Preparing to unpack .../097-libpostproc55_7%3a4.2.7-0ubuntu0.1_amd64.deb ...\n",
      "Unpacking libpostproc55:amd64 (7:4.2.7-0ubuntu0.1) ...\n",
      "Selecting previously unselected package libfftw3-double3:amd64.\n",
      "Preparing to unpack .../098-libfftw3-double3_3.3.8-2ubuntu1_amd64.deb ...\n",
      "Unpacking libfftw3-double3:amd64 (3.3.8-2ubuntu1) ...\n",
      "Selecting previously unselected package libsamplerate0:amd64.\n",
      "Preparing to unpack .../099-libsamplerate0_0.1.9-2_amd64.deb ...\n",
      "Unpacking libsamplerate0:amd64 (0.1.9-2) ...\n",
      "Selecting previously unselected package librubberband2:amd64.\n",
      "Preparing to unpack .../100-librubberband2_1.8.2-1build1_amd64.deb ...\n",
      "Unpacking librubberband2:amd64 (1.8.2-1build1) ...\n",
      "Selecting previously unselected package libswscale5:amd64.\n",
      "Preparing to unpack .../101-libswscale5_7%3a4.2.7-0ubuntu0.1_amd64.deb ...\n",
      "Unpacking libswscale5:amd64 (7:4.2.7-0ubuntu0.1) ...\n",
      "Selecting previously unselected package libvidstab1.1:amd64.\n",
      "Preparing to unpack .../102-libvidstab1.1_1.1.0-2_amd64.deb ...\n",
      "Unpacking libvidstab1.1:amd64 (1.1.0-2) ...\n",
      "Selecting previously unselected package libavfilter7:amd64.\n",
      "Preparing to unpack .../103-libavfilter7_7%3a4.2.7-0ubuntu0.1_amd64.deb ...\n",
      "Unpacking libavfilter7:amd64 (7:4.2.7-0ubuntu0.1) ...\n",
      "Selecting previously unselected package libcaca0:amd64.\n",
      "Preparing to unpack .../104-libcaca0_0.99.beta19-2.1ubuntu1.20.04.2_amd64.deb ...\n",
      "Unpacking libcaca0:amd64 (0.99.beta19-2.1ubuntu1.20.04.2) ...\n",
      "Selecting previously unselected package libcdio18:amd64.\n",
      "Preparing to unpack .../105-libcdio18_2.0.0-2_amd64.deb ...\n",
      "Unpacking libcdio18:amd64 (2.0.0-2) ...\n",
      "Selecting previously unselected package libcdio-cdda2:amd64.\n",
      "Preparing to unpack .../106-libcdio-cdda2_10.2+2.0.0-1_amd64.deb ...\n",
      "Unpacking libcdio-cdda2:amd64 (10.2+2.0.0-1) ...\n",
      "Selecting previously unselected package libcdio-paranoia2:amd64.\n",
      "Preparing to unpack .../107-libcdio-paranoia2_10.2+2.0.0-1_amd64.deb ...\n",
      "Unpacking libcdio-paranoia2:amd64 (10.2+2.0.0-1) ...\n",
      "Selecting previously unselected package libdc1394-22:amd64.\n",
      "Preparing to unpack .../108-libdc1394-22_2.2.5-2.1_amd64.deb ...\n",
      "Unpacking libdc1394-22:amd64 (2.2.5-2.1) ...\n",
      "Selecting previously unselected package libglvnd0:amd64.\n",
      "Preparing to unpack .../109-libglvnd0_1.3.2-1~ubuntu0.20.04.2_amd64.deb ...\n",
      "Unpacking libglvnd0:amd64 (1.3.2-1~ubuntu0.20.04.2) ...\n",
      "Selecting previously unselected package libglapi-mesa:amd64.\n",
      "Preparing to unpack .../110-libglapi-mesa_21.2.6-0ubuntu0.1~20.04.2_amd64.deb ...\n",
      "Unpacking libglapi-mesa:amd64 (21.2.6-0ubuntu0.1~20.04.2) ...\n",
      "Selecting previously unselected package libx11-xcb1:amd64.\n",
      "Preparing to unpack .../111-libx11-xcb1_2%3a1.6.9-2ubuntu1.2_amd64.deb ...\n",
      "Unpacking libx11-xcb1:amd64 (2:1.6.9-2ubuntu1.2) ...\n",
      "Selecting previously unselected package libxcb-dri2-0:amd64.\n",
      "Preparing to unpack .../112-libxcb-dri2-0_1.14-2_amd64.deb ...\n",
      "Unpacking libxcb-dri2-0:amd64 (1.14-2) ...\n",
      "Selecting previously unselected package libxcb-dri3-0:amd64.\n",
      "Preparing to unpack .../113-libxcb-dri3-0_1.14-2_amd64.deb ...\n",
      "Unpacking libxcb-dri3-0:amd64 (1.14-2) ...\n",
      "Selecting previously unselected package libxcb-glx0:amd64.\n",
      "Preparing to unpack .../114-libxcb-glx0_1.14-2_amd64.deb ...\n",
      "Unpacking libxcb-glx0:amd64 (1.14-2) ...\n",
      "Selecting previously unselected package libxcb-present0:amd64.\n",
      "Preparing to unpack .../115-libxcb-present0_1.14-2_amd64.deb ...\n",
      "Unpacking libxcb-present0:amd64 (1.14-2) ...\n",
      "Selecting previously unselected package libxcb-sync1:amd64.\n",
      "Preparing to unpack .../116-libxcb-sync1_1.14-2_amd64.deb ...\n",
      "Unpacking libxcb-sync1:amd64 (1.14-2) ...\n",
      "Selecting previously unselected package libxcb-xfixes0:amd64.\n",
      "Preparing to unpack .../117-libxcb-xfixes0_1.14-2_amd64.deb ...\n",
      "Unpacking libxcb-xfixes0:amd64 (1.14-2) ...\n",
      "Selecting previously unselected package libxshmfence1:amd64.\n",
      "Preparing to unpack .../118-libxshmfence1_1.3-1_amd64.deb ...\n",
      "Unpacking libxshmfence1:amd64 (1.3-1) ...\n",
      "Selecting previously unselected package libxxf86vm1:amd64.\n",
      "Preparing to unpack .../119-libxxf86vm1_1%3a1.1.4-1build1_amd64.deb ...\n",
      "Unpacking libxxf86vm1:amd64 (1:1.1.4-1build1) ...\n",
      "Selecting previously unselected package libdrm-amdgpu1:amd64.\n",
      "Preparing to unpack .../120-libdrm-amdgpu1_2.4.107-8ubuntu1~20.04.2_amd64.deb ...\n",
      "Unpacking libdrm-amdgpu1:amd64 (2.4.107-8ubuntu1~20.04.2) ...\n",
      "Selecting previously unselected package libpciaccess0:amd64.\n",
      "Preparing to unpack .../121-libpciaccess0_0.16-0ubuntu1_amd64.deb ...\n",
      "Unpacking libpciaccess0:amd64 (0.16-0ubuntu1) ...\n",
      "Selecting previously unselected package libdrm-intel1:amd64.\n",
      "Preparing to unpack .../122-libdrm-intel1_2.4.107-8ubuntu1~20.04.2_amd64.deb ...\n",
      "Unpacking libdrm-intel1:amd64 (2.4.107-8ubuntu1~20.04.2) ...\n",
      "Selecting previously unselected package libdrm-nouveau2:amd64.\n",
      "Preparing to unpack .../123-libdrm-nouveau2_2.4.107-8ubuntu1~20.04.2_amd64.deb ...\n",
      "Unpacking libdrm-nouveau2:amd64 (2.4.107-8ubuntu1~20.04.2) ...\n",
      "Selecting previously unselected package libdrm-radeon1:amd64.\n",
      "Preparing to unpack .../124-libdrm-radeon1_2.4.107-8ubuntu1~20.04.2_amd64.deb ...\n",
      "Unpacking libdrm-radeon1:amd64 (2.4.107-8ubuntu1~20.04.2) ...\n",
      "Selecting previously unselected package libllvm12:amd64.\n",
      "Preparing to unpack .../125-libllvm12_1%3a12.0.0-3ubuntu1~20.04.5_amd64.deb ...\n",
      "Unpacking libllvm12:amd64 (1:12.0.0-3ubuntu1~20.04.5) ...\n",
      "Selecting previously unselected package libsensors-config.\n",
      "Preparing to unpack .../126-libsensors-config_1%3a3.6.0-2ubuntu1.1_all.deb ...\n",
      "Unpacking libsensors-config (1:3.6.0-2ubuntu1.1) ...\n",
      "Selecting previously unselected package libsensors5:amd64.\n",
      "Preparing to unpack .../127-libsensors5_1%3a3.6.0-2ubuntu1.1_amd64.deb ...\n",
      "Unpacking libsensors5:amd64 (1:3.6.0-2ubuntu1.1) ...\n",
      "Selecting previously unselected package libvulkan1:amd64.\n",
      "Preparing to unpack .../128-libvulkan1_1.2.131.2-1_amd64.deb ...\n",
      "Unpacking libvulkan1:amd64 (1.2.131.2-1) ...\n"
     ]
    },
    {
     "name": "stdout",
     "output_type": "stream",
     "text": [
      "Selecting previously unselected package libgl1-mesa-dri:amd64.\n",
      "Preparing to unpack .../129-libgl1-mesa-dri_21.2.6-0ubuntu0.1~20.04.2_amd64.deb ...\n",
      "Unpacking libgl1-mesa-dri:amd64 (21.2.6-0ubuntu0.1~20.04.2) ...\n",
      "Selecting previously unselected package libglx-mesa0:amd64.\n",
      "Preparing to unpack .../130-libglx-mesa0_21.2.6-0ubuntu0.1~20.04.2_amd64.deb ...\n",
      "Unpacking libglx-mesa0:amd64 (21.2.6-0ubuntu0.1~20.04.2) ...\n",
      "Selecting previously unselected package libglx0:amd64.\n",
      "Preparing to unpack .../131-libglx0_1.3.2-1~ubuntu0.20.04.2_amd64.deb ...\n",
      "Unpacking libglx0:amd64 (1.3.2-1~ubuntu0.20.04.2) ...\n",
      "Selecting previously unselected package libgl1:amd64.\n",
      "Preparing to unpack .../132-libgl1_1.3.2-1~ubuntu0.20.04.2_amd64.deb ...\n",
      "Unpacking libgl1:amd64 (1.3.2-1~ubuntu0.20.04.2) ...\n",
      "Selecting previously unselected package libiec61883-0:amd64.\n",
      "Preparing to unpack .../133-libiec61883-0_1.2.0-3_amd64.deb ...\n",
      "Unpacking libiec61883-0:amd64 (1.2.0-3) ...\n",
      "Selecting previously unselected package libjack-jackd2-0:amd64.\n",
      "Preparing to unpack .../134-libjack-jackd2-0_1.9.12~dfsg-2ubuntu2_amd64.deb ...\n",
      "Unpacking libjack-jackd2-0:amd64 (1.9.12~dfsg-2ubuntu2) ...\n",
      "Selecting previously unselected package libopenal-data.\n",
      "Preparing to unpack .../135-libopenal-data_1%3a1.19.1-1_all.deb ...\n",
      "Unpacking libopenal-data (1:1.19.1-1) ...\n",
      "Selecting previously unselected package libsndio7.0:amd64.\n",
      "Preparing to unpack .../136-libsndio7.0_1.5.0-3_amd64.deb ...\n",
      "Unpacking libsndio7.0:amd64 (1.5.0-3) ...\n",
      "Selecting previously unselected package libopenal1:amd64.\n",
      "Preparing to unpack .../137-libopenal1_1%3a1.19.1-1_amd64.deb ...\n",
      "Unpacking libopenal1:amd64 (1:1.19.1-1) ...\n",
      "Selecting previously unselected package libasyncns0:amd64.\n",
      "Preparing to unpack .../138-libasyncns0_0.8-6_amd64.deb ...\n",
      "Unpacking libasyncns0:amd64 (0.8-6) ...\n",
      "Selecting previously unselected package libflac8:amd64.\n",
      "Preparing to unpack .../139-libflac8_1.3.3-1build1_amd64.deb ...\n",
      "Unpacking libflac8:amd64 (1.3.3-1build1) ...\n",
      "Selecting previously unselected package libsndfile1:amd64.\n",
      "Preparing to unpack .../140-libsndfile1_1.0.28-7ubuntu0.1_amd64.deb ...\n",
      "Unpacking libsndfile1:amd64 (1.0.28-7ubuntu0.1) ...\n",
      "Selecting previously unselected package libwrap0:amd64.\n",
      "Preparing to unpack .../141-libwrap0_7.6.q-30_amd64.deb ...\n",
      "Unpacking libwrap0:amd64 (7.6.q-30) ...\n",
      "Selecting previously unselected package libpulse0:amd64.\n",
      "Preparing to unpack .../142-libpulse0_1%3a13.99.1-1ubuntu3.13_amd64.deb ...\n",
      "Unpacking libpulse0:amd64 (1:13.99.1-1ubuntu3.13) ...\n",
      "Selecting previously unselected package libwayland-client0:amd64.\n",
      "Preparing to unpack .../143-libwayland-client0_1.18.0-1_amd64.deb ...\n",
      "Unpacking libwayland-client0:amd64 (1.18.0-1) ...\n",
      "Selecting previously unselected package libwayland-cursor0:amd64.\n",
      "Preparing to unpack .../144-libwayland-cursor0_1.18.0-1_amd64.deb ...\n",
      "Unpacking libwayland-cursor0:amd64 (1.18.0-1) ...\n",
      "Selecting previously unselected package libwayland-egl1:amd64.\n",
      "Preparing to unpack .../145-libwayland-egl1_1.18.0-1_amd64.deb ...\n",
      "Unpacking libwayland-egl1:amd64 (1.18.0-1) ...\n",
      "Selecting previously unselected package libxcursor1:amd64.\n",
      "Preparing to unpack .../146-libxcursor1_1%3a1.2.0-2_amd64.deb ...\n",
      "Unpacking libxcursor1:amd64 (1:1.2.0-2) ...\n",
      "Selecting previously unselected package libxi6:amd64.\n",
      "Preparing to unpack .../147-libxi6_2%3a1.7.10-0ubuntu1_amd64.deb ...\n",
      "Unpacking libxi6:amd64 (2:1.7.10-0ubuntu1) ...\n",
      "Selecting previously unselected package libxinerama1:amd64.\n",
      "Preparing to unpack .../148-libxinerama1_2%3a1.1.4-2_amd64.deb ...\n",
      "Unpacking libxinerama1:amd64 (2:1.1.4-2) ...\n",
      "Selecting previously unselected package libxkbcommon0:amd64.\n",
      "Preparing to unpack .../149-libxkbcommon0_0.10.0-1_amd64.deb ...\n",
      "Unpacking libxkbcommon0:amd64 (0.10.0-1) ...\n",
      "Selecting previously unselected package libxrandr2:amd64.\n",
      "Preparing to unpack .../150-libxrandr2_2%3a1.5.2-0ubuntu1_amd64.deb ...\n",
      "Unpacking libxrandr2:amd64 (2:1.5.2-0ubuntu1) ...\n",
      "Selecting previously unselected package x11-common.\n",
      "Preparing to unpack .../151-x11-common_1%3a7.7+19ubuntu14_all.deb ...\n",
      "dpkg-query: no packages found matching nux-tools\n",
      "Unpacking x11-common (1:7.7+19ubuntu14) ...\n",
      "Selecting previously unselected package libxss1:amd64.\n",
      "Preparing to unpack .../152-libxss1_1%3a1.2.3-1_amd64.deb ...\n",
      "Unpacking libxss1:amd64 (1:1.2.3-1) ...\n",
      "Selecting previously unselected package libsdl2-2.0-0:amd64.\n",
      "Preparing to unpack .../153-libsdl2-2.0-0_2.0.10+dfsg1-3_amd64.deb ...\n",
      "Unpacking libsdl2-2.0-0:amd64 (2.0.10+dfsg1-3) ...\n",
      "Selecting previously unselected package libxcb-shape0:amd64.\n",
      "Preparing to unpack .../154-libxcb-shape0_1.14-2_amd64.deb ...\n",
      "Unpacking libxcb-shape0:amd64 (1.14-2) ...\n",
      "Selecting previously unselected package libxv1:amd64.\n",
      "Preparing to unpack .../155-libxv1_2%3a1.0.11-1_amd64.deb ...\n",
      "Unpacking libxv1:amd64 (2:1.0.11-1) ...\n",
      "Selecting previously unselected package libavdevice58:amd64.\n",
      "Preparing to unpack .../156-libavdevice58_7%3a4.2.7-0ubuntu0.1_amd64.deb ...\n",
      "Unpacking libavdevice58:amd64 (7:4.2.7-0ubuntu0.1) ...\n",
      "Selecting previously unselected package libavresample4:amd64.\n",
      "Preparing to unpack .../157-libavresample4_7%3a4.2.7-0ubuntu0.1_amd64.deb ...\n",
      "Unpacking libavresample4:amd64 (7:4.2.7-0ubuntu0.1) ...\n",
      "Selecting previously unselected package ffmpeg.\n",
      "Preparing to unpack .../158-ffmpeg_7%3a4.2.7-0ubuntu0.1_amd64.deb ...\n",
      "Unpacking ffmpeg (7:4.2.7-0ubuntu0.1) ...\n",
      "Selecting previously unselected package libigdgmm11:amd64.\n",
      "Preparing to unpack .../159-libigdgmm11_20.1.1+ds1-1_amd64.deb ...\n",
      "Unpacking libigdgmm11:amd64 (20.1.1+ds1-1) ...\n",
      "Selecting previously unselected package intel-media-va-driver:amd64.\n",
      "Preparing to unpack .../160-intel-media-va-driver_20.1.1+dfsg1-1_amd64.deb ...\n",
      "Unpacking intel-media-va-driver:amd64 (20.1.1+dfsg1-1) ...\n",
      "Selecting previously unselected package libaacs0:amd64.\n",
      "Preparing to unpack .../161-libaacs0_0.9.0-2_amd64.deb ...\n",
      "Unpacking libaacs0:amd64 (0.9.0-2) ...\n",
      "Selecting previously unselected package libbdplus0:amd64.\n",
      "Preparing to unpack .../162-libbdplus0_0.1.2-3_amd64.deb ...\n",
      "Unpacking libbdplus0:amd64 (0.1.2-3) ...\n",
      "Selecting previously unselected package libfontenc1:amd64.\n",
      "Preparing to unpack .../163-libfontenc1_1%3a1.1.4-0ubuntu1_amd64.deb ...\n",
      "Unpacking libfontenc1:amd64 (1:1.1.4-0ubuntu1) ...\n",
      "Selecting previously unselected package libgdk-pixbuf2.0-bin.\n",
      "Preparing to unpack .../164-libgdk-pixbuf2.0-bin_2.40.0+dfsg-3ubuntu0.2_amd64.deb ...\n",
      "Unpacking libgdk-pixbuf2.0-bin (2.40.0+dfsg-3ubuntu0.2) ...\n",
      "Selecting previously unselected package libice6:amd64.\n",
      "Preparing to unpack .../165-libice6_2%3a1.0.10-0ubuntu1_amd64.deb ...\n",
      "Unpacking libice6:amd64 (2:1.0.10-0ubuntu1) ...\n",
      "Selecting previously unselected package librsvg2-common:amd64.\n",
      "Preparing to unpack .../166-librsvg2-common_2.48.9-1ubuntu0.20.04.1_amd64.deb ...\n",
      "Unpacking librsvg2-common:amd64 (2.48.9-1ubuntu0.20.04.1) ...\n",
      "Selecting previously unselected package libsm6:amd64.\n",
      "Preparing to unpack .../167-libsm6_2%3a1.2.3-1_amd64.deb ...\n",
      "Unpacking libsm6:amd64 (2:1.2.3-1) ...\n",
      "Selecting previously unselected package libunwind8:amd64.\n",
      "Preparing to unpack .../168-libunwind8_1.2.1-9build1_amd64.deb ...\n",
      "Unpacking libunwind8:amd64 (1.2.1-9build1) ...\n",
      "Selecting previously unselected package libxt6:amd64.\n",
      "Preparing to unpack .../169-libxt6_1%3a1.1.5-1_amd64.deb ...\n",
      "Unpacking libxt6:amd64 (1:1.1.5-1) ...\n",
      "Selecting previously unselected package libxmu6:amd64.\n",
      "Preparing to unpack .../170-libxmu6_2%3a1.1.3-0ubuntu1_amd64.deb ...\n",
      "Unpacking libxmu6:amd64 (2:1.1.3-0ubuntu1) ...\n",
      "Selecting previously unselected package libxpm4:amd64.\n",
      "Preparing to unpack .../171-libxpm4_1%3a3.5.12-1_amd64.deb ...\n",
      "Unpacking libxpm4:amd64 (1:3.5.12-1) ...\n",
      "Selecting previously unselected package libxaw7:amd64.\n",
      "Preparing to unpack .../172-libxaw7_2%3a1.0.13-1_amd64.deb ...\n",
      "Unpacking libxaw7:amd64 (2:1.0.13-1) ...\n",
      "Selecting previously unselected package libxcb-randr0:amd64.\n",
      "Preparing to unpack .../173-libxcb-randr0_1.14-2_amd64.deb ...\n",
      "Unpacking libxcb-randr0:amd64 (1.14-2) ...\n",
      "Selecting previously unselected package libxfont2:amd64.\n",
      "Preparing to unpack .../174-libxfont2_1%3a2.0.3-1_amd64.deb ...\n",
      "Unpacking libxfont2:amd64 (1:2.0.3-1) ...\n",
      "Selecting previously unselected package libxkbfile1:amd64.\n",
      "Preparing to unpack .../175-libxkbfile1_1%3a1.1.0-1_amd64.deb ...\n",
      "Unpacking libxkbfile1:amd64 (1:1.1.0-1) ...\n",
      "Selecting previously unselected package mesa-va-drivers:amd64.\n",
      "Preparing to unpack .../176-mesa-va-drivers_21.2.6-0ubuntu0.1~20.04.2_amd64.deb ...\n"
     ]
    },
    {
     "name": "stdout",
     "output_type": "stream",
     "text": [
      "Unpacking mesa-va-drivers:amd64 (21.2.6-0ubuntu0.1~20.04.2) ...\n",
      "Selecting previously unselected package mesa-vdpau-drivers:amd64.\n",
      "Preparing to unpack .../177-mesa-vdpau-drivers_21.2.6-0ubuntu0.1~20.04.2_amd64.deb ...\n",
      "Unpacking mesa-vdpau-drivers:amd64 (21.2.6-0ubuntu0.1~20.04.2) ...\n",
      "Selecting previously unselected package mesa-vulkan-drivers:amd64.\n",
      "Preparing to unpack .../178-mesa-vulkan-drivers_21.2.6-0ubuntu0.1~20.04.2_amd64.deb ...\n",
      "Unpacking mesa-vulkan-drivers:amd64 (21.2.6-0ubuntu0.1~20.04.2) ...\n",
      "Selecting previously unselected package i965-va-driver:amd64.\n",
      "Preparing to unpack .../179-i965-va-driver_2.4.0-0ubuntu1_amd64.deb ...\n",
      "Unpacking i965-va-driver:amd64 (2.4.0-0ubuntu1) ...\n",
      "Selecting previously unselected package va-driver-all:amd64.\n",
      "Preparing to unpack .../180-va-driver-all_2.7.0-2_amd64.deb ...\n",
      "Unpacking va-driver-all:amd64 (2.7.0-2) ...\n",
      "Selecting previously unselected package vdpau-driver-all:amd64.\n",
      "Preparing to unpack .../181-vdpau-driver-all_1.3-1ubuntu2_amd64.deb ...\n",
      "Unpacking vdpau-driver-all:amd64 (1.3-1ubuntu2) ...\n",
      "Selecting previously unselected package x11-xkb-utils.\n",
      "Preparing to unpack .../182-x11-xkb-utils_7.7+5_amd64.deb ...\n",
      "Unpacking x11-xkb-utils (7.7+5) ...\n",
      "Selecting previously unselected package xfonts-encodings.\n",
      "Preparing to unpack .../183-xfonts-encodings_1%3a1.0.5-0ubuntu1_all.deb ...\n",
      "Unpacking xfonts-encodings (1:1.0.5-0ubuntu1) ...\n",
      "Selecting previously unselected package xfonts-utils.\n",
      "Preparing to unpack .../184-xfonts-utils_1%3a7.7+6_amd64.deb ...\n",
      "Unpacking xfonts-utils (1:7.7+6) ...\n",
      "Selecting previously unselected package xfonts-base.\n",
      "Preparing to unpack .../185-xfonts-base_1%3a1.0.5_all.deb ...\n",
      "Unpacking xfonts-base (1:1.0.5) ...\n",
      "Selecting previously unselected package xserver-common.\n",
      "Preparing to unpack .../186-xserver-common_2%3a1.20.13-1ubuntu1~20.04.2_all.deb ...\n",
      "Unpacking xserver-common (2:1.20.13-1ubuntu1~20.04.2) ...\n",
      "Selecting previously unselected package xvfb.\n",
      "Preparing to unpack .../187-xvfb_2%3a1.20.13-1ubuntu1~20.04.2_amd64.deb ...\n",
      "Unpacking xvfb (2:1.20.13-1ubuntu1~20.04.2) ...\n",
      "Setting up libgme0:amd64 (0.6.2-1build1) ...\n",
      "Setting up libssh-gcrypt-4:amd64 (0.9.3-2ubuntu2.2) ...\n",
      "Setting up libgraphite2-3:amd64 (1.3.13-11build1) ...\n",
      "Setting up libpixman-1-0:amd64 (0.38.4-0ubuntu1) ...\n",
      "Setting up libx11-xcb1:amd64 (2:1.6.9-2ubuntu1.2) ...\n",
      "Setting up libpciaccess0:amd64 (0.16-0ubuntu1) ...\n",
      "Setting up libxau6:amd64 (1:1.0.9-0ubuntu1) ...\n",
      "Setting up libraw1394-11:amd64 (2.1.2-1) ...\n",
      "Setting up libmpg123-0:amd64 (1.25.13-1) ...\n",
      "Setting up libogg0:amd64 (1.3.4-0ubuntu1) ...\n",
      "Setting up libspeex1:amd64 (1.2~rc1.2-1.1ubuntu1.20.04.1) ...\n",
      "Setting up libshine3:amd64 (3.1.1-2) ...\n",
      "Setting up libtwolame0:amd64 (0.4.0-2) ...\n",
      "Setting up libdatrie1:amd64 (0.2.12-3) ...\n",
      "Setting up alsa-ucm-conf (1.2.2-1ubuntu0.13) ...\n",
      "Setting up libgsm1:amd64 (1.0.18-2) ...\n",
      "Setting up libx264-155:amd64 (2:0.155.2917+git0a84d98-2) ...\n",
      "Setting up libsoxr0:amd64 (0.1.3-2build1) ...\n",
      "Setting up libglvnd0:amd64 (1.3.2-1~ubuntu0.20.04.2) ...\n",
      "Setting up libaom0:amd64 (1.0.0.errata1-3build1) ...\n",
      "Setting up libgdk-pixbuf2.0-common (2.40.0+dfsg-3ubuntu0.2) ...\n",
      "Setting up libmysofa1:amd64 (1.0~dfsg0-1) ...\n",
      "Setting up x11-common (1:7.7+19ubuntu14) ...\n",
      "update-rc.d: warning: start and stop actions are no longer supported; falling back to defaults\n",
      "invoke-rc.d: could not determine current runlevel\n",
      "invoke-rc.d: policy-rc.d denied execution of start.\n",
      "Setting up libsensors-config (1:3.6.0-2ubuntu1.1) ...\n",
      "Setting up libcdio18:amd64 (2.0.0-2) ...\n",
      "Setting up xkb-data (2.29-2) ...\n",
      "Setting up libxvidcore4:amd64 (2:1.3.7-1) ...\n",
      "Setting up libunwind8:amd64 (1.2.1-9build1) ...\n",
      "Setting up libjbig0:amd64 (2.1-3.1build1) ...\n",
      "Setting up libsnappy1v5:amd64 (1.1.8-1build1) ...\n",
      "Setting up libflac8:amd64 (1.3.3-1build1) ...\n",
      "Setting up libasound2-data (1.2.2-2.1ubuntu2.5) ...\n",
      "Setting up libfontenc1:amd64 (1:1.1.4-0ubuntu1) ...\n",
      "Setting up libslang2:amd64 (2.3.2-4) ...\n",
      "Setting up libva2:amd64 (2.7.0-2) ...\n",
      "Setting up libwrap0:amd64 (7.6.q-30) ...\n",
      "Setting up libigdgmm11:amd64 (20.1.1+ds1-1) ...\n",
      "Setting up libx11-data (2:1.6.9-2ubuntu1.2) ...\n",
      "Setting up libcodec2-0.9:amd64 (0.9.2-2) ...\n",
      "Setting up xfonts-encodings (1:1.0.5-0ubuntu1) ...\n",
      "Setting up libfribidi0:amd64 (1.0.8-2ubuntu0.1) ...\n",
      "Setting up libopus0:amd64 (1.3.1-0ubuntu1) ...\n",
      "Setting up shared-mime-info (1.15-1) ...\n",
      "Setting up intel-media-va-driver:amd64 (20.1.1+dfsg1-1) ...\n",
      "Setting up libvorbis0a:amd64 (1.3.6-2ubuntu1) ...\n",
      "Setting up libwebp6:amd64 (0.6.1-2ubuntu0.20.04.1) ...\n",
      "Setting up fonts-dejavu-core (2.37-1) ...\n",
      "Setting up ucf (3.0038+nmu1) ...\n",
      "Setting up libsensors5:amd64 (1:3.6.0-2ubuntu1.1) ...\n",
      "Setting up libaacs0:amd64 (0.9.0-2) ...\n",
      "Setting up libfftw3-double3:amd64 (3.3.8-2ubuntu1) ...\n",
      "Setting up libglapi-mesa:amd64 (21.2.6-0ubuntu0.1~20.04.2) ...\n",
      "Setting up libvulkan1:amd64 (1.2.131.2-1) ...\n",
      "Setting up libbdplus0:amd64 (0.1.2-3) ...\n",
      "Setting up libnuma1:amd64 (2.0.12-1) ...\n",
      "Setting up libvidstab1.1:amd64 (1.1.0-2) ...\n",
      "Setting up alsa-topology-conf (1.2.2-1) ...\n",
      "Setting up ocl-icd-libopencl1:amd64 (2.2.11-1ubuntu1) ...\n",
      "Setting up libasyncns0:amd64 (0.8-6) ...\n",
      "Setting up libxshmfence1:amd64 (1.3-1) ...\n",
      "Setting up libvpx6:amd64 (1.8.2-1build1) ...\n",
      "Setting up libwavpack1:amd64 (5.2.0-1ubuntu0.1) ...\n",
      "Setting up libbs2b0:amd64 (3.1.0+dfsg-2.2build1) ...\n",
      "Setting up libasound2:amd64 (1.2.2-2.1ubuntu2.5) ...\n",
      "Setting up libopenjp2-7:amd64 (2.3.1-1ubuntu4.20.04.1) ...\n",
      "Setting up libharfbuzz0b:amd64 (2.6.4-1ubuntu4) ...\n",
      "Setting up libopenal-data (1:1.19.1-1) ...\n",
      "Setting up libthai-data (0.1.28-3) ...\n",
      "Setting up libtiff5:amd64 (4.1.0+git191117-2ubuntu0.20.04.3) ...\n",
      "Setting up libwayland-egl1:amd64 (1.18.0-1) ...\n",
      "Setting up libusb-1.0-0:amd64 (2:1.0.23-2build1) ...\n",
      "Setting up libsamplerate0:amd64 (0.1.9-2) ...\n"
     ]
    }
   ],
   "source": [
    "!apt-get update\n",
    "!apt-get install -y xvfb ffmpeg\n",
    "!pip install -q 'gym==0.10.11'\n",
    "!pip install -q 'imageio==2.4.0'\n",
    "!pip install -q PILLOW\n",
    "!pip install -q 'pyglet==1.3.2'\n",
    "!pip install -q pyvirtualdisplay\n",
    "!pip install -q tf-agents"
   ]
  },
  {
   "cell_type": "code",
   "execution_count": 3,
   "metadata": {
    "scrolled": false
   },
   "outputs": [
    {
     "data": {
      "text/plain": [
       "[name: \"/device:CPU:0\"\n",
       " device_type: \"CPU\"\n",
       " memory_limit: 268435456\n",
       " locality {\n",
       " }\n",
       " incarnation: 9967325491124490487\n",
       " xla_global_id: -1,\n",
       " name: \"/device:GPU:0\"\n",
       " device_type: \"GPU\"\n",
       " memory_limit: 5350490112\n",
       " locality {\n",
       "   bus_id: 1\n",
       "   links {\n",
       "   }\n",
       " }\n",
       " incarnation: 13314245434932472597\n",
       " physical_device_desc: \"device: 0, name: NVIDIA GeForce GTX 1060 6GB, pci bus id: 0000:01:00.0, compute capability: 6.1\"\n",
       " xla_global_id: 416903419]"
      ]
     },
     "execution_count": 3,
     "metadata": {},
     "output_type": "execute_result"
    }
   ],
   "source": [
    "from tensorflow.python.client import device_lib\n",
    "device_lib.list_local_devices()"
   ]
  },
  {
   "cell_type": "code",
   "execution_count": 4,
   "metadata": {
    "execution": {
     "iopub.execute_input": "2021-02-12T22:22:14.629019Z",
     "iopub.status.busy": "2021-02-12T22:22:14.628063Z",
     "iopub.status.idle": "2021-02-12T22:22:21.253624Z",
     "shell.execute_reply": "2021-02-12T22:22:21.252799Z"
    },
    "id": "sMitx5qSgJk1"
   },
   "outputs": [
    {
     "ename": "ModuleNotFoundError",
     "evalue": "No module named 'imageio'",
     "output_type": "error",
     "traceback": [
      "\u001b[0;31m---------------------------------------------------------------------------\u001b[0m",
      "\u001b[0;31mModuleNotFoundError\u001b[0m                       Traceback (most recent call last)",
      "Input \u001b[0;32mIn [4]\u001b[0m, in \u001b[0;36m<cell line: 4>\u001b[0;34m()\u001b[0m\n\u001b[1;32m      1\u001b[0m \u001b[38;5;28;01mfrom\u001b[39;00m \u001b[38;5;21;01m__future__\u001b[39;00m \u001b[38;5;28;01mimport\u001b[39;00m absolute_import, division, print_function\n\u001b[1;32m      3\u001b[0m \u001b[38;5;28;01mimport\u001b[39;00m \u001b[38;5;21;01mbase64\u001b[39;00m\n\u001b[0;32m----> 4\u001b[0m \u001b[38;5;28;01mimport\u001b[39;00m \u001b[38;5;21;01mimageio\u001b[39;00m\n\u001b[1;32m      5\u001b[0m \u001b[38;5;28;01mimport\u001b[39;00m \u001b[38;5;21;01mIPython\u001b[39;00m\n\u001b[1;32m      6\u001b[0m \u001b[38;5;28;01mimport\u001b[39;00m \u001b[38;5;21;01mmatplotlib\u001b[39;00m\n",
      "\u001b[0;31mModuleNotFoundError\u001b[0m: No module named 'imageio'"
     ]
    }
   ],
   "source": [
    "from __future__ import absolute_import, division, print_function\n",
    "\n",
    "import base64\n",
    "import imageio\n",
    "import IPython\n",
    "import matplotlib\n",
    "import matplotlib.pyplot as plt\n",
    "import numpy as np\n",
    "import PIL.Image\n",
    "import pyvirtualdisplay\n",
    "\n",
    "import tensorflow as tf\n",
    "\n",
    "from tf_agents.agents.dqn import dqn_agent\n",
    "from tf_agents.drivers import dynamic_step_driver\n",
    "from tf_agents.environments import suite_gym\n",
    "from tf_agents.environments import tf_py_environment\n",
    "from tf_agents.eval import metric_utils\n",
    "from tf_agents.metrics import tf_metrics\n",
    "from tf_agents.networks import q_network\n",
    "from tf_agents.policies import random_tf_policy\n",
    "from tf_agents.replay_buffers import tf_uniform_replay_buffer\n",
    "from tf_agents.trajectories import trajectory\n",
    "from tf_agents.utils import common"
   ]
  },
  {
   "cell_type": "code",
   "execution_count": null,
   "metadata": {
    "execution": {
     "iopub.execute_input": "2021-02-12T22:22:21.265848Z",
     "iopub.status.busy": "2021-02-12T22:22:21.265155Z",
     "iopub.status.idle": "2021-02-12T22:22:21.353942Z",
     "shell.execute_reply": "2021-02-12T22:22:21.354348Z"
    },
    "id": "J6HsdS5GbSjd"
   },
   "outputs": [],
   "source": [
    "tf.compat.v1.enable_v2_behavior()\n",
    "\n",
    "# Set up a virtual display for rendering OpenAI gym environments.\n",
    "display = pyvirtualdisplay.Display(visible=0, size=(1400, 900)).start()"
   ]
  },
  {
   "cell_type": "code",
   "execution_count": null,
   "metadata": {
    "execution": {
     "iopub.execute_input": "2021-02-12T22:22:21.360730Z",
     "iopub.status.busy": "2021-02-12T22:22:21.360005Z",
     "iopub.status.idle": "2021-02-12T22:22:21.363845Z",
     "shell.execute_reply": "2021-02-12T22:22:21.364227Z"
    },
    "id": "NspmzG4nP3b9"
   },
   "outputs": [],
   "source": [
    "tf.version.VERSION"
   ]
  },
  {
   "cell_type": "markdown",
   "metadata": {
    "id": "LmC0NDhdLIKY"
   },
   "source": [
    "## ハイパーパラメータ"
   ]
  },
  {
   "cell_type": "code",
   "execution_count": null,
   "metadata": {
    "execution": {
     "iopub.execute_input": "2021-02-12T22:22:21.368921Z",
     "iopub.status.busy": "2021-02-12T22:22:21.368085Z",
     "iopub.status.idle": "2021-02-12T22:22:21.370525Z",
     "shell.execute_reply": "2021-02-12T22:22:21.370033Z"
    },
    "id": "HC1kNrOsLSIZ"
   },
   "outputs": [],
   "source": [
    "num_iterations = 20000 # @param {type:\"integer\"}\n",
    "\n",
    "initial_collect_steps = 1000  # @param {type:\"integer\"} \n",
    "collect_steps_per_iteration = 1  # @param {type:\"integer\"}\n",
    "replay_buffer_max_length = 100000  # @param {type:\"integer\"}\n",
    "\n",
    "batch_size = 64  # @param {type:\"integer\"}\n",
    "learning_rate = 1e-3  # @param {type:\"number\"}\n",
    "log_interval = 200  # @param {type:\"integer\"}\n",
    "\n",
    "num_eval_episodes = 10  # @param {type:\"integer\"}\n",
    "eval_interval = 1000  # @param {type:\"integer\"}"
   ]
  },
  {
   "cell_type": "markdown",
   "metadata": {
    "id": "VMsJC3DEgI0x"
   },
   "source": [
    "## 環境\n",
    "\n",
    "強化学習（RL）では、環境はタスクまたは解決すべき問題を表します。標準環境は、`tf_agents.environments`スイートを使用して TF-Agent で作成できます。TF-Agent には、OpenAI Gym、Atari、DM Control などのソースから環境を読み込むためのスイートがあります。\n",
    "\n",
    "OpenAI Gym スイートから CartPole 環境を読み込みます。 "
   ]
  },
  {
   "cell_type": "code",
   "execution_count": null,
   "metadata": {
    "execution": {
     "iopub.execute_input": "2021-02-12T22:22:21.375146Z",
     "iopub.status.busy": "2021-02-12T22:22:21.374063Z",
     "iopub.status.idle": "2021-02-12T22:22:21.382998Z",
     "shell.execute_reply": "2021-02-12T22:22:21.383403Z"
    },
    "id": "pYEz-S9gEv2-"
   },
   "outputs": [],
   "source": [
    "env_name = 'CartPole-v0'\n",
    "env = suite_gym.load(env_name)"
   ]
  },
  {
   "cell_type": "markdown",
   "metadata": {
    "id": "IIHYVBkuvPNw"
   },
   "source": [
    "この環境をレンダリングして、どのように見えるかを確認できます。台車の上に自由に振り動く棒を立て、その棒が倒れないように台車を左右に動かすことが目標です。"
   ]
  },
  {
   "cell_type": "code",
   "execution_count": null,
   "metadata": {
    "execution": {
     "iopub.execute_input": "2021-02-12T22:22:21.389571Z",
     "iopub.status.busy": "2021-02-12T22:22:21.388670Z",
     "iopub.status.idle": "2021-02-12T22:22:21.850717Z",
     "shell.execute_reply": "2021-02-12T22:22:21.850258Z"
    },
    "id": "RlO7WIQHu_7D"
   },
   "outputs": [],
   "source": [
    "#@test {\"skip\": true}\n",
    "env.reset()\n",
    "PIL.Image.fromarray(env.render())"
   ]
  },
  {
   "cell_type": "markdown",
   "metadata": {
    "id": "B9_lskPOey18"
   },
   "source": [
    "`environment.step`メソッドは、環境内で`action`を取り、環境の次の観測と行動の報酬を含む`TimeStep`タプルを返します。\n",
    "\n",
    "`time_step_spec()`メソッドは、`TimeStep`タプルの仕様を返します。その`observation`属性は、観測の形状、データ型、および許容値の範囲を示します。`reward`属性は、報酬についての同じ詳細を示します。\n"
   ]
  },
  {
   "cell_type": "code",
   "execution_count": null,
   "metadata": {
    "execution": {
     "iopub.execute_input": "2021-02-12T22:22:21.859797Z",
     "iopub.status.busy": "2021-02-12T22:22:21.858969Z",
     "iopub.status.idle": "2021-02-12T22:22:21.861594Z",
     "shell.execute_reply": "2021-02-12T22:22:21.861978Z"
    },
    "id": "exDv57iHfwQV"
   },
   "outputs": [],
   "source": [
    "print('Observation Spec:')\n",
    "print(env.time_step_spec().observation)"
   ]
  },
  {
   "cell_type": "code",
   "execution_count": null,
   "metadata": {
    "execution": {
     "iopub.execute_input": "2021-02-12T22:22:21.866490Z",
     "iopub.status.busy": "2021-02-12T22:22:21.865749Z",
     "iopub.status.idle": "2021-02-12T22:22:21.868268Z",
     "shell.execute_reply": "2021-02-12T22:22:21.868700Z"
    },
    "id": "UxiSyCbBUQPi"
   },
   "outputs": [],
   "source": [
    "print('Reward Spec:')\n",
    "print(env.time_step_spec().reward)"
   ]
  },
  {
   "cell_type": "markdown",
   "metadata": {
    "id": "b_lHcIcqUaqB"
   },
   "source": [
    "`action_spec()`メソッドは、有効な行動の形状、データタイプ、および許容値を返します。"
   ]
  },
  {
   "cell_type": "code",
   "execution_count": null,
   "metadata": {
    "execution": {
     "iopub.execute_input": "2021-02-12T22:22:21.872899Z",
     "iopub.status.busy": "2021-02-12T22:22:21.872172Z",
     "iopub.status.idle": "2021-02-12T22:22:21.874769Z",
     "shell.execute_reply": "2021-02-12T22:22:21.875283Z"
    },
    "id": "bttJ4uxZUQBr"
   },
   "outputs": [],
   "source": [
    "print('Action Spec:')\n",
    "print(env.action_spec())"
   ]
  },
  {
   "cell_type": "markdown",
   "metadata": {
    "id": "eJCgJnx3g0yY"
   },
   "source": [
    "CartPole 環境では\n",
    "\n",
    "- `observation`は以下の 4 つの float 型の配列です。\n",
    "    - 台車の位置と速度\n",
    "    - 棒の角度位置と速度\n",
    "- `reward`はスカラーの浮動小数点値です\n",
    "- `action`は可能な値が 2 つだけのスカラー整数です。\n",
    "    - `0` — 「左に移動」\n",
    "    - `1` — 「右に移動」\n"
   ]
  },
  {
   "cell_type": "code",
   "execution_count": null,
   "metadata": {
    "execution": {
     "iopub.execute_input": "2021-02-12T22:22:21.882903Z",
     "iopub.status.busy": "2021-02-12T22:22:21.882258Z",
     "iopub.status.idle": "2021-02-12T22:22:21.885282Z",
     "shell.execute_reply": "2021-02-12T22:22:21.884820Z"
    },
    "id": "V2UGR5t_iZX-"
   },
   "outputs": [],
   "source": [
    "time_step = env.reset()\n",
    "print('Time step:')\n",
    "print(time_step)\n",
    "\n",
    "action = np.array(1, dtype=np.int32)\n",
    "\n",
    "next_time_step = env.step(action)\n",
    "print('Next time step:')\n",
    "print(next_time_step)"
   ]
  },
  {
   "cell_type": "markdown",
   "metadata": {
    "id": "4JSc9GviWUBK"
   },
   "source": [
    "通常、2 つの環境（トレーニング用、評価用）のみがインスタンス化されます。 "
   ]
  },
  {
   "cell_type": "code",
   "execution_count": null,
   "metadata": {
    "execution": {
     "iopub.execute_input": "2021-02-12T22:22:21.891274Z",
     "iopub.status.busy": "2021-02-12T22:22:21.890457Z",
     "iopub.status.idle": "2021-02-12T22:22:21.892464Z",
     "shell.execute_reply": "2021-02-12T22:22:21.892806Z"
    },
    "id": "N7brXNIGWXjC"
   },
   "outputs": [],
   "source": [
    "train_py_env = suite_gym.load(env_name)\n",
    "eval_py_env = suite_gym.load(env_name)"
   ]
  },
  {
   "cell_type": "markdown",
   "metadata": {
    "id": "zuUqXAVmecTU"
   },
   "source": [
    "CartPole 環境は、ほとんどの環境と同様に純粋な Python で記述されています。これは、`TFPyEnvironment`ラッパーを使用して TensorFlow に変換されます。\n",
    "\n",
    "従来の環境の API は Numpy 配列を使用します。`TFPyEnvironment`は、これらを`Tensors`に変換して、Tensorflow エージェントおよびポリシーとの互換性を確保します。\n"
   ]
  },
  {
   "cell_type": "code",
   "execution_count": null,
   "metadata": {
    "execution": {
     "iopub.execute_input": "2021-02-12T22:22:21.897609Z",
     "iopub.status.busy": "2021-02-12T22:22:21.896922Z",
     "iopub.status.idle": "2021-02-12T22:22:21.906184Z",
     "shell.execute_reply": "2021-02-12T22:22:21.906582Z"
    },
    "id": "Xp-Y4mD6eDhF"
   },
   "outputs": [],
   "source": [
    "train_env = tf_py_environment.TFPyEnvironment(train_py_env)\n",
    "eval_env = tf_py_environment.TFPyEnvironment(eval_py_env)"
   ]
  },
  {
   "cell_type": "markdown",
   "metadata": {
    "id": "E9lW_OZYFR8A"
   },
   "source": [
    "## エージェント\n",
    "\n",
    "RL問題の解決に使用されるアルゴリズムは、`Agent`で表されます。TF-Agent は、以下を含むさまざまな`Agents`の標準実装を提供します。\n",
    "\n",
    "- [DQN](https://storage.googleapis.com/deepmind-media/dqn/DQNNaturePaper.pdf)（本チュートリアルで使用）\n",
    "- [REINFORCE](http://www-anw.cs.umass.edu/~barto/courses/cs687/williams92simple.pdf)\n",
    "- [DDPG](https://arxiv.org/pdf/1509.02971.pdf)\n",
    "- [TD3](https://arxiv.org/pdf/1802.09477.pdf)\n",
    "- [PPO](https://arxiv.org/abs/1707.06347)\n",
    "- [SAC](https://arxiv.org/abs/1801.01290)\n",
    "\n",
    "DQN エージェントは、個別の行動領域がある任意の環境で使用できます。\n",
    "\n",
    "DQN エージェントの中心にあるのが`QNetwork`です。これは、環境から観察を得て、すべての行動の`QValues`（予期される戻り値）を予測する方法を学習するニューラルネットワークモデルです。\n",
    "\n",
    "`tf_agents.networks.q_network`を使用して`QNetwork`を作成し、`observation_spec`、`action_spec`、およびモデルの非表示レイヤーの数とサイズを表すタプルを渡します。\n"
   ]
  },
  {
   "cell_type": "code",
   "execution_count": null,
   "metadata": {
    "execution": {
     "iopub.execute_input": "2021-02-12T22:22:21.910972Z",
     "iopub.status.busy": "2021-02-12T22:22:21.910414Z",
     "iopub.status.idle": "2021-02-12T22:22:21.946848Z",
     "shell.execute_reply": "2021-02-12T22:22:21.946312Z"
    },
    "id": "TgkdEPg_muzV"
   },
   "outputs": [],
   "source": [
    "fc_layer_params = (100,)\n",
    "\n",
    "q_net = q_network.QNetwork(\n",
    "    train_env.observation_spec(),\n",
    "    train_env.action_spec(),\n",
    "    fc_layer_params=fc_layer_params)"
   ]
  },
  {
   "cell_type": "markdown",
   "metadata": {
    "id": "z62u55hSmviJ"
   },
   "source": [
    "`tf_agents.agents.dqn.dqn_agent`を使用して`DqnAgent`をインスタンス化します。`time_step_spec`、`action_spec`、および QNetwork に加えて、エージェントコンストラクタにもオプティマイザ（この場合、`AdamOptimizer`）、損失関数、および整数ステップカウンタが必要です。"
   ]
  },
  {
   "cell_type": "code",
   "execution_count": null,
   "metadata": {
    "execution": {
     "iopub.execute_input": "2021-02-12T22:22:22.634467Z",
     "iopub.status.busy": "2021-02-12T22:22:22.633673Z",
     "iopub.status.idle": "2021-02-12T22:22:23.953705Z",
     "shell.execute_reply": "2021-02-12T22:22:23.953164Z"
    },
    "id": "jbY4yrjTEyc9"
   },
   "outputs": [],
   "source": [
    "optimizer = tf.compat.v1.train.AdamOptimizer(learning_rate=learning_rate)\n",
    "\n",
    "train_step_counter = tf.Variable(0)\n",
    "\n",
    "agent = dqn_agent.DqnAgent(\n",
    "    train_env.time_step_spec(),\n",
    "    train_env.action_spec(),\n",
    "    q_network=q_net,\n",
    "    optimizer=optimizer,\n",
    "    td_errors_loss_fn=common.element_wise_squared_loss,\n",
    "    train_step_counter=train_step_counter)\n",
    "\n",
    "agent.initialize()"
   ]
  },
  {
   "cell_type": "markdown",
   "metadata": {
    "id": "I0KLrEPwkn5x"
   },
   "source": [
    "## ポリシー\n",
    "\n",
    "ポリシーは、エージェントが環境で行動する方法を定義します。通常、強化学習の目標は、ポリシーが望ましい結果を生成するまで、基礎となるモデルをトレーニングすることです。\n",
    "\n",
    "このチュートリアルでは\n",
    "\n",
    "- 望ましい結果は、台車の上の棒が倒れないようにバランスを保つことです。\n",
    "- ポリシーは、`time_step`観測ごとに行動（左または右）を返します。\n",
    "\n",
    "エージェントには 2 つのポリシーが含まれています。\n",
    "\n",
    "- `agent.policy` — 評価とデプロイに使用される主なポリシー。\n",
    "- `agent.collect_policy` — データ収集に使用される補助的なポリシー。\n"
   ]
  },
  {
   "cell_type": "code",
   "execution_count": null,
   "metadata": {
    "execution": {
     "iopub.execute_input": "2021-02-12T22:22:23.958289Z",
     "iopub.status.busy": "2021-02-12T22:22:23.957522Z",
     "iopub.status.idle": "2021-02-12T22:22:23.960142Z",
     "shell.execute_reply": "2021-02-12T22:22:23.959612Z"
    },
    "id": "BwY7StuMkuV4"
   },
   "outputs": [],
   "source": [
    "eval_policy = agent.policy\n",
    "collect_policy = agent.collect_policy"
   ]
  },
  {
   "cell_type": "markdown",
   "metadata": {
    "id": "2Qs1Fl3dV0ae"
   },
   "source": [
    "ポリシーはエージェントとは無関係に作成できます。たとえば、`tf_agents.policies.random_tf_policy`を使用して、各`time_step`の行動をランダムに選択するポリシーを作成できます。"
   ]
  },
  {
   "cell_type": "code",
   "execution_count": null,
   "metadata": {
    "execution": {
     "iopub.execute_input": "2021-02-12T22:22:23.964841Z",
     "iopub.status.busy": "2021-02-12T22:22:23.964081Z",
     "iopub.status.idle": "2021-02-12T22:22:23.966454Z",
     "shell.execute_reply": "2021-02-12T22:22:23.965992Z"
    },
    "id": "HE37-UCIrE69"
   },
   "outputs": [],
   "source": [
    "random_policy = random_tf_policy.RandomTFPolicy(train_env.time_step_spec(),\n",
    "                                                train_env.action_spec())"
   ]
  },
  {
   "cell_type": "markdown",
   "metadata": {
    "id": "dOlnlRRsUbxP"
   },
   "source": [
    "ポリシーから行動を取得するには、`policy.action(time_step)`メソッドを呼び出します。`time_step`には、環境からの観測が含まれています。このメソッドは、3 つのコンポーネントを持つ名前付きタプルである`PolicyStep`を返します。\n",
    "\n",
    "- `action` — 実行する行動（ここでは`0`または`1`)\n",
    "- `state` — ステートフルポリシー（RNNベース）に使用\n",
    "- `info` — 行動のログ確率などの補助データ"
   ]
  },
  {
   "cell_type": "code",
   "execution_count": null,
   "metadata": {
    "execution": {
     "iopub.execute_input": "2021-02-12T22:22:23.972096Z",
     "iopub.status.busy": "2021-02-12T22:22:23.971436Z",
     "iopub.status.idle": "2021-02-12T22:22:23.974875Z",
     "shell.execute_reply": "2021-02-12T22:22:23.974447Z"
    },
    "id": "5gCcpXswVAxk"
   },
   "outputs": [],
   "source": [
    "example_environment = tf_py_environment.TFPyEnvironment(\n",
    "    suite_gym.load('CartPole-v0'))"
   ]
  },
  {
   "cell_type": "code",
   "execution_count": null,
   "metadata": {
    "execution": {
     "iopub.execute_input": "2021-02-12T22:22:23.978975Z",
     "iopub.status.busy": "2021-02-12T22:22:23.978207Z",
     "iopub.status.idle": "2021-02-12T22:22:23.981476Z",
     "shell.execute_reply": "2021-02-12T22:22:23.980951Z"
    },
    "id": "D4DHZtq3Ndis"
   },
   "outputs": [],
   "source": [
    "time_step = example_environment.reset()"
   ]
  },
  {
   "cell_type": "code",
   "execution_count": null,
   "metadata": {
    "execution": {
     "iopub.execute_input": "2021-02-12T22:22:23.986127Z",
     "iopub.status.busy": "2021-02-12T22:22:23.985559Z",
     "iopub.status.idle": "2021-02-12T22:22:23.991615Z",
     "shell.execute_reply": "2021-02-12T22:22:23.991168Z"
    },
    "id": "PRFqAUzpNaAW"
   },
   "outputs": [],
   "source": [
    "random_policy.action(time_step)"
   ]
  },
  {
   "cell_type": "markdown",
   "metadata": {
    "id": "94rCXQtbUbXv"
   },
   "source": [
    "## 指標と評価\n",
    "\n",
    "ポリシーの評価に使用される最も一般的な指標は、平均リターンです。リターンは、エピソードの環境でポリシーを実行中に取得した報酬の合計です。エピソードは何回か実行され、平均リターンが生成されます。\n",
    "\n",
    "次の関数は、ポリシー、環境、およびエピソードの数を指定して、ポリシーの平均リターンを計算します。\n"
   ]
  },
  {
   "cell_type": "code",
   "execution_count": null,
   "metadata": {
    "execution": {
     "iopub.execute_input": "2021-02-12T22:22:23.997710Z",
     "iopub.status.busy": "2021-02-12T22:22:23.996994Z",
     "iopub.status.idle": "2021-02-12T22:22:23.999468Z",
     "shell.execute_reply": "2021-02-12T22:22:23.998979Z"
    },
    "id": "bitzHo5_UbXy"
   },
   "outputs": [],
   "source": [
    "#@test {\"skip\": true}\n",
    "def compute_avg_return(environment, policy, num_episodes=10):\n",
    "\n",
    "  total_return = 0.0\n",
    "  for _ in range(num_episodes):\n",
    "\n",
    "    time_step = environment.reset()\n",
    "    episode_return = 0.0\n",
    "\n",
    "    while not time_step.is_last():\n",
    "      action_step = policy.action(time_step)\n",
    "      time_step = environment.step(action_step.action)\n",
    "      episode_return += time_step.reward\n",
    "    total_return += episode_return\n",
    "\n",
    "  avg_return = total_return / num_episodes\n",
    "  return avg_return.numpy()[0]\n",
    "\n",
    "\n",
    "# See also the metrics module for standard implementations of different metrics.\n",
    "# https://github.com/tensorflow/agents/tree/master/tf_agents/metrics"
   ]
  },
  {
   "cell_type": "markdown",
   "metadata": {
    "id": "_snCVvq5Z8lJ"
   },
   "source": [
    "この計算を`random_policy`で実行すると、環境のベースラインパフォーマンスが示されます。"
   ]
  },
  {
   "cell_type": "code",
   "execution_count": null,
   "metadata": {
    "execution": {
     "iopub.execute_input": "2021-02-12T22:22:24.004020Z",
     "iopub.status.busy": "2021-02-12T22:22:24.003430Z",
     "iopub.status.idle": "2021-02-12T22:22:24.394562Z",
     "shell.execute_reply": "2021-02-12T22:22:24.394066Z"
    },
    "id": "9bgU6Q6BZ8Bp"
   },
   "outputs": [],
   "source": [
    "compute_avg_return(eval_env, random_policy, num_eval_episodes)"
   ]
  },
  {
   "cell_type": "markdown",
   "metadata": {
    "id": "NLva6g2jdWgr"
   },
   "source": [
    "## 再生バッファ\n",
    "\n",
    "再生バッファは、環境から収集されたデータを追跡します。このチュートリアルでは最も一般的な`tf_agents.replay_buffers.tf_uniform_replay_buffer.TFUniformReplayBuffer`を使用します。\n",
    "\n",
    "コンストラクタは、収集するデータの仕様を必要とします。これは、`collect_data_spec`メソッドを使用してエージェントから入手できます。バッチサイズと最大バッファ長も必要です。\n"
   ]
  },
  {
   "cell_type": "code",
   "execution_count": null,
   "metadata": {
    "execution": {
     "iopub.execute_input": "2021-02-12T22:22:24.399611Z",
     "iopub.status.busy": "2021-02-12T22:22:24.398982Z",
     "iopub.status.idle": "2021-02-12T22:22:24.409649Z",
     "shell.execute_reply": "2021-02-12T22:22:24.409234Z"
    },
    "id": "vX2zGUWJGWAl"
   },
   "outputs": [],
   "source": [
    "replay_buffer = tf_uniform_replay_buffer.TFUniformReplayBuffer(\n",
    "    data_spec=agent.collect_data_spec,\n",
    "    batch_size=train_env.batch_size,\n",
    "    max_length=replay_buffer_max_length)"
   ]
  },
  {
   "cell_type": "markdown",
   "metadata": {
    "id": "ZGNTDJpZs4NN"
   },
   "source": [
    "ほとんどのエージェントの場合、`collect_data_spec`は、`Trajectory`と呼ばれる名前付きタプルであり、観測、行動、報酬、およびその他の要素の仕様が含まれています。"
   ]
  },
  {
   "cell_type": "code",
   "execution_count": null,
   "metadata": {
    "execution": {
     "iopub.execute_input": "2021-02-12T22:22:24.414858Z",
     "iopub.status.busy": "2021-02-12T22:22:24.414068Z",
     "iopub.status.idle": "2021-02-12T22:22:24.417439Z",
     "shell.execute_reply": "2021-02-12T22:22:24.417005Z"
    },
    "id": "_IZ-3HcqgE1z"
   },
   "outputs": [],
   "source": [
    "agent.collect_data_spec"
   ]
  },
  {
   "cell_type": "code",
   "execution_count": null,
   "metadata": {
    "execution": {
     "iopub.execute_input": "2021-02-12T22:22:24.421568Z",
     "iopub.status.busy": "2021-02-12T22:22:24.420842Z",
     "iopub.status.idle": "2021-02-12T22:22:24.423986Z",
     "shell.execute_reply": "2021-02-12T22:22:24.423561Z"
    },
    "id": "sy6g1tGcfRlw"
   },
   "outputs": [],
   "source": [
    "agent.collect_data_spec._fields"
   ]
  },
  {
   "cell_type": "markdown",
   "metadata": {
    "id": "rVD5nQ9ZGo8_"
   },
   "source": [
    "## データ収集\n",
    "\n",
    "次に、環境でランダムポリシーを数ステップ実行し、データを再生バッファに記録します。"
   ]
  },
  {
   "cell_type": "code",
   "execution_count": null,
   "metadata": {
    "execution": {
     "iopub.execute_input": "2021-02-12T22:22:24.429670Z",
     "iopub.status.busy": "2021-02-12T22:22:24.429097Z",
     "iopub.status.idle": "2021-02-12T22:22:24.797209Z",
     "shell.execute_reply": "2021-02-12T22:22:24.797614Z"
    },
    "id": "wr1KSAEGG4h9"
   },
   "outputs": [],
   "source": [
    "#@test {\"skip\": true}\n",
    "def collect_step(environment, policy, buffer):\n",
    "  time_step = environment.current_time_step()\n",
    "  action_step = policy.action(time_step)\n",
    "  next_time_step = environment.step(action_step.action)\n",
    "  traj = trajectory.from_transition(time_step, action_step, next_time_step)\n",
    "\n",
    "  # Add trajectory to the replay buffer\n",
    "  buffer.add_batch(traj)\n",
    "\n",
    "def collect_data(env, policy, buffer, steps):\n",
    "  for _ in range(steps):\n",
    "    collect_step(env, policy, buffer)\n",
    "\n",
    "collect_data(train_env, random_policy, replay_buffer, steps=100)\n",
    "\n",
    "# This loop is so common in RL, that we provide standard implementations. \n",
    "# For more details see the drivers module.\n",
    "# https://www.tensorflow.org/agents/api_docs/python/tf_agents/drivers"
   ]
  },
  {
   "cell_type": "markdown",
   "metadata": {
    "id": "84z5pQJdoKxo"
   },
   "source": [
    "再生バッファは Trajectory のコレクションではありません。"
   ]
  },
  {
   "cell_type": "code",
   "execution_count": null,
   "metadata": {
    "execution": {
     "iopub.execute_input": "2021-02-12T22:22:24.801706Z",
     "iopub.status.busy": "2021-02-12T22:22:24.800991Z",
     "iopub.status.idle": "2021-02-12T22:22:24.802924Z",
     "shell.execute_reply": "2021-02-12T22:22:24.803319Z"
    },
    "id": "4wZnLu2ViO4E"
   },
   "outputs": [],
   "source": [
    "# For the curious:\n",
    "# Uncomment to peel one of these off and inspect it.\n",
    "# iter(replay_buffer.as_dataset()).next()"
   ]
  },
  {
   "cell_type": "markdown",
   "metadata": {
    "id": "TujU-PMUsKjS"
   },
   "source": [
    "エージェントは再生バッファにアクセスする必要があります。これは、エージェントにデータをフィードするイテレーション可能な`tf.data.Dataset`パイプラインを作成することにより提供されます。\n",
    "\n",
    "再生バッファの各行には、1 つの観測ステップのみが格納されます。しかし、DQN エージェントは損失を計算するためにその時点の観測と次の観測を両方必要とするので、データセットパイプラインは、バッチ内の要素ごとに2つの隣接する行をサンプリングします(`num_steps=2`)。\n",
    "\n",
    "また、このデータセットは、並列呼び出しを実行してデータをプリフェッチすることにより最適化されます。"
   ]
  },
  {
   "cell_type": "code",
   "execution_count": null,
   "metadata": {
    "execution": {
     "iopub.execute_input": "2021-02-12T22:22:24.807786Z",
     "iopub.status.busy": "2021-02-12T22:22:24.807174Z",
     "iopub.status.idle": "2021-02-12T22:22:25.495130Z",
     "shell.execute_reply": "2021-02-12T22:22:25.494624Z"
    },
    "id": "ba7bilizt_qW"
   },
   "outputs": [],
   "source": [
    "# Dataset generates trajectories with shape [Bx2x...]\n",
    "dataset = replay_buffer.as_dataset(\n",
    "    num_parallel_calls=3, \n",
    "    sample_batch_size=batch_size, \n",
    "    num_steps=2).prefetch(3)\n",
    "\n",
    "\n",
    "dataset"
   ]
  },
  {
   "cell_type": "code",
   "execution_count": null,
   "metadata": {
    "execution": {
     "iopub.execute_input": "2021-02-12T22:22:25.500181Z",
     "iopub.status.busy": "2021-02-12T22:22:25.499562Z",
     "iopub.status.idle": "2021-02-12T22:22:25.549920Z",
     "shell.execute_reply": "2021-02-12T22:22:25.549455Z"
    },
    "id": "K13AST-2ppOq"
   },
   "outputs": [],
   "source": [
    "iterator = iter(dataset)\n",
    "\n",
    "print(iterator)\n"
   ]
  },
  {
   "cell_type": "code",
   "execution_count": null,
   "metadata": {
    "execution": {
     "iopub.execute_input": "2021-02-12T22:22:25.553608Z",
     "iopub.status.busy": "2021-02-12T22:22:25.552910Z",
     "iopub.status.idle": "2021-02-12T22:22:25.555319Z",
     "shell.execute_reply": "2021-02-12T22:22:25.554833Z"
    },
    "id": "Th5w5Sff0b16"
   },
   "outputs": [],
   "source": [
    "# For the curious:\n",
    "# Uncomment to see what the dataset iterator is feeding to the agent.\n",
    "# Compare this representation of replay data \n",
    "# to the collection of individual trajectories shown earlier.\n",
    "\n",
    "# iterator.next()"
   ]
  },
  {
   "cell_type": "markdown",
   "metadata": {
    "id": "hBc9lj9VWWtZ"
   },
   "source": [
    "## エージェントのトレーニング\n",
    "\n",
    "トレーニングループ時には、以下の 2 つが行われる必要があります。\n",
    "\n",
    "- 環境からデータを収集する\n",
    "- そのデータを使用してエージェントのニューラルネットワークをトレーニングする\n",
    "\n",
    "この例では、定期的にポリシーを評価し、その時点のスコアを出力します。\n",
    "\n",
    "以下の実行には 5 分ほどかかります。"
   ]
  },
  {
   "cell_type": "code",
   "execution_count": null,
   "metadata": {
    "execution": {
     "iopub.execute_input": "2021-02-12T22:22:25.564760Z",
     "iopub.status.busy": "2021-02-12T22:22:25.564033Z",
     "iopub.status.idle": "2021-02-12T22:28:40.625837Z",
     "shell.execute_reply": "2021-02-12T22:28:40.626273Z"
    },
    "id": "0pTbJ3PeyF-u"
   },
   "outputs": [],
   "source": [
    "#@test {\"skip\": true}\n",
    "try:\n",
    "  %%time\n",
    "except:\n",
    "  pass\n",
    "\n",
    "# (Optional) Optimize by wrapping some of the code in a graph using TF function.\n",
    "agent.train = common.function(agent.train)\n",
    "\n",
    "# Reset the train step\n",
    "agent.train_step_counter.assign(0)\n",
    "\n",
    "# Evaluate the agent's policy once before training.\n",
    "avg_return = compute_avg_return(eval_env, agent.policy, num_eval_episodes)\n",
    "returns = [avg_return]\n",
    "\n",
    "for _ in range(num_iterations):\n",
    "\n",
    "  # Collect a few steps using collect_policy and save to the replay buffer.\n",
    "  for _ in range(collect_steps_per_iteration):\n",
    "    collect_step(train_env, agent.collect_policy, replay_buffer)\n",
    "\n",
    "  # Sample a batch of data from the buffer and update the agent's network.\n",
    "  experience, unused_info = next(iterator)\n",
    "  train_loss = agent.train(experience).loss\n",
    "\n",
    "  step = agent.train_step_counter.numpy()\n",
    "\n",
    "  if step % log_interval == 0:\n",
    "    print('step = {0}: loss = {1}'.format(step, train_loss))\n",
    "\n",
    "  if step % eval_interval == 0:\n",
    "    avg_return = compute_avg_return(eval_env, agent.policy, num_eval_episodes)\n",
    "    print('step = {0}: Average Return = {1}'.format(step, avg_return))\n",
    "    returns.append(avg_return)"
   ]
  },
  {
   "cell_type": "markdown",
   "metadata": {
    "id": "68jNcA_TiJDq"
   },
   "source": [
    "## 可視化\n"
   ]
  },
  {
   "cell_type": "markdown",
   "metadata": {
    "id": "aO-LWCdbbOIC"
   },
   "source": [
    "### プロット\n",
    "\n",
    "`matplotlib.pyplot`を使用して、トレーニング中にポリシーがどのように改善されたかをグラフ化します。\n",
    "\n",
    "`Cartpole-v0`の 1 回のイテレーションには、200のタイムステップがあります。環境は、棒が立ったままでいる各ステップに対して`+1`の報酬を与えるので、1 つのエピソードの最大リターンは 200 です。グラフは、トレーニング中に評価されるたびに、最大値に向かって増加するリターンを示しています。（多少不安定になり、毎回単調に増加しないこともあります。）"
   ]
  },
  {
   "cell_type": "code",
   "execution_count": null,
   "metadata": {
    "execution": {
     "iopub.execute_input": "2021-02-12T22:28:40.649147Z",
     "iopub.status.busy": "2021-02-12T22:28:40.645463Z",
     "iopub.status.idle": "2021-02-12T22:28:40.781202Z",
     "shell.execute_reply": "2021-02-12T22:28:40.780663Z"
    },
    "id": "NxtL1mbOYCVO"
   },
   "outputs": [],
   "source": [
    "#@test {\"skip\": true}\n",
    "\n",
    "iterations = range(0, num_iterations + 1, eval_interval)\n",
    "plt.plot(iterations, returns)\n",
    "plt.ylabel('Average Return')\n",
    "plt.xlabel('Iterations')\n",
    "plt.ylim(top=250)"
   ]
  },
  {
   "cell_type": "markdown",
   "metadata": {
    "id": "M7-XpPP99Cy7"
   },
   "source": [
    "### 動画"
   ]
  },
  {
   "cell_type": "markdown",
   "metadata": {
    "id": "9pGfGxSH32gn"
   },
   "source": [
    "グラフは便利ですが、エージェントが環境内で実際にタスクを実行している様子を動画で視覚化するとさらに分かりやすくなります。\n",
    "\n",
    "まず、ノートブックに動画を埋め込む関数を作成します。"
   ]
  },
  {
   "cell_type": "code",
   "execution_count": null,
   "metadata": {
    "execution": {
     "iopub.execute_input": "2021-02-12T22:28:40.786907Z",
     "iopub.status.busy": "2021-02-12T22:28:40.786251Z",
     "iopub.status.idle": "2021-02-12T22:28:40.788060Z",
     "shell.execute_reply": "2021-02-12T22:28:40.788545Z"
    },
    "id": "ULaGr8pvOKbl"
   },
   "outputs": [],
   "source": [
    "def embed_mp4(filename):\n",
    "  \"\"\"Embeds an mp4 file in the notebook.\"\"\"\n",
    "  video = open(filename,'rb').read()\n",
    "  b64 = base64.b64encode(video)\n",
    "  tag = '''\n",
    "  <video width=\"640\" height=\"480\" controls>\n",
    "    <source src=\"data:video/mp4;base64,{0}\" type=\"video/mp4\">\n",
    "  Your browser does not support the video tag.\n",
    "  </video>'''.format(b64.decode())\n",
    "\n",
    "  return IPython.display.HTML(tag)"
   ]
  },
  {
   "cell_type": "markdown",
   "metadata": {
    "id": "9c_PH-pX4Pr5"
   },
   "source": [
    "CartPole ゲームのいくつかのエピソードをエージェントで繰り返します。基礎となる Python 環境（TensorFlow 環境ラッパーの「内部」のもの）は、環境の状態のイメージを出力する`render()`メソッドを提供します。これらは動画に収集できます。"
   ]
  },
  {
   "cell_type": "code",
   "execution_count": null,
   "metadata": {
    "execution": {
     "iopub.execute_input": "2021-02-12T22:28:40.795218Z",
     "iopub.status.busy": "2021-02-12T22:28:40.794433Z",
     "iopub.status.idle": "2021-02-12T22:28:53.292173Z",
     "shell.execute_reply": "2021-02-12T22:28:53.292634Z"
    },
    "id": "owOVWB158NlF"
   },
   "outputs": [],
   "source": [
    "def create_policy_eval_video(policy, filename, num_episodes=5, fps=30):\n",
    "  filename = filename + \".mp4\"\n",
    "  with imageio.get_writer(filename, fps=fps) as video:\n",
    "    for _ in range(num_episodes):\n",
    "      time_step = eval_env.reset()\n",
    "      video.append_data(eval_py_env.render())\n",
    "      while not time_step.is_last():\n",
    "        action_step = policy.action(time_step)\n",
    "        time_step = eval_env.step(action_step.action)\n",
    "        video.append_data(eval_py_env.render())\n",
    "  return embed_mp4(filename)\n",
    "\n",
    "\n",
    "\n",
    "\n",
    "create_policy_eval_video(agent.policy, \"trained-agent\")"
   ]
  },
  {
   "cell_type": "markdown",
   "metadata": {
    "id": "povaAOcZygLw"
   },
   "source": [
    "トレーニングされたエージェント（上記）をランダムに移動するエージェントと比較してみてください。（ランダムに移動するエージェントは、トレーニングされたエージェントと比べて上手くできません。）"
   ]
  },
  {
   "cell_type": "code",
   "execution_count": null,
   "metadata": {
    "execution": {
     "iopub.execute_input": "2021-02-12T22:28:53.299295Z",
     "iopub.status.busy": "2021-02-12T22:28:53.298204Z",
     "iopub.status.idle": "2021-02-12T22:28:54.753046Z",
     "shell.execute_reply": "2021-02-12T22:28:54.752429Z"
    },
    "id": "pJZIdC37yNH4"
   },
   "outputs": [],
   "source": [
    "create_policy_eval_video(random_policy, \"random-agent\")"
   ]
  },
  {
   "cell_type": "code",
   "execution_count": null,
   "metadata": {},
   "outputs": [],
   "source": []
  },
  {
   "cell_type": "code",
   "execution_count": null,
   "metadata": {},
   "outputs": [],
   "source": []
  }
 ],
 "metadata": {
  "colab": {
   "collapsed_sections": [],
   "name": "1_dqn_tutorial.ipynb",
   "toc_visible": true
  },
  "kernelspec": {
   "display_name": "Python 3",
   "language": "python",
   "name": "python3"
  },
  "language_info": {
   "codemirror_mode": {
    "name": "ipython",
    "version": 3
   },
   "file_extension": ".py",
   "mimetype": "text/x-python",
   "name": "python",
   "nbconvert_exporter": "python",
   "pygments_lexer": "ipython3",
   "version": "3.8.10"
  }
 },
 "nbformat": 4,
 "nbformat_minor": 1
}
