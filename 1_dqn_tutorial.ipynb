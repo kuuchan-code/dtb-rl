{
 "cells": [
  {
   "cell_type": "code",
   "execution_count": 1,
   "metadata": {
    "scrolled": true
   },
   "outputs": [
    {
     "name": "stdout",
     "output_type": "stream",
     "text": [
      "[name: \"/device:CPU:0\"\n",
      "device_type: \"CPU\"\n",
      "memory_limit: 268435456\n",
      "locality {\n",
      "}\n",
      "incarnation: 11895978113161539762\n",
      "xla_global_id: -1\n",
      "]\n",
      "Num GPUs Available:  0\n"
     ]
    },
    {
     "name": "stderr",
     "output_type": "stream",
     "text": [
      "2022-06-24 13:09:58.352408: I tensorflow/stream_executor/cuda/cuda_gpu_executor.cc:975] successful NUMA node read from SysFS had negative value (-1), but there must be at least one NUMA node, so returning NUMA node zero\n",
      "2022-06-24 13:09:58.543651: W tensorflow/stream_executor/platform/default/dso_loader.cc:64] Could not load dynamic library 'libcudnn.so.8'; dlerror: libcudnn.so.8: cannot open shared object file: No such file or directory\n",
      "2022-06-24 13:09:58.543676: W tensorflow/core/common_runtime/gpu/gpu_device.cc:1850] Cannot dlopen some GPU libraries. Please make sure the missing libraries mentioned above are installed properly if you would like to use GPU. Follow the guide at https://www.tensorflow.org/install/gpu for how to download and setup the required libraries for your platform.\n",
      "Skipping registering GPU devices...\n",
      "2022-06-24 13:09:58.642109: I tensorflow/stream_executor/cuda/cuda_gpu_executor.cc:975] successful NUMA node read from SysFS had negative value (-1), but there must be at least one NUMA node, so returning NUMA node zero\n",
      "2022-06-24 13:09:58.642297: W tensorflow/core/common_runtime/gpu/gpu_device.cc:1850] Cannot dlopen some GPU libraries. Please make sure the missing libraries mentioned above are installed properly if you would like to use GPU. Follow the guide at https://www.tensorflow.org/install/gpu for how to download and setup the required libraries for your platform.\n",
      "Skipping registering GPU devices...\n"
     ]
    }
   ],
   "source": [
    "from tensorflow.python.client import device_lib\n",
    "print(device_lib.list_local_devices())\n",
    "import tensorflow as tf\n",
    "print(\"Num GPUs Available: \", len(tf.config.experimental.list_physical_devices('GPU')))"
   ]
  },
  {
   "cell_type": "markdown",
   "metadata": {
    "id": "klGNgWREsvQv"
   },
   "source": [
    "##### Copyright 2018 The TF-Agents Authors."
   ]
  },
  {
   "cell_type": "code",
   "execution_count": 2,
   "metadata": {
    "cellView": "form",
    "execution": {
     "iopub.execute_input": "2021-02-12T22:21:58.440777Z",
     "iopub.status.busy": "2021-02-12T22:21:58.440184Z",
     "iopub.status.idle": "2021-02-12T22:21:58.441982Z",
     "shell.execute_reply": "2021-02-12T22:21:58.442345Z"
    },
    "id": "nQnmcm0oI1Q-"
   },
   "outputs": [],
   "source": [
    "#@title Licensed under the Apache License, Version 2.0 (the \"License\");\n",
    "# you may not use this file except in compliance with the License.\n",
    "# You may obtain a copy of the License at\n",
    "#\n",
    "# https://www.apache.org/licenses/LICENSE-2.0\n",
    "#\n",
    "# Unless required by applicable law or agreed to in writing, software\n",
    "# distributed under the License is distributed on an \"AS IS\" BASIS,\n",
    "# WITHOUT WARRANTIES OR CONDITIONS OF ANY KIND, either express or implied.\n",
    "# See the License for the specific language governing permissions and\n",
    "# limitations under the License."
   ]
  },
  {
   "cell_type": "markdown",
   "metadata": {
    "id": "pmDI-h7cI0tI"
   },
   "source": [
    "# TF-Agent を使用した Deep Q Network のトレーニング\n",
    "\n",
    "<table class=\"tfo-notebook-buttons\" align=\"left\">\n",
    "  <td><a target=\"_blank\" href=\"https://www.tensorflow.org/agents/tutorials/1_dqn_tutorial\"><img src=\"https://www.tensorflow.org/images/tf_logo_32px.png\"> TensorFlow.orgで表示</a></td>\n",
    "  <td><a target=\"_blank\" href=\"https://colab.research.google.com/github/tensorflow/docs-l10n/blob/master/site/ja/agents/tutorials/1_dqn_tutorial.ipynb\">     <img src=\"https://www.tensorflow.org/images/colab_logo_32px.png\">Google Colabで実行</a></td>\n",
    "  <td><a target=\"_blank\" href=\"https://github.com/tensorflow/docs-l10n/blob/master/site/ja/agents/tutorials/1_dqn_tutorial.ipynb\"><img src=\"https://www.tensorflow.org/images/GitHub-Mark-32px.png\">GitHub でソースを表示{</a></td>\n",
    "  <td><a href=\"https://storage.googleapis.com/tensorflow_docs/docs-l10n/site/ja/agents/tutorials/1_dqn_tutorial.ipynb\"><img src=\"https://www.tensorflow.org/images/download_logo_32px.png\">ノートブックをダウンロード/a0}</a></td>\n",
    "</table>"
   ]
  },
  {
   "cell_type": "markdown",
   "metadata": {
    "id": "lsaQlK8fFQqH"
   },
   "source": [
    "## はじめに\n"
   ]
  },
  {
   "cell_type": "markdown",
   "metadata": {
    "id": "cKOCZlhUgXVK"
   },
   "source": [
    "この例は、Cartpole環境でTF-Agentsライブラリを使用して[ DQN（Deep Q Networks）](https://storage.googleapis.com/deepmind-media/dqn/DQNNaturePaper.pdf)エージェントをトレーニングする方法を示しています。\n",
    "\n",
    "![Cartpole environment](https://raw.githubusercontent.com/tensorflow/agents/master/docs/tutorials/images/cartpole.png)\n",
    "\n",
    "ここでは、トレーニング、評価、データ収集のための強化学習（RL）パイプラインのすべてのコンポーネントについて説明します。\n",
    "\n",
    "このコードをライブで実行するには、上の [Google Colabで実行] リンクをクリックしてください。\n"
   ]
  },
  {
   "cell_type": "markdown",
   "metadata": {
    "id": "1u9QVVsShC9X"
   },
   "source": [
    "## セットアップ"
   ]
  },
  {
   "cell_type": "markdown",
   "metadata": {
    "id": "kNrNXKI7bINP"
   },
   "source": [
    "以下の依存関係をインストールしていない場合は、実行します。"
   ]
  },
  {
   "cell_type": "code",
   "execution_count": 3,
   "metadata": {
    "execution": {
     "iopub.execute_input": "2021-02-12T22:21:58.459190Z",
     "iopub.status.busy": "2021-02-12T22:21:58.458456Z",
     "iopub.status.idle": "2021-02-12T22:22:14.622083Z",
     "shell.execute_reply": "2021-02-12T22:22:14.621525Z"
    },
    "id": "KEHR2Ui-lo8O"
   },
   "outputs": [
    {
     "name": "stdout",
     "output_type": "stream",
     "text": [
      "Hit:1 https://developer.download.nvidia.com/compute/cuda/repos/ubuntu2004/x86_64  InRelease\n",
      "Ign:2 https://developer.download.nvidia.com/compute/machine-learning/repos/ubuntu1804/x86_64  InRelease\n",
      "Hit:3 https://developer.download.nvidia.com/compute/machine-learning/repos/ubuntu1804/x86_64  Release\n",
      "Hit:4 http://archive.ubuntu.com/ubuntu focal InRelease\n",
      "Hit:6 http://security.ubuntu.com/ubuntu focal-security InRelease\n",
      "Hit:7 http://archive.ubuntu.com/ubuntu focal-updates InRelease\n",
      "Hit:8 http://archive.ubuntu.com/ubuntu focal-backports InRelease\n",
      "Reading package lists... Done\n",
      "Reading package lists... Done\n",
      "Building dependency tree       \n",
      "Reading state information... Done\n",
      "ffmpeg is already the newest version (7:4.2.7-0ubuntu0.1).\n",
      "xvfb is already the newest version (2:1.20.13-1ubuntu1~20.04.2).\n",
      "0 upgraded, 0 newly installed, 0 to remove and 26 not upgraded.\n",
      "\u001b[31mERROR: After October 2020 you may experience errors when installing or updating packages. This is because pip will change the way that it resolves dependency conflicts.\n",
      "\n",
      "We recommend you use --use-feature=2020-resolver to test your packages with the new resolver before it becomes the default.\n",
      "\n",
      "tf-agents 0.13.0 requires gym<=0.23.0,>=0.17.0, but you'll have gym 0.10.11 which is incompatible.\u001b[0m\n",
      "\u001b[33mWARNING: You are using pip version 20.2.4; however, version 22.1.2 is available.\n",
      "You should consider upgrading via the '/usr/bin/python3 -m pip install --upgrade pip' command.\u001b[0m\n",
      "\u001b[33mWARNING: You are using pip version 20.2.4; however, version 22.1.2 is available.\n",
      "You should consider upgrading via the '/usr/bin/python3 -m pip install --upgrade pip' command.\u001b[0m\n",
      "\u001b[33mWARNING: You are using pip version 20.2.4; however, version 22.1.2 is available.\n",
      "You should consider upgrading via the '/usr/bin/python3 -m pip install --upgrade pip' command.\u001b[0m\n",
      "\u001b[33mWARNING: You are using pip version 20.2.4; however, version 22.1.2 is available.\n",
      "You should consider upgrading via the '/usr/bin/python3 -m pip install --upgrade pip' command.\u001b[0m\n",
      "\u001b[33mWARNING: You are using pip version 20.2.4; however, version 22.1.2 is available.\n",
      "You should consider upgrading via the '/usr/bin/python3 -m pip install --upgrade pip' command.\u001b[0m\n",
      "\u001b[33mWARNING: You are using pip version 20.2.4; however, version 22.1.2 is available.\n",
      "You should consider upgrading via the '/usr/bin/python3 -m pip install --upgrade pip' command.\u001b[0m\n"
     ]
    }
   ],
   "source": [
    "!apt-get update\n",
    "!apt-get install -y xvfb ffmpeg\n",
    "!pip install -q 'gym==0.10.11'\n",
    "!pip install -q 'imageio==2.4.0'\n",
    "!pip install -q PILLOW\n",
    "!pip install -q 'pyglet==1.3.2'\n",
    "!pip install -q pyvirtualdisplay\n",
    "!pip install -q tf-agents"
   ]
  },
  {
   "cell_type": "code",
   "execution_count": 4,
   "metadata": {
    "execution": {
     "iopub.execute_input": "2021-02-12T22:22:14.629019Z",
     "iopub.status.busy": "2021-02-12T22:22:14.628063Z",
     "iopub.status.idle": "2021-02-12T22:22:21.253624Z",
     "shell.execute_reply": "2021-02-12T22:22:21.252799Z"
    },
    "id": "sMitx5qSgJk1"
   },
   "outputs": [],
   "source": [
    "from __future__ import absolute_import, division, print_function\n",
    "\n",
    "import base64\n",
    "import imageio\n",
    "import IPython\n",
    "import matplotlib\n",
    "import matplotlib.pyplot as plt\n",
    "import numpy as np\n",
    "import PIL.Image\n",
    "import pyvirtualdisplay\n",
    "\n",
    "import tensorflow as tf\n",
    "\n",
    "from tf_agents.agents.dqn import dqn_agent\n",
    "from tf_agents.drivers import dynamic_step_driver\n",
    "from tf_agents.environments import suite_gym\n",
    "from tf_agents.environments import tf_py_environment\n",
    "from tf_agents.eval import metric_utils\n",
    "from tf_agents.metrics import tf_metrics\n",
    "from tf_agents.networks import q_network\n",
    "from tf_agents.policies import random_tf_policy\n",
    "from tf_agents.replay_buffers import tf_uniform_replay_buffer\n",
    "from tf_agents.trajectories import trajectory\n",
    "from tf_agents.utils import common"
   ]
  },
  {
   "cell_type": "code",
   "execution_count": 5,
   "metadata": {
    "execution": {
     "iopub.execute_input": "2021-02-12T22:22:21.265848Z",
     "iopub.status.busy": "2021-02-12T22:22:21.265155Z",
     "iopub.status.idle": "2021-02-12T22:22:21.353942Z",
     "shell.execute_reply": "2021-02-12T22:22:21.354348Z"
    },
    "id": "J6HsdS5GbSjd"
   },
   "outputs": [],
   "source": [
    "tf.compat.v1.enable_v2_behavior()\n",
    "\n",
    "# Set up a virtual display for rendering OpenAI gym environments.\n",
    "display = pyvirtualdisplay.Display(visible=0, size=(1400, 900)).start()"
   ]
  },
  {
   "cell_type": "code",
   "execution_count": 7,
   "metadata": {
    "execution": {
     "iopub.execute_input": "2021-02-12T22:22:21.360730Z",
     "iopub.status.busy": "2021-02-12T22:22:21.360005Z",
     "iopub.status.idle": "2021-02-12T22:22:21.363845Z",
     "shell.execute_reply": "2021-02-12T22:22:21.364227Z"
    },
    "id": "NspmzG4nP3b9"
   },
   "outputs": [
    {
     "data": {
      "text/plain": [
       "'2.9.1'"
      ]
     },
     "execution_count": 7,
     "metadata": {},
     "output_type": "execute_result"
    }
   ],
   "source": [
    "tf.version.VERSION"
   ]
  },
  {
   "cell_type": "markdown",
   "metadata": {
    "id": "LmC0NDhdLIKY"
   },
   "source": [
    "## ハイパーパラメータ"
   ]
  },
  {
   "cell_type": "code",
   "execution_count": 8,
   "metadata": {
    "execution": {
     "iopub.execute_input": "2021-02-12T22:22:21.368921Z",
     "iopub.status.busy": "2021-02-12T22:22:21.368085Z",
     "iopub.status.idle": "2021-02-12T22:22:21.370525Z",
     "shell.execute_reply": "2021-02-12T22:22:21.370033Z"
    },
    "id": "HC1kNrOsLSIZ"
   },
   "outputs": [],
   "source": [
    "num_iterations = 20000 # @param {type:\"integer\"}\n",
    "\n",
    "initial_collect_steps = 1000  # @param {type:\"integer\"} \n",
    "collect_steps_per_iteration = 1  # @param {type:\"integer\"}\n",
    "replay_buffer_max_length = 100000  # @param {type:\"integer\"}\n",
    "\n",
    "batch_size = 64  # @param {type:\"integer\"}\n",
    "learning_rate = 1e-3  # @param {type:\"number\"}\n",
    "log_interval = 200  # @param {type:\"integer\"}\n",
    "\n",
    "num_eval_episodes = 10  # @param {type:\"integer\"}\n",
    "eval_interval = 1000  # @param {type:\"integer\"}"
   ]
  },
  {
   "cell_type": "markdown",
   "metadata": {
    "id": "VMsJC3DEgI0x"
   },
   "source": [
    "## 環境\n",
    "\n",
    "強化学習（RL）では、環境はタスクまたは解決すべき問題を表します。標準環境は、`tf_agents.environments`スイートを使用して TF-Agent で作成できます。TF-Agent には、OpenAI Gym、Atari、DM Control などのソースから環境を読み込むためのスイートがあります。\n",
    "\n",
    "OpenAI Gym スイートから CartPole 環境を読み込みます。 "
   ]
  },
  {
   "cell_type": "code",
   "execution_count": 9,
   "metadata": {
    "execution": {
     "iopub.execute_input": "2021-02-12T22:22:21.375146Z",
     "iopub.status.busy": "2021-02-12T22:22:21.374063Z",
     "iopub.status.idle": "2021-02-12T22:22:21.382998Z",
     "shell.execute_reply": "2021-02-12T22:22:21.383403Z"
    },
    "id": "pYEz-S9gEv2-"
   },
   "outputs": [],
   "source": [
    "env_name = 'CartPole-v0'\n",
    "env = suite_gym.load(env_name)"
   ]
  },
  {
   "cell_type": "markdown",
   "metadata": {
    "id": "IIHYVBkuvPNw"
   },
   "source": [
    "この環境をレンダリングして、どのように見えるかを確認できます。台車の上に自由に振り動く棒を立て、その棒が倒れないように台車を左右に動かすことが目標です。"
   ]
  },
  {
   "cell_type": "code",
   "execution_count": 10,
   "metadata": {
    "execution": {
     "iopub.execute_input": "2021-02-12T22:22:21.389571Z",
     "iopub.status.busy": "2021-02-12T22:22:21.388670Z",
     "iopub.status.idle": "2021-02-12T22:22:21.850717Z",
     "shell.execute_reply": "2021-02-12T22:22:21.850258Z"
    },
    "id": "RlO7WIQHu_7D"
   },
   "outputs": [
    {
     "data": {
      "image/png": "[encoded data removed]",
      "text/plain": [
       "<PIL.Image.Image image mode=RGB size=600x400>"
      ]
     },
     "execution_count": 10,
     "metadata": {},
     "output_type": "execute_result"
    }
   ],
   "source": [
    "#@test {\"skip\": true}\n",
    "env.reset()\n",
    "PIL.Image.fromarray(env.render())"
   ]
  },
  {
   "cell_type": "markdown",
   "metadata": {
    "id": "B9_lskPOey18"
   },
   "source": [
    "`environment.step`メソッドは、環境内で`action`を取り、環境の次の観測と行動の報酬を含む`TimeStep`タプルを返します。\n",
    "\n",
    "`time_step_spec()`メソッドは、`TimeStep`タプルの仕様を返します。その`observation`属性は、観測の形状、データ型、および許容値の範囲を示します。`reward`属性は、報酬についての同じ詳細を示します。\n"
   ]
  },
  {
   "cell_type": "code",
   "execution_count": 11,
   "metadata": {
    "execution": {
     "iopub.execute_input": "2021-02-12T22:22:21.859797Z",
     "iopub.status.busy": "2021-02-12T22:22:21.858969Z",
     "iopub.status.idle": "2021-02-12T22:22:21.861594Z",
     "shell.execute_reply": "2021-02-12T22:22:21.861978Z"
    },
    "id": "exDv57iHfwQV"
   },
   "outputs": [
    {
     "name": "stdout",
     "output_type": "stream",
     "text": [
      "Observation Spec:\n",
      "BoundedArraySpec(shape=(4,), dtype=dtype('float32'), name='observation', minimum=[-4.8000002e+00 -3.4028235e+38 -4.1887903e-01 -3.4028235e+38], maximum=[4.8000002e+00 3.4028235e+38 4.1887903e-01 3.4028235e+38])\n"
     ]
    }
   ],
   "source": [
    "print('Observation Spec:')\n",
    "print(env.time_step_spec().observation)"
   ]
  },
  {
   "cell_type": "code",
   "execution_count": 12,
   "metadata": {
    "execution": {
     "iopub.execute_input": "2021-02-12T22:22:21.866490Z",
     "iopub.status.busy": "2021-02-12T22:22:21.865749Z",
     "iopub.status.idle": "2021-02-12T22:22:21.868268Z",
     "shell.execute_reply": "2021-02-12T22:22:21.868700Z"
    },
    "id": "UxiSyCbBUQPi"
   },
   "outputs": [
    {
     "name": "stdout",
     "output_type": "stream",
     "text": [
      "Reward Spec:\n",
      "ArraySpec(shape=(), dtype=dtype('float32'), name='reward')\n"
     ]
    }
   ],
   "source": [
    "print('Reward Spec:')\n",
    "print(env.time_step_spec().reward)"
   ]
  },
  {
   "cell_type": "markdown",
   "metadata": {
    "id": "b_lHcIcqUaqB"
   },
   "source": [
    "`action_spec()`メソッドは、有効な行動の形状、データタイプ、および許容値を返します。"
   ]
  },
  {
   "cell_type": "code",
   "execution_count": 13,
   "metadata": {
    "execution": {
     "iopub.execute_input": "2021-02-12T22:22:21.872899Z",
     "iopub.status.busy": "2021-02-12T22:22:21.872172Z",
     "iopub.status.idle": "2021-02-12T22:22:21.874769Z",
     "shell.execute_reply": "2021-02-12T22:22:21.875283Z"
    },
    "id": "bttJ4uxZUQBr"
   },
   "outputs": [
    {
     "name": "stdout",
     "output_type": "stream",
     "text": [
      "Action Spec:\n",
      "BoundedArraySpec(shape=(), dtype=dtype('int64'), name='action', minimum=0, maximum=1)\n"
     ]
    }
   ],
   "source": [
    "print('Action Spec:')\n",
    "print(env.action_spec())"
   ]
  },
  {
   "cell_type": "markdown",
   "metadata": {
    "id": "eJCgJnx3g0yY"
   },
   "source": [
    "CartPole 環境では\n",
    "\n",
    "- `observation`は以下の 4 つの float 型の配列です。\n",
    "    - 台車の位置と速度\n",
    "    - 棒の角度位置と速度\n",
    "- `reward`はスカラーの浮動小数点値です\n",
    "- `action`は可能な値が 2 つだけのスカラー整数です。\n",
    "    - `0` — 「左に移動」\n",
    "    - `1` — 「右に移動」\n"
   ]
  },
  {
   "cell_type": "code",
   "execution_count": 14,
   "metadata": {
    "execution": {
     "iopub.execute_input": "2021-02-12T22:22:21.882903Z",
     "iopub.status.busy": "2021-02-12T22:22:21.882258Z",
     "iopub.status.idle": "2021-02-12T22:22:21.885282Z",
     "shell.execute_reply": "2021-02-12T22:22:21.884820Z"
    },
    "id": "V2UGR5t_iZX-"
   },
   "outputs": [
    {
     "name": "stdout",
     "output_type": "stream",
     "text": [
      "Time step:\n",
      "TimeStep(\n",
      "{'discount': array(1., dtype=float32),\n",
      " 'observation': array([ 0.00698818, -0.02142338,  0.01765155,  0.03147965], dtype=float32),\n",
      " 'reward': array(0., dtype=float32),\n",
      " 'step_type': array(0, dtype=int32)})\n",
      "Next time step:\n",
      "TimeStep(\n",
      "{'discount': array(1., dtype=float32),\n",
      " 'observation': array([ 0.00655971,  0.17344105,  0.01828114, -0.25558218], dtype=float32),\n",
      " 'reward': array(1., dtype=float32),\n",
      " 'step_type': array(1, dtype=int32)})\n"
     ]
    }
   ],
   "source": [
    "time_step = env.reset()\n",
    "print('Time step:')\n",
    "print(time_step)\n",
    "\n",
    "action = np.array(1, dtype=np.int32)\n",
    "\n",
    "next_time_step = env.step(action)\n",
    "print('Next time step:')\n",
    "print(next_time_step)"
   ]
  },
  {
   "cell_type": "markdown",
   "metadata": {
    "id": "4JSc9GviWUBK"
   },
   "source": [
    "通常、2 つの環境（トレーニング用、評価用）のみがインスタンス化されます。 "
   ]
  },
  {
   "cell_type": "code",
   "execution_count": 15,
   "metadata": {
    "execution": {
     "iopub.execute_input": "2021-02-12T22:22:21.891274Z",
     "iopub.status.busy": "2021-02-12T22:22:21.890457Z",
     "iopub.status.idle": "2021-02-12T22:22:21.892464Z",
     "shell.execute_reply": "2021-02-12T22:22:21.892806Z"
    },
    "id": "N7brXNIGWXjC"
   },
   "outputs": [],
   "source": [
    "train_py_env = suite_gym.load(env_name)\n",
    "eval_py_env = suite_gym.load(env_name)"
   ]
  },
  {
   "cell_type": "markdown",
   "metadata": {
    "id": "zuUqXAVmecTU"
   },
   "source": [
    "CartPole 環境は、ほとんどの環境と同様に純粋な Python で記述されています。これは、`TFPyEnvironment`ラッパーを使用して TensorFlow に変換されます。\n",
    "\n",
    "従来の環境の API は Numpy 配列を使用します。`TFPyEnvironment`は、これらを`Tensors`に変換して、Tensorflow エージェントおよびポリシーとの互換性を確保します。\n"
   ]
  },
  {
   "cell_type": "code",
   "execution_count": 16,
   "metadata": {
    "execution": {
     "iopub.execute_input": "2021-02-12T22:22:21.897609Z",
     "iopub.status.busy": "2021-02-12T22:22:21.896922Z",
     "iopub.status.idle": "2021-02-12T22:22:21.906184Z",
     "shell.execute_reply": "2021-02-12T22:22:21.906582Z"
    },
    "id": "Xp-Y4mD6eDhF"
   },
   "outputs": [],
   "source": [
    "train_env = tf_py_environment.TFPyEnvironment(train_py_env)\n",
    "eval_env = tf_py_environment.TFPyEnvironment(eval_py_env)"
   ]
  },
  {
   "cell_type": "markdown",
   "metadata": {
    "id": "E9lW_OZYFR8A"
   },
   "source": [
    "## エージェント\n",
    "\n",
    "RL問題の解決に使用されるアルゴリズムは、`Agent`で表されます。TF-Agent は、以下を含むさまざまな`Agents`の標準実装を提供します。\n",
    "\n",
    "- [DQN](https://storage.googleapis.com/deepmind-media/dqn/DQNNaturePaper.pdf)（本チュートリアルで使用）\n",
    "- [REINFORCE](http://www-anw.cs.umass.edu/~barto/courses/cs687/williams92simple.pdf)\n",
    "- [DDPG](https://arxiv.org/pdf/1509.02971.pdf)\n",
    "- [TD3](https://arxiv.org/pdf/1802.09477.pdf)\n",
    "- [PPO](https://arxiv.org/abs/1707.06347)\n",
    "- [SAC](https://arxiv.org/abs/1801.01290)\n",
    "\n",
    "DQN エージェントは、個別の行動領域がある任意の環境で使用できます。\n",
    "\n",
    "DQN エージェントの中心にあるのが`QNetwork`です。これは、環境から観察を得て、すべての行動の`QValues`（予期される戻り値）を予測する方法を学習するニューラルネットワークモデルです。\n",
    "\n",
    "`tf_agents.networks.q_network`を使用して`QNetwork`を作成し、`observation_spec`、`action_spec`、およびモデルの非表示レイヤーの数とサイズを表すタプルを渡します。\n"
   ]
  },
  {
   "cell_type": "code",
   "execution_count": 17,
   "metadata": {
    "execution": {
     "iopub.execute_input": "2021-02-12T22:22:21.910972Z",
     "iopub.status.busy": "2021-02-12T22:22:21.910414Z",
     "iopub.status.idle": "2021-02-12T22:22:21.946848Z",
     "shell.execute_reply": "2021-02-12T22:22:21.946312Z"
    },
    "id": "TgkdEPg_muzV"
   },
   "outputs": [],
   "source": [
    "fc_layer_params = (100,)\n",
    "\n",
    "q_net = q_network.QNetwork(\n",
    "    train_env.observation_spec(),\n",
    "    train_env.action_spec(),\n",
    "    fc_layer_params=fc_layer_params)"
   ]
  },
  {
   "cell_type": "markdown",
   "metadata": {
    "id": "z62u55hSmviJ"
   },
   "source": [
    "`tf_agents.agents.dqn.dqn_agent`を使用して`DqnAgent`をインスタンス化します。`time_step_spec`、`action_spec`、および QNetwork に加えて、エージェントコンストラクタにもオプティマイザ（この場合、`AdamOptimizer`）、損失関数、および整数ステップカウンタが必要です。"
   ]
  },
  {
   "cell_type": "code",
   "execution_count": 18,
   "metadata": {
    "execution": {
     "iopub.execute_input": "2021-02-12T22:22:22.634467Z",
     "iopub.status.busy": "2021-02-12T22:22:22.633673Z",
     "iopub.status.idle": "2021-02-12T22:22:23.953705Z",
     "shell.execute_reply": "2021-02-12T22:22:23.953164Z"
    },
    "id": "jbY4yrjTEyc9"
   },
   "outputs": [],
   "source": [
    "optimizer = tf.compat.v1.train.AdamOptimizer(learning_rate=learning_rate)\n",
    "\n",
    "train_step_counter = tf.Variable(0)\n",
    "\n",
    "agent = dqn_agent.DqnAgent(\n",
    "    train_env.time_step_spec(),\n",
    "    train_env.action_spec(),\n",
    "    q_network=q_net,\n",
    "    optimizer=optimizer,\n",
    "    td_errors_loss_fn=common.element_wise_squared_loss,\n",
    "    train_step_counter=train_step_counter)\n",
    "\n",
    "agent.initialize()"
   ]
  },
  {
   "cell_type": "markdown",
   "metadata": {
    "id": "I0KLrEPwkn5x"
   },
   "source": [
    "## ポリシー\n",
    "\n",
    "ポリシーは、エージェントが環境で行動する方法を定義します。通常、強化学習の目標は、ポリシーが望ましい結果を生成するまで、基礎となるモデルをトレーニングすることです。\n",
    "\n",
    "このチュートリアルでは\n",
    "\n",
    "- 望ましい結果は、台車の上の棒が倒れないようにバランスを保つことです。\n",
    "- ポリシーは、`time_step`観測ごとに行動（左または右）を返します。\n",
    "\n",
    "エージェントには 2 つのポリシーが含まれています。\n",
    "\n",
    "- `agent.policy` — 評価とデプロイに使用される主なポリシー。\n",
    "- `agent.collect_policy` — データ収集に使用される補助的なポリシー。\n"
   ]
  },
  {
   "cell_type": "code",
   "execution_count": 19,
   "metadata": {
    "execution": {
     "iopub.execute_input": "2021-02-12T22:22:23.958289Z",
     "iopub.status.busy": "2021-02-12T22:22:23.957522Z",
     "iopub.status.idle": "2021-02-12T22:22:23.960142Z",
     "shell.execute_reply": "2021-02-12T22:22:23.959612Z"
    },
    "id": "BwY7StuMkuV4"
   },
   "outputs": [],
   "source": [
    "eval_policy = agent.policy\n",
    "collect_policy = agent.collect_policy"
   ]
  },
  {
   "cell_type": "markdown",
   "metadata": {
    "id": "2Qs1Fl3dV0ae"
   },
   "source": [
    "ポリシーはエージェントとは無関係に作成できます。たとえば、`tf_agents.policies.random_tf_policy`を使用して、各`time_step`の行動をランダムに選択するポリシーを作成できます。"
   ]
  },
  {
   "cell_type": "code",
   "execution_count": 20,
   "metadata": {
    "execution": {
     "iopub.execute_input": "2021-02-12T22:22:23.964841Z",
     "iopub.status.busy": "2021-02-12T22:22:23.964081Z",
     "iopub.status.idle": "2021-02-12T22:22:23.966454Z",
     "shell.execute_reply": "2021-02-12T22:22:23.965992Z"
    },
    "id": "HE37-UCIrE69"
   },
   "outputs": [],
   "source": [
    "random_policy = random_tf_policy.RandomTFPolicy(train_env.time_step_spec(),\n",
    "                                                train_env.action_spec())"
   ]
  },
  {
   "cell_type": "markdown",
   "metadata": {
    "id": "dOlnlRRsUbxP"
   },
   "source": [
    "ポリシーから行動を取得するには、`policy.action(time_step)`メソッドを呼び出します。`time_step`には、環境からの観測が含まれています。このメソッドは、3 つのコンポーネントを持つ名前付きタプルである`PolicyStep`を返します。\n",
    "\n",
    "- `action` — 実行する行動（ここでは`0`または`1`)\n",
    "- `state` — ステートフルポリシー（RNNベース）に使用\n",
    "- `info` — 行動のログ確率などの補助データ"
   ]
  },
  {
   "cell_type": "code",
   "execution_count": 21,
   "metadata": {
    "execution": {
     "iopub.execute_input": "2021-02-12T22:22:23.972096Z",
     "iopub.status.busy": "2021-02-12T22:22:23.971436Z",
     "iopub.status.idle": "2021-02-12T22:22:23.974875Z",
     "shell.execute_reply": "2021-02-12T22:22:23.974447Z"
    },
    "id": "5gCcpXswVAxk"
   },
   "outputs": [],
   "source": [
    "example_environment = tf_py_environment.TFPyEnvironment(\n",
    "    suite_gym.load('CartPole-v0'))"
   ]
  },
  {
   "cell_type": "code",
   "execution_count": 22,
   "metadata": {
    "execution": {
     "iopub.execute_input": "2021-02-12T22:22:23.978975Z",
     "iopub.status.busy": "2021-02-12T22:22:23.978207Z",
     "iopub.status.idle": "2021-02-12T22:22:23.981476Z",
     "shell.execute_reply": "2021-02-12T22:22:23.980951Z"
    },
    "id": "D4DHZtq3Ndis"
   },
   "outputs": [],
   "source": [
    "time_step = example_environment.reset()"
   ]
  },
  {
   "cell_type": "code",
   "execution_count": 23,
   "metadata": {
    "execution": {
     "iopub.execute_input": "2021-02-12T22:22:23.986127Z",
     "iopub.status.busy": "2021-02-12T22:22:23.985559Z",
     "iopub.status.idle": "2021-02-12T22:22:23.991615Z",
     "shell.execute_reply": "2021-02-12T22:22:23.991168Z"
    },
    "id": "PRFqAUzpNaAW"
   },
   "outputs": [
    {
     "data": {
      "text/plain": [
       "PolicyStep(action=<tf.Tensor: shape=(1,), dtype=int64, numpy=array([1])>, state=(), info=())"
      ]
     },
     "execution_count": 23,
     "metadata": {},
     "output_type": "execute_result"
    }
   ],
   "source": [
    "random_policy.action(time_step)"
   ]
  },
  {
   "cell_type": "markdown",
   "metadata": {
    "id": "94rCXQtbUbXv"
   },
   "source": [
    "## 指標と評価\n",
    "\n",
    "ポリシーの評価に使用される最も一般的な指標は、平均リターンです。リターンは、エピソードの環境でポリシーを実行中に取得した報酬の合計です。エピソードは何回か実行され、平均リターンが生成されます。\n",
    "\n",
    "次の関数は、ポリシー、環境、およびエピソードの数を指定して、ポリシーの平均リターンを計算します。\n"
   ]
  },
  {
   "cell_type": "code",
   "execution_count": 24,
   "metadata": {
    "execution": {
     "iopub.execute_input": "2021-02-12T22:22:23.997710Z",
     "iopub.status.busy": "2021-02-12T22:22:23.996994Z",
     "iopub.status.idle": "2021-02-12T22:22:23.999468Z",
     "shell.execute_reply": "2021-02-12T22:22:23.998979Z"
    },
    "id": "bitzHo5_UbXy"
   },
   "outputs": [],
   "source": [
    "#@test {\"skip\": true}\n",
    "def compute_avg_return(environment, policy, num_episodes=10):\n",
    "\n",
    "  total_return = 0.0\n",
    "  for _ in range(num_episodes):\n",
    "\n",
    "    time_step = environment.reset()\n",
    "    episode_return = 0.0\n",
    "\n",
    "    while not time_step.is_last():\n",
    "      action_step = policy.action(time_step)\n",
    "      time_step = environment.step(action_step.action)\n",
    "      episode_return += time_step.reward\n",
    "    total_return += episode_return\n",
    "\n",
    "  avg_return = total_return / num_episodes\n",
    "  return avg_return.numpy()[0]\n",
    "\n",
    "\n",
    "# See also the metrics module for standard implementations of different metrics.\n",
    "# https://github.com/tensorflow/agents/tree/master/tf_agents/metrics"
   ]
  },
  {
   "cell_type": "markdown",
   "metadata": {
    "id": "_snCVvq5Z8lJ"
   },
   "source": [
    "この計算を`random_policy`で実行すると、環境のベースラインパフォーマンスが示されます。"
   ]
  },
  {
   "cell_type": "code",
   "execution_count": 25,
   "metadata": {
    "execution": {
     "iopub.execute_input": "2021-02-12T22:22:24.004020Z",
     "iopub.status.busy": "2021-02-12T22:22:24.003430Z",
     "iopub.status.idle": "2021-02-12T22:22:24.394562Z",
     "shell.execute_reply": "2021-02-12T22:22:24.394066Z"
    },
    "id": "9bgU6Q6BZ8Bp"
   },
   "outputs": [
    {
     "data": {
      "text/plain": [
       "25.8"
      ]
     },
     "execution_count": 25,
     "metadata": {},
     "output_type": "execute_result"
    }
   ],
   "source": [
    "compute_avg_return(eval_env, random_policy, num_eval_episodes)"
   ]
  },
  {
   "cell_type": "markdown",
   "metadata": {
    "id": "NLva6g2jdWgr"
   },
   "source": [
    "## 再生バッファ\n",
    "\n",
    "再生バッファは、環境から収集されたデータを追跡します。このチュートリアルでは最も一般的な`tf_agents.replay_buffers.tf_uniform_replay_buffer.TFUniformReplayBuffer`を使用します。\n",
    "\n",
    "コンストラクタは、収集するデータの仕様を必要とします。これは、`collect_data_spec`メソッドを使用してエージェントから入手できます。バッチサイズと最大バッファ長も必要です。\n"
   ]
  },
  {
   "cell_type": "code",
   "execution_count": 26,
   "metadata": {
    "execution": {
     "iopub.execute_input": "2021-02-12T22:22:24.399611Z",
     "iopub.status.busy": "2021-02-12T22:22:24.398982Z",
     "iopub.status.idle": "2021-02-12T22:22:24.409649Z",
     "shell.execute_reply": "2021-02-12T22:22:24.409234Z"
    },
    "id": "vX2zGUWJGWAl"
   },
   "outputs": [],
   "source": [
    "replay_buffer = tf_uniform_replay_buffer.TFUniformReplayBuffer(\n",
    "    data_spec=agent.collect_data_spec,\n",
    "    batch_size=train_env.batch_size,\n",
    "    max_length=replay_buffer_max_length)"
   ]
  },
  {
   "cell_type": "markdown",
   "metadata": {
    "id": "ZGNTDJpZs4NN"
   },
   "source": [
    "ほとんどのエージェントの場合、`collect_data_spec`は、`Trajectory`と呼ばれる名前付きタプルであり、観測、行動、報酬、およびその他の要素の仕様が含まれています。"
   ]
  },
  {
   "cell_type": "code",
   "execution_count": 27,
   "metadata": {
    "execution": {
     "iopub.execute_input": "2021-02-12T22:22:24.414858Z",
     "iopub.status.busy": "2021-02-12T22:22:24.414068Z",
     "iopub.status.idle": "2021-02-12T22:22:24.417439Z",
     "shell.execute_reply": "2021-02-12T22:22:24.417005Z"
    },
    "id": "_IZ-3HcqgE1z"
   },
   "outputs": [
    {
     "data": {
      "text/plain": [
       "Trajectory(\n",
       "{'action': BoundedTensorSpec(shape=(), dtype=tf.int64, name='action', minimum=array(0), maximum=array(1)),\n",
       " 'discount': BoundedTensorSpec(shape=(), dtype=tf.float32, name='discount', minimum=array(0., dtype=float32), maximum=array(1., dtype=float32)),\n",
       " 'next_step_type': TensorSpec(shape=(), dtype=tf.int32, name='step_type'),\n",
       " 'observation': BoundedTensorSpec(shape=(4,), dtype=tf.float32, name='observation', minimum=array([-4.8000002e+00, -3.4028235e+38, -4.1887903e-01, -3.4028235e+38],\n",
       "      dtype=float32), maximum=array([4.8000002e+00, 3.4028235e+38, 4.1887903e-01, 3.4028235e+38],\n",
       "      dtype=float32)),\n",
       " 'policy_info': (),\n",
       " 'reward': TensorSpec(shape=(), dtype=tf.float32, name='reward'),\n",
       " 'step_type': TensorSpec(shape=(), dtype=tf.int32, name='step_type')})"
      ]
     },
     "execution_count": 27,
     "metadata": {},
     "output_type": "execute_result"
    }
   ],
   "source": [
    "agent.collect_data_spec"
   ]
  },
  {
   "cell_type": "code",
   "execution_count": 28,
   "metadata": {
    "execution": {
     "iopub.execute_input": "2021-02-12T22:22:24.421568Z",
     "iopub.status.busy": "2021-02-12T22:22:24.420842Z",
     "iopub.status.idle": "2021-02-12T22:22:24.423986Z",
     "shell.execute_reply": "2021-02-12T22:22:24.423561Z"
    },
    "id": "sy6g1tGcfRlw"
   },
   "outputs": [
    {
     "data": {
      "text/plain": [
       "('step_type',\n",
       " 'observation',\n",
       " 'action',\n",
       " 'policy_info',\n",
       " 'next_step_type',\n",
       " 'reward',\n",
       " 'discount')"
      ]
     },
     "execution_count": 28,
     "metadata": {},
     "output_type": "execute_result"
    }
   ],
   "source": [
    "agent.collect_data_spec._fields"
   ]
  },
  {
   "cell_type": "markdown",
   "metadata": {
    "id": "rVD5nQ9ZGo8_"
   },
   "source": [
    "## データ収集\n",
    "\n",
    "次に、環境でランダムポリシーを数ステップ実行し、データを再生バッファに記録します。"
   ]
  },
  {
   "cell_type": "code",
   "execution_count": 29,
   "metadata": {
    "execution": {
     "iopub.execute_input": "2021-02-12T22:22:24.429670Z",
     "iopub.status.busy": "2021-02-12T22:22:24.429097Z",
     "iopub.status.idle": "2021-02-12T22:22:24.797209Z",
     "shell.execute_reply": "2021-02-12T22:22:24.797614Z"
    },
    "id": "wr1KSAEGG4h9"
   },
   "outputs": [],
   "source": [
    "#@test {\"skip\": true}\n",
    "def collect_step(environment, policy, buffer):\n",
    "  time_step = environment.current_time_step()\n",
    "  action_step = policy.action(time_step)\n",
    "  next_time_step = environment.step(action_step.action)\n",
    "  traj = trajectory.from_transition(time_step, action_step, next_time_step)\n",
    "\n",
    "  # Add trajectory to the replay buffer\n",
    "  buffer.add_batch(traj)\n",
    "\n",
    "def collect_data(env, policy, buffer, steps):\n",
    "  for _ in range(steps):\n",
    "    collect_step(env, policy, buffer)\n",
    "\n",
    "collect_data(train_env, random_policy, replay_buffer, steps=100)\n",
    "\n",
    "# This loop is so common in RL, that we provide standard implementations. \n",
    "# For more details see the drivers module.\n",
    "# https://www.tensorflow.org/agents/api_docs/python/tf_agents/drivers"
   ]
  },
  {
   "cell_type": "markdown",
   "metadata": {
    "id": "84z5pQJdoKxo"
   },
   "source": [
    "再生バッファは Trajectory のコレクションではありません。"
   ]
  },
  {
   "cell_type": "code",
   "execution_count": 30,
   "metadata": {
    "execution": {
     "iopub.execute_input": "2021-02-12T22:22:24.801706Z",
     "iopub.status.busy": "2021-02-12T22:22:24.800991Z",
     "iopub.status.idle": "2021-02-12T22:22:24.802924Z",
     "shell.execute_reply": "2021-02-12T22:22:24.803319Z"
    },
    "id": "4wZnLu2ViO4E"
   },
   "outputs": [],
   "source": [
    "# For the curious:\n",
    "# Uncomment to peel one of these off and inspect it.\n",
    "# iter(replay_buffer.as_dataset()).next()"
   ]
  },
  {
   "cell_type": "markdown",
   "metadata": {
    "id": "TujU-PMUsKjS"
   },
   "source": [
    "エージェントは再生バッファにアクセスする必要があります。これは、エージェントにデータをフィードするイテレーション可能な`tf.data.Dataset`パイプラインを作成することにより提供されます。\n",
    "\n",
    "再生バッファの各行には、1 つの観測ステップのみが格納されます。しかし、DQN エージェントは損失を計算するためにその時点の観測と次の観測を両方必要とするので、データセットパイプラインは、バッチ内の要素ごとに2つの隣接する行をサンプリングします(`num_steps=2`)。\n",
    "\n",
    "また、このデータセットは、並列呼び出しを実行してデータをプリフェッチすることにより最適化されます。"
   ]
  },
  {
   "cell_type": "code",
   "execution_count": 31,
   "metadata": {
    "execution": {
     "iopub.execute_input": "2021-02-12T22:22:24.807786Z",
     "iopub.status.busy": "2021-02-12T22:22:24.807174Z",
     "iopub.status.idle": "2021-02-12T22:22:25.495130Z",
     "shell.execute_reply": "2021-02-12T22:22:25.494624Z"
    },
    "id": "ba7bilizt_qW"
   },
   "outputs": [
    {
     "name": "stdout",
     "output_type": "stream",
     "text": [
      "WARNING:tensorflow:From /usr/local/lib/python3.8/dist-packages/tensorflow/python/autograph/impl/api.py:377: ReplayBuffer.get_next (from tf_agents.replay_buffers.replay_buffer) is deprecated and will be removed in a future version.\n",
      "Instructions for updating:\n",
      "Use `as_dataset(..., single_deterministic_pass=False) instead.\n"
     ]
    },
    {
     "data": {
      "text/plain": [
       "<PrefetchDataset element_spec=(Trajectory(\n",
       "{'action': TensorSpec(shape=(64, 2), dtype=tf.int64, name=None),\n",
       " 'discount': TensorSpec(shape=(64, 2), dtype=tf.float32, name=None),\n",
       " 'next_step_type': TensorSpec(shape=(64, 2), dtype=tf.int32, name=None),\n",
       " 'observation': TensorSpec(shape=(64, 2, 4), dtype=tf.float32, name=None),\n",
       " 'policy_info': (),\n",
       " 'reward': TensorSpec(shape=(64, 2), dtype=tf.float32, name=None),\n",
       " 'step_type': TensorSpec(shape=(64, 2), dtype=tf.int32, name=None)}), BufferInfo(ids=TensorSpec(shape=(64, 2), dtype=tf.int64, name=None), probabilities=TensorSpec(shape=(64,), dtype=tf.float32, name=None)))>"
      ]
     },
     "execution_count": 31,
     "metadata": {},
     "output_type": "execute_result"
    }
   ],
   "source": [
    "# Dataset generates trajectories with shape [Bx2x...]\n",
    "dataset = replay_buffer.as_dataset(\n",
    "    num_parallel_calls=3, \n",
    "    sample_batch_size=batch_size, \n",
    "    num_steps=2).prefetch(3)\n",
    "\n",
    "\n",
    "dataset"
   ]
  },
  {
   "cell_type": "code",
   "execution_count": 32,
   "metadata": {
    "execution": {
     "iopub.execute_input": "2021-02-12T22:22:25.500181Z",
     "iopub.status.busy": "2021-02-12T22:22:25.499562Z",
     "iopub.status.idle": "2021-02-12T22:22:25.549920Z",
     "shell.execute_reply": "2021-02-12T22:22:25.549455Z"
    },
    "id": "K13AST-2ppOq"
   },
   "outputs": [
    {
     "name": "stdout",
     "output_type": "stream",
     "text": [
      "<tensorflow.python.data.ops.iterator_ops.OwnedIterator object at 0x7f3c482889d0>\n"
     ]
    }
   ],
   "source": [
    "iterator = iter(dataset)\n",
    "\n",
    "print(iterator)\n"
   ]
  },
  {
   "cell_type": "code",
   "execution_count": 33,
   "metadata": {
    "execution": {
     "iopub.execute_input": "2021-02-12T22:22:25.553608Z",
     "iopub.status.busy": "2021-02-12T22:22:25.552910Z",
     "iopub.status.idle": "2021-02-12T22:22:25.555319Z",
     "shell.execute_reply": "2021-02-12T22:22:25.554833Z"
    },
    "id": "Th5w5Sff0b16"
   },
   "outputs": [],
   "source": [
    "# For the curious:\n",
    "# Uncomment to see what the dataset iterator is feeding to the agent.\n",
    "# Compare this representation of replay data \n",
    "# to the collection of individual trajectories shown earlier.\n",
    "\n",
    "# iterator.next()"
   ]
  },
  {
   "cell_type": "markdown",
   "metadata": {
    "id": "hBc9lj9VWWtZ"
   },
   "source": [
    "## エージェントのトレーニング\n",
    "\n",
    "トレーニングループ時には、以下の 2 つが行われる必要があります。\n",
    "\n",
    "- 環境からデータを収集する\n",
    "- そのデータを使用してエージェントのニューラルネットワークをトレーニングする\n",
    "\n",
    "この例では、定期的にポリシーを評価し、その時点のスコアを出力します。\n",
    "\n",
    "以下の実行には 5 分ほどかかります。"
   ]
  },
  {
   "cell_type": "code",
   "execution_count": 34,
   "metadata": {
    "execution": {
     "iopub.execute_input": "2021-02-12T22:22:25.564760Z",
     "iopub.status.busy": "2021-02-12T22:22:25.564033Z",
     "iopub.status.idle": "2021-02-12T22:28:40.625837Z",
     "shell.execute_reply": "2021-02-12T22:28:40.626273Z"
    },
    "id": "0pTbJ3PeyF-u"
   },
   "outputs": [
    {
     "name": "stdout",
     "output_type": "stream",
     "text": [
      "WARNING:tensorflow:From /usr/local/lib/python3.8/dist-packages/tensorflow/python/util/dispatch.py:1082: calling foldr_v2 (from tensorflow.python.ops.functional_ops) with back_prop=False is deprecated and will be removed in a future version.\n",
      "Instructions for updating:\n",
      "back_prop=False is deprecated. Consider using tf.stop_gradient instead.\n",
      "Instead of:\n",
      "results = tf.foldr(fn, elems, back_prop=False)\n",
      "Use:\n",
      "results = tf.nest.map_structure(tf.stop_gradient, tf.foldr(fn, elems))\n",
      "step = 200: loss = 8.92756462097168\n",
      "step = 400: loss = 5.301401615142822\n",
      "step = 600: loss = 24.011072158813477\n",
      "step = 800: loss = 25.485868453979492\n",
      "step = 1000: loss = 41.260597229003906\n",
      "step = 1000: Average Return = 200.0\n",
      "step = 1200: loss = 33.91568374633789\n",
      "step = 1400: loss = 37.05430603027344\n",
      "step = 1600: loss = 61.64129638671875\n",
      "step = 1800: loss = 155.80227661132812\n",
      "step = 2000: loss = 139.85125732421875\n",
      "step = 2000: Average Return = 105.80000305175781\n",
      "step = 2200: loss = 131.75665283203125\n",
      "step = 2400: loss = 18.365314483642578\n",
      "step = 2600: loss = 36.061859130859375\n",
      "step = 2800: loss = 41.635040283203125\n",
      "step = 3000: loss = 193.46920776367188\n",
      "step = 3000: Average Return = 41.400001525878906\n",
      "step = 3200: loss = 1145.336669921875\n",
      "step = 3400: loss = 351.6050109863281\n",
      "step = 3600: loss = 132.01951599121094\n",
      "step = 3800: loss = 850.2205810546875\n",
      "step = 4000: loss = 181.24888610839844\n",
      "step = 4000: Average Return = 68.0\n",
      "step = 4200: loss = 40.78291320800781\n",
      "step = 4400: loss = 133.68202209472656\n",
      "step = 4600: loss = 626.5775146484375\n",
      "step = 4800: loss = 36.98504638671875\n",
      "step = 5000: loss = 1155.453369140625\n",
      "step = 5000: Average Return = 69.80000305175781\n",
      "step = 5200: loss = 66.06521606445312\n",
      "step = 5400: loss = 27.04326820373535\n",
      "step = 5600: loss = 13.695253372192383\n",
      "step = 5800: loss = 46.88530731201172\n",
      "step = 6000: loss = 305.018798828125\n",
      "step = 6000: Average Return = 64.80000305175781\n",
      "step = 6200: loss = 16.91236114501953\n",
      "step = 6400: loss = 14.926684379577637\n",
      "step = 6600: loss = 261.5932922363281\n",
      "step = 6800: loss = 95.6760482788086\n",
      "step = 7000: loss = 186.55886840820312\n",
      "step = 7000: Average Return = 161.1999969482422\n",
      "step = 7200: loss = 52.346717834472656\n",
      "step = 7400: loss = 10.185246467590332\n",
      "step = 7600: loss = 123.95719909667969\n",
      "step = 7800: loss = 7.184638023376465\n",
      "step = 8000: loss = 40.11564636230469\n",
      "step = 8000: Average Return = 76.5\n",
      "step = 8200: loss = 10.951520919799805\n",
      "step = 8400: loss = 789.9058837890625\n",
      "step = 8600: loss = 13.063823699951172\n",
      "step = 8800: loss = 54.16691207885742\n",
      "step = 9000: loss = 7.2276811599731445\n",
      "step = 9000: Average Return = 180.3000030517578\n",
      "step = 9200: loss = 10.520853042602539\n",
      "step = 9400: loss = 6.989197254180908\n",
      "step = 9600: loss = 47.52644729614258\n",
      "step = 9800: loss = 28.334274291992188\n",
      "step = 10000: loss = 6.669103622436523\n",
      "step = 10000: Average Return = 110.19999694824219\n",
      "step = 10200: loss = 307.730712890625\n",
      "step = 10400: loss = 330.2784118652344\n",
      "step = 10600: loss = 19.67745590209961\n",
      "step = 10800: loss = 6.332820892333984\n",
      "step = 11000: loss = 482.454833984375\n",
      "step = 11000: Average Return = 174.1999969482422\n",
      "step = 11200: loss = 13.19139575958252\n",
      "step = 11400: loss = 249.0037078857422\n",
      "step = 11600: loss = 14.010293960571289\n",
      "step = 11800: loss = 320.4096984863281\n",
      "step = 12000: loss = 6.274190425872803\n",
      "step = 12000: Average Return = 194.5\n",
      "step = 12200: loss = 795.3128662109375\n",
      "step = 12400: loss = 646.56982421875\n",
      "step = 12600: loss = 8.098325729370117\n",
      "step = 12800: loss = 311.8383483886719\n",
      "step = 13000: loss = 45.34647750854492\n",
      "step = 13000: Average Return = 194.0\n",
      "step = 13200: loss = 184.286376953125\n",
      "step = 13400: loss = 105.42160034179688\n",
      "step = 13600: loss = 171.57081604003906\n",
      "step = 13800: loss = 12.11285400390625\n",
      "step = 14000: loss = 8.561033248901367\n",
      "step = 14000: Average Return = 106.4000015258789\n",
      "step = 14200: loss = 88.28766632080078\n",
      "step = 14400: loss = 5.971814155578613\n",
      "step = 14600: loss = 24.749969482421875\n",
      "step = 14800: loss = 40.20139694213867\n",
      "step = 15000: loss = 11.527215957641602\n",
      "step = 15000: Average Return = 156.10000610351562\n",
      "step = 15200: loss = 56.2841911315918\n",
      "step = 15400: loss = 7.379283905029297\n",
      "step = 15600: loss = 18.75809097290039\n",
      "step = 15800: loss = 12.264413833618164\n",
      "step = 16000: loss = 354.30810546875\n",
      "step = 16000: Average Return = 173.5\n",
      "step = 16200: loss = 578.87939453125\n",
      "step = 16400: loss = 13.318031311035156\n",
      "step = 16600: loss = 13.993831634521484\n",
      "step = 16800: loss = 10.940430641174316\n",
      "step = 17000: loss = 7.471869468688965\n",
      "step = 17000: Average Return = 188.8000030517578\n",
      "step = 17200: loss = 7.53434944152832\n",
      "step = 17400: loss = 8.968545913696289\n",
      "step = 17600: loss = 30.617525100708008\n",
      "step = 17800: loss = 10.59190559387207\n",
      "step = 18000: loss = 6.2386674880981445\n",
      "step = 18000: Average Return = 114.4000015258789\n",
      "step = 18200: loss = 12.178807258605957\n",
      "step = 18400: loss = 8.594039916992188\n",
      "step = 18600: loss = 4.831986904144287\n",
      "step = 18800: loss = 10.975499153137207\n",
      "step = 19000: loss = 6.24289608001709\n",
      "step = 19000: Average Return = 147.60000610351562\n",
      "step = 19200: loss = 6.880173206329346\n",
      "step = 19400: loss = 53.90479278564453\n",
      "step = 19600: loss = 33.66977310180664\n",
      "step = 19800: loss = 6.273444175720215\n",
      "step = 20000: loss = 13.19891357421875\n",
      "step = 20000: Average Return = 111.0\n"
     ]
    }
   ],
   "source": [
    "#@test {\"skip\": true}\n",
    "try:\n",
    "  %%time\n",
    "except:\n",
    "  pass\n",
    "\n",
    "# (Optional) Optimize by wrapping some of the code in a graph using TF function.\n",
    "agent.train = common.function(agent.train)\n",
    "\n",
    "# Reset the train step\n",
    "agent.train_step_counter.assign(0)\n",
    "\n",
    "# Evaluate the agent's policy once before training.\n",
    "avg_return = compute_avg_return(eval_env, agent.policy, num_eval_episodes)\n",
    "returns = [avg_return]\n",
    "\n",
    "for _ in range(num_iterations):\n",
    "\n",
    "  # Collect a few steps using collect_policy and save to the replay buffer.\n",
    "  for _ in range(collect_steps_per_iteration):\n",
    "    collect_step(train_env, agent.collect_policy, replay_buffer)\n",
    "\n",
    "  # Sample a batch of data from the buffer and update the agent's network.\n",
    "  experience, unused_info = next(iterator)\n",
    "  train_loss = agent.train(experience).loss\n",
    "\n",
    "  step = agent.train_step_counter.numpy()\n",
    "\n",
    "  if step % log_interval == 0:\n",
    "    print('step = {0}: loss = {1}'.format(step, train_loss))\n",
    "\n",
    "  if step % eval_interval == 0:\n",
    "    avg_return = compute_avg_return(eval_env, agent.policy, num_eval_episodes)\n",
    "    print('step = {0}: Average Return = {1}'.format(step, avg_return))\n",
    "    returns.append(avg_return)"
   ]
  },
  {
   "cell_type": "markdown",
   "metadata": {
    "id": "68jNcA_TiJDq"
   },
   "source": [
    "## 可視化\n"
   ]
  },
  {
   "cell_type": "markdown",
   "metadata": {
    "id": "aO-LWCdbbOIC"
   },
   "source": [
    "### プロット\n",
    "\n",
    "`matplotlib.pyplot`を使用して、トレーニング中にポリシーがどのように改善されたかをグラフ化します。\n",
    "\n",
    "`Cartpole-v0`の 1 回のイテレーションには、200のタイムステップがあります。環境は、棒が立ったままでいる各ステップに対して`+1`の報酬を与えるので、1 つのエピソードの最大リターンは 200 です。グラフは、トレーニング中に評価されるたびに、最大値に向かって増加するリターンを示しています。（多少不安定になり、毎回単調に増加しないこともあります。）"
   ]
  },
  {
   "cell_type": "code",
   "execution_count": 35,
   "metadata": {
    "execution": {
     "iopub.execute_input": "2021-02-12T22:28:40.649147Z",
     "iopub.status.busy": "2021-02-12T22:28:40.645463Z",
     "iopub.status.idle": "2021-02-12T22:28:40.781202Z",
     "shell.execute_reply": "2021-02-12T22:28:40.780663Z"
    },
    "id": "NxtL1mbOYCVO"
   },
   "outputs": [
    {
     "data": {
      "text/plain": [
       "(33.47000160217285, 250.0)"
      ]
     },
     "execution_count": 35,
     "metadata": {},
     "output_type": "execute_result"
    }
   ],
   "source": [
    "#@test {\"skip\": true}\n",
    "\n",
    "iterations = range(0, num_iterations + 1, eval_interval)\n",
    "plt.plot(iterations, returns)\n",
    "plt.ylabel('Average Return')\n",
    "plt.xlabel('Iterations')\n",
    "plt.ylim(top=250)"
   ]
  },
  {
   "cell_type": "markdown",
   "metadata": {
    "id": "M7-XpPP99Cy7"
   },
   "source": [
    "### 動画"
   ]
  },
  {
   "cell_type": "markdown",
   "metadata": {
    "id": "9pGfGxSH32gn"
   },
   "source": [
    "グラフは便利ですが、エージェントが環境内で実際にタスクを実行している様子を動画で視覚化するとさらに分かりやすくなります。\n",
    "\n",
    "まず、ノートブックに動画を埋め込む関数を作成します。"
   ]
  },
  {
   "cell_type": "code",
   "execution_count": 36,
   "metadata": {
    "execution": {
     "iopub.execute_input": "2021-02-12T22:28:40.786907Z",
     "iopub.status.busy": "2021-02-12T22:28:40.786251Z",
     "iopub.status.idle": "2021-02-12T22:28:40.788060Z",
     "shell.execute_reply": "2021-02-12T22:28:40.788545Z"
    },
    "id": "ULaGr8pvOKbl"
   },
   "outputs": [],
   "source": [
    "def embed_mp4(filename):\n",
    "  \"\"\"Embeds an mp4 file in the notebook.\"\"\"\n",
    "  video = open(filename,'rb').read()\n",
    "  b64 = base64.b64encode(video)\n",
    "  tag = '''\n",
    "  <video width=\"640\" height=\"480\" controls>\n",
    "    <source src=\"data:video/mp4;base64,{0}\" type=\"video/mp4\">\n",
    "  Your browser does not support the video tag.\n",
    "  </video>'''.format(b64.decode())\n",
    "\n",
    "  return IPython.display.HTML(tag)"
   ]
  },
  {
   "cell_type": "markdown",
   "metadata": {
    "id": "9c_PH-pX4Pr5"
   },
   "source": [
    "CartPole ゲームのいくつかのエピソードをエージェントで繰り返します。基礎となる Python 環境（TensorFlow 環境ラッパーの「内部」のもの）は、環境の状態のイメージを出力する`render()`メソッドを提供します。これらは動画に収集できます。"
   ]
  },
  {
   "cell_type": "code",
   "execution_count": 37,
   "metadata": {
    "execution": {
     "iopub.execute_input": "2021-02-12T22:28:40.795218Z",
     "iopub.status.busy": "2021-02-12T22:28:40.794433Z",
     "iopub.status.idle": "2021-02-12T22:28:53.292173Z",
     "shell.execute_reply": "2021-02-12T22:28:53.292634Z"
    },
    "id": "owOVWB158NlF"
   },
   "outputs": [
    {
     "name": "stderr",
     "output_type": "stream",
     "text": [
      "WARNING:root:IMAGEIO FFMPEG_WRITER WARNING: input image is not divisible by macro_block_size=16, resizing from (400, 600) to (400, 608) to ensure video compatibility with most codecs and players. To prevent resizing, make your input image divisible by the macro_block_size or set the macro_block_size to None (risking incompatibility). You may also see a FFMPEG warning concerning speedloss due to data not being aligned.\n"
     ]
    },
    {
     "data": {
      "text/html": [
       "\n",
       "  <video width=\"640\" height=\"480\" controls>\n",
       "    <source src=\"data:video/mp4;base64,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\" type=\"video/mp4\">\n",
       "  Your browser does not support the video tag.\n",
       "  </video>"
      ],
      "text/plain": [
       "<IPython.core.display.HTML object>"
      ]
     },
     "execution_count": 37,
     "metadata": {},
     "output_type": "execute_result"
    }
   ],
   "source": [
    "def create_policy_eval_video(policy, filename, num_episodes=5, fps=30):\n",
    "  filename = filename + \".mp4\"\n",
    "  with imageio.get_writer(filename, fps=fps) as video:\n",
    "    for _ in range(num_episodes):\n",
    "      time_step = eval_env.reset()\n",
    "      video.append_data(eval_py_env.render())\n",
    "      while not time_step.is_last():\n",
    "        action_step = policy.action(time_step)\n",
    "        time_step = eval_env.step(action_step.action)\n",
    "        video.append_data(eval_py_env.render())\n",
    "  return embed_mp4(filename)\n",
    "\n",
    "\n",
    "\n",
    "\n",
    "create_policy_eval_video(agent.policy, \"trained-agent\")"
   ]
  },
  {
   "cell_type": "markdown",
   "metadata": {
    "id": "povaAOcZygLw"
   },
   "source": [
    "トレーニングされたエージェント（上記）をランダムに移動するエージェントと比較してみてください。（ランダムに移動するエージェントは、トレーニングされたエージェントと比べて上手くできません。）"
   ]
  },
  {
   "cell_type": "code",
   "execution_count": 38,
   "metadata": {
    "execution": {
     "iopub.execute_input": "2021-02-12T22:28:53.299295Z",
     "iopub.status.busy": "2021-02-12T22:28:53.298204Z",
     "iopub.status.idle": "2021-02-12T22:28:54.753046Z",
     "shell.execute_reply": "2021-02-12T22:28:54.752429Z"
    },
    "id": "pJZIdC37yNH4"
   },
   "outputs": [
    {
     "name": "stderr",
     "output_type": "stream",
     "text": [
      "WARNING:root:IMAGEIO FFMPEG_WRITER WARNING: input image is not divisible by macro_block_size=16, resizing from (400, 600) to (400, 608) to ensure video compatibility with most codecs and players. To prevent resizing, make your input image divisible by the macro_block_size or set the macro_block_size to None (risking incompatibility). You may also see a FFMPEG warning concerning speedloss due to data not being aligned.\n"
     ]
    },
    {
     "data": {
      "text/html": [
       "\n",
       "  <video width=\"640\" height=\"480\" controls>\n",
       "    <source src=\"data:video/mp4;base64,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\" type=\"video/mp4\">\n",
       "  Your browser does not support the video tag.\n",
       "  </video>"
      ],
      "text/plain": [
       "<IPython.core.display.HTML object>"
      ]
     },
     "execution_count": 38,
     "metadata": {},
     "output_type": "execute_result"
    }
   ],
   "source": [
    "create_policy_eval_video(random_policy, \"random-agent\")"
   ]
  },
  {
   "cell_type": "code",
   "execution_count": null,
   "metadata": {},
   "outputs": [],
   "source": []
  },
  {
   "cell_type": "code",
   "execution_count": null,
   "metadata": {},
   "outputs": [],
   "source": []
  }
 ],
 "metadata": {
  "colab": {
   "collapsed_sections": [],
   "name": "1_dqn_tutorial.ipynb",
   "toc_visible": true
  },
  "kernelspec": {
   "display_name": "Python 3",
   "language": "python",
   "name": "python3"
  },
  "language_info": {
   "codemirror_mode": {
    "name": "ipython",
    "version": 3
   },
   "file_extension": ".py",
   "mimetype": "text/x-python",
   "name": "python",
   "nbconvert_exporter": "python",
   "pygments_lexer": "ipython3",
   "version": "3.8.10"
  }
 },
 "nbformat": 4,
 "nbformat_minor": 1
}
