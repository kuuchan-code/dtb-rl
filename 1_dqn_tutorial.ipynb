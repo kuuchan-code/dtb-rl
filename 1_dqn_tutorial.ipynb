{
 "cells": [
  {
   "cell_type": "code",
   "execution_count": 1,
   "metadata": {},
   "outputs": [
    {
     "name": "stdout",
     "output_type": "stream",
     "text": [
      "[name: \"/device:CPU:0\"\n",
      "device_type: \"CPU\"\n",
      "memory_limit: 268435456\n",
      "locality {\n",
      "}\n",
      "incarnation: 5285600642462401265\n",
      "xla_global_id: -1\n",
      ", name: \"/device:GPU:0\"\n",
      "device_type: \"GPU\"\n",
      "memory_limit: 5352325120\n",
      "locality {\n",
      "  bus_id: 1\n",
      "  links {\n",
      "  }\n",
      "}\n",
      "incarnation: 6178138527130681849\n",
      "physical_device_desc: \"device: 0, name: NVIDIA GeForce GTX 1060 6GB, pci bus id: 0000:01:00.0, compute capability: 6.1\"\n",
      "xla_global_id: 416903419\n",
      "]\n",
      "Num GPUs Available:  1\n"
     ]
    }
   ],
   "source": [
    "from tensorflow.python.client import device_lib\n",
    "print(device_lib.list_local_devices())\n",
    "import tensorflow as tf\n",
    "print(\"Num GPUs Available: \", len(tf.config.experimental.list_physical_devices('GPU')))"
   ]
  },
  {
   "cell_type": "markdown",
   "metadata": {
    "id": "klGNgWREsvQv"
   },
   "source": [
    "##### Copyright 2018 The TF-Agents Authors."
   ]
  },
  {
   "cell_type": "code",
   "execution_count": 2,
   "metadata": {
    "cellView": "form",
    "execution": {
     "iopub.execute_input": "2021-02-12T22:21:58.440777Z",
     "iopub.status.busy": "2021-02-12T22:21:58.440184Z",
     "iopub.status.idle": "2021-02-12T22:21:58.441982Z",
     "shell.execute_reply": "2021-02-12T22:21:58.442345Z"
    },
    "id": "nQnmcm0oI1Q-"
   },
   "outputs": [],
   "source": [
    "#@title Licensed under the Apache License, Version 2.0 (the \"License\");\n",
    "# you may not use this file except in compliance with the License.\n",
    "# You may obtain a copy of the License at\n",
    "#\n",
    "# https://www.apache.org/licenses/LICENSE-2.0\n",
    "#\n",
    "# Unless required by applicable law or agreed to in writing, software\n",
    "# distributed under the License is distributed on an \"AS IS\" BASIS,\n",
    "# WITHOUT WARRANTIES OR CONDITIONS OF ANY KIND, either express or implied.\n",
    "# See the License for the specific language governing permissions and\n",
    "# limitations under the License."
   ]
  },
  {
   "cell_type": "markdown",
   "metadata": {
    "id": "pmDI-h7cI0tI"
   },
   "source": [
    "# TF-Agent を使用した Deep Q Network のトレーニング\n",
    "\n",
    "<table class=\"tfo-notebook-buttons\" align=\"left\">\n",
    "  <td><a target=\"_blank\" href=\"https://www.tensorflow.org/agents/tutorials/1_dqn_tutorial\"><img src=\"https://www.tensorflow.org/images/tf_logo_32px.png\"> TensorFlow.orgで表示</a></td>\n",
    "  <td><a target=\"_blank\" href=\"https://colab.research.google.com/github/tensorflow/docs-l10n/blob/master/site/ja/agents/tutorials/1_dqn_tutorial.ipynb\">     <img src=\"https://www.tensorflow.org/images/colab_logo_32px.png\">Google Colabで実行</a></td>\n",
    "  <td><a target=\"_blank\" href=\"https://github.com/tensorflow/docs-l10n/blob/master/site/ja/agents/tutorials/1_dqn_tutorial.ipynb\"><img src=\"https://www.tensorflow.org/images/GitHub-Mark-32px.png\">GitHub でソースを表示{</a></td>\n",
    "  <td><a href=\"https://storage.googleapis.com/tensorflow_docs/docs-l10n/site/ja/agents/tutorials/1_dqn_tutorial.ipynb\"><img src=\"https://www.tensorflow.org/images/download_logo_32px.png\">ノートブックをダウンロード/a0}</a></td>\n",
    "</table>"
   ]
  },
  {
   "cell_type": "markdown",
   "metadata": {
    "id": "lsaQlK8fFQqH"
   },
   "source": [
    "## はじめに\n"
   ]
  },
  {
   "cell_type": "markdown",
   "metadata": {
    "id": "cKOCZlhUgXVK"
   },
   "source": [
    "この例は、Cartpole環境でTF-Agentsライブラリを使用して[ DQN（Deep Q Networks）](https://storage.googleapis.com/deepmind-media/dqn/DQNNaturePaper.pdf)エージェントをトレーニングする方法を示しています。\n",
    "\n",
    "![Cartpole environment](https://raw.githubusercontent.com/tensorflow/agents/master/docs/tutorials/images/cartpole.png)\n",
    "\n",
    "ここでは、トレーニング、評価、データ収集のための強化学習（RL）パイプラインのすべてのコンポーネントについて説明します。\n",
    "\n",
    "このコードをライブで実行するには、上の [Google Colabで実行] リンクをクリックしてください。\n"
   ]
  },
  {
   "cell_type": "markdown",
   "metadata": {
    "id": "1u9QVVsShC9X"
   },
   "source": [
    "## セットアップ"
   ]
  },
  {
   "cell_type": "markdown",
   "metadata": {
    "id": "kNrNXKI7bINP"
   },
   "source": [
    "以下の依存関係をインストールしていない場合は、実行します。"
   ]
  },
  {
   "cell_type": "code",
   "execution_count": 3,
   "metadata": {
    "execution": {
     "iopub.execute_input": "2021-02-12T22:21:58.459190Z",
     "iopub.status.busy": "2021-02-12T22:21:58.458456Z",
     "iopub.status.idle": "2021-02-12T22:22:14.622083Z",
     "shell.execute_reply": "2021-02-12T22:22:14.621525Z"
    },
    "id": "KEHR2Ui-lo8O"
   },
   "outputs": [],
   "source": [
    "# !apt-get update\n",
    "# !apt-get install -y xvfb ffmpeg\n",
    "# !pip install -q 'gym==0.10.11'\n",
    "# !pip install -q 'imageio==2.4.0'\n",
    "# !pip install -q PILLOW\n",
    "# !pip install -q 'pyglet==1.3.2'\n",
    "# !pip install -q pyvirtualdisplay\n",
    "# !pip install -q tf-agents"
   ]
  },
  {
   "cell_type": "code",
   "execution_count": 4,
   "metadata": {
    "scrolled": false
   },
   "outputs": [
    {
     "data": {
      "text/plain": [
       "[name: \"/device:CPU:0\"\n",
       " device_type: \"CPU\"\n",
       " memory_limit: 268435456\n",
       " locality {\n",
       " }\n",
       " incarnation: 17190365398804818640\n",
       " xla_global_id: -1,\n",
       " name: \"/device:GPU:0\"\n",
       " device_type: \"GPU\"\n",
       " memory_limit: 5352325120\n",
       " locality {\n",
       "   bus_id: 1\n",
       "   links {\n",
       "   }\n",
       " }\n",
       " incarnation: 7508345885055720503\n",
       " physical_device_desc: \"device: 0, name: NVIDIA GeForce GTX 1060 6GB, pci bus id: 0000:01:00.0, compute capability: 6.1\"\n",
       " xla_global_id: 416903419]"
      ]
     },
     "execution_count": 4,
     "metadata": {},
     "output_type": "execute_result"
    }
   ],
   "source": [
    "from tensorflow.python.client import device_lib\n",
    "device_lib.list_local_devices()"
   ]
  },
  {
   "cell_type": "code",
   "execution_count": 5,
   "metadata": {
    "execution": {
     "iopub.execute_input": "2021-02-12T22:22:14.629019Z",
     "iopub.status.busy": "2021-02-12T22:22:14.628063Z",
     "iopub.status.idle": "2021-02-12T22:22:21.253624Z",
     "shell.execute_reply": "2021-02-12T22:22:21.252799Z"
    },
    "id": "sMitx5qSgJk1"
   },
   "outputs": [],
   "source": [
    "from __future__ import absolute_import, division, print_function\n",
    "\n",
    "import base64\n",
    "import imageio\n",
    "import IPython\n",
    "import matplotlib\n",
    "import matplotlib.pyplot as plt\n",
    "import numpy as np\n",
    "import PIL.Image\n",
    "import pyvirtualdisplay\n",
    "\n",
    "import tensorflow as tf\n",
    "\n",
    "from tf_agents.agents.dqn import dqn_agent\n",
    "from tf_agents.drivers import dynamic_step_driver\n",
    "from tf_agents.environments import suite_gym\n",
    "from tf_agents.environments import tf_py_environment\n",
    "from tf_agents.eval import metric_utils\n",
    "from tf_agents.metrics import tf_metrics\n",
    "from tf_agents.networks import q_network\n",
    "from tf_agents.policies import random_tf_policy\n",
    "from tf_agents.replay_buffers import tf_uniform_replay_buffer\n",
    "from tf_agents.trajectories import trajectory\n",
    "from tf_agents.utils import common"
   ]
  },
  {
   "cell_type": "code",
   "execution_count": 6,
   "metadata": {
    "execution": {
     "iopub.execute_input": "2021-02-12T22:22:21.265848Z",
     "iopub.status.busy": "2021-02-12T22:22:21.265155Z",
     "iopub.status.idle": "2021-02-12T22:22:21.353942Z",
     "shell.execute_reply": "2021-02-12T22:22:21.354348Z"
    },
    "id": "J6HsdS5GbSjd"
   },
   "outputs": [],
   "source": [
    "tf.compat.v1.enable_v2_behavior()\n",
    "\n",
    "# Set up a virtual display for rendering OpenAI gym environments.\n",
    "display = pyvirtualdisplay.Display(visible=0, size=(1400, 900)).start()"
   ]
  },
  {
   "cell_type": "code",
   "execution_count": 7,
   "metadata": {
    "execution": {
     "iopub.execute_input": "2021-02-12T22:22:21.360730Z",
     "iopub.status.busy": "2021-02-12T22:22:21.360005Z",
     "iopub.status.idle": "2021-02-12T22:22:21.363845Z",
     "shell.execute_reply": "2021-02-12T22:22:21.364227Z"
    },
    "id": "NspmzG4nP3b9"
   },
   "outputs": [
    {
     "data": {
      "text/plain": [
       "'2.9.1'"
      ]
     },
     "execution_count": 7,
     "metadata": {},
     "output_type": "execute_result"
    }
   ],
   "source": [
    "tf.version.VERSION"
   ]
  },
  {
   "cell_type": "markdown",
   "metadata": {
    "id": "LmC0NDhdLIKY"
   },
   "source": [
    "## ハイパーパラメータ"
   ]
  },
  {
   "cell_type": "code",
   "execution_count": 8,
   "metadata": {
    "execution": {
     "iopub.execute_input": "2021-02-12T22:22:21.368921Z",
     "iopub.status.busy": "2021-02-12T22:22:21.368085Z",
     "iopub.status.idle": "2021-02-12T22:22:21.370525Z",
     "shell.execute_reply": "2021-02-12T22:22:21.370033Z"
    },
    "id": "HC1kNrOsLSIZ"
   },
   "outputs": [],
   "source": [
    "num_iterations = 20000 # @param {type:\"integer\"}\n",
    "\n",
    "initial_collect_steps = 1000  # @param {type:\"integer\"} \n",
    "collect_steps_per_iteration = 1  # @param {type:\"integer\"}\n",
    "replay_buffer_max_length = 100000  # @param {type:\"integer\"}\n",
    "\n",
    "batch_size = 64  # @param {type:\"integer\"}\n",
    "learning_rate = 1e-3  # @param {type:\"number\"}\n",
    "log_interval = 200  # @param {type:\"integer\"}\n",
    "\n",
    "num_eval_episodes = 10  # @param {type:\"integer\"}\n",
    "eval_interval = 1000  # @param {type:\"integer\"}"
   ]
  },
  {
   "cell_type": "markdown",
   "metadata": {
    "id": "VMsJC3DEgI0x"
   },
   "source": [
    "## 環境\n",
    "\n",
    "強化学習（RL）では、環境はタスクまたは解決すべき問題を表します。標準環境は、`tf_agents.environments`スイートを使用して TF-Agent で作成できます。TF-Agent には、OpenAI Gym、Atari、DM Control などのソースから環境を読み込むためのスイートがあります。\n",
    "\n",
    "OpenAI Gym スイートから CartPole 環境を読み込みます。 "
   ]
  },
  {
   "cell_type": "code",
   "execution_count": 9,
   "metadata": {
    "execution": {
     "iopub.execute_input": "2021-02-12T22:22:21.375146Z",
     "iopub.status.busy": "2021-02-12T22:22:21.374063Z",
     "iopub.status.idle": "2021-02-12T22:22:21.382998Z",
     "shell.execute_reply": "2021-02-12T22:22:21.383403Z"
    },
    "id": "pYEz-S9gEv2-"
   },
   "outputs": [],
   "source": [
    "env_name = 'CartPole-v0'\n",
    "env = suite_gym.load(env_name)"
   ]
  },
  {
   "cell_type": "markdown",
   "metadata": {
    "id": "IIHYVBkuvPNw"
   },
   "source": [
    "この環境をレンダリングして、どのように見えるかを確認できます。台車の上に自由に振り動く棒を立て、その棒が倒れないように台車を左右に動かすことが目標です。"
   ]
  },
  {
   "cell_type": "code",
   "execution_count": 10,
   "metadata": {
    "execution": {
     "iopub.execute_input": "2021-02-12T22:22:21.389571Z",
     "iopub.status.busy": "2021-02-12T22:22:21.388670Z",
     "iopub.status.idle": "2021-02-12T22:22:21.850717Z",
     "shell.execute_reply": "2021-02-12T22:22:21.850258Z"
    },
    "id": "RlO7WIQHu_7D"
   },
   "outputs": [
    {
     "data": {
      "image/png": "[encoded data removed]",
      "text/plain": [
       "<PIL.Image.Image image mode=RGB size=600x400>"
      ]
     },
     "execution_count": 10,
     "metadata": {},
     "output_type": "execute_result"
    }
   ],
   "source": [
    "#@test {\"skip\": true}\n",
    "env.reset()\n",
    "PIL.Image.fromarray(env.render())"
   ]
  },
  {
   "cell_type": "markdown",
   "metadata": {
    "id": "B9_lskPOey18"
   },
   "source": [
    "`environment.step`メソッドは、環境内で`action`を取り、環境の次の観測と行動の報酬を含む`TimeStep`タプルを返します。\n",
    "\n",
    "`time_step_spec()`メソッドは、`TimeStep`タプルの仕様を返します。その`observation`属性は、観測の形状、データ型、および許容値の範囲を示します。`reward`属性は、報酬についての同じ詳細を示します。\n"
   ]
  },
  {
   "cell_type": "code",
   "execution_count": 11,
   "metadata": {
    "execution": {
     "iopub.execute_input": "2021-02-12T22:22:21.859797Z",
     "iopub.status.busy": "2021-02-12T22:22:21.858969Z",
     "iopub.status.idle": "2021-02-12T22:22:21.861594Z",
     "shell.execute_reply": "2021-02-12T22:22:21.861978Z"
    },
    "id": "exDv57iHfwQV"
   },
   "outputs": [
    {
     "name": "stdout",
     "output_type": "stream",
     "text": [
      "Observation Spec:\n",
      "BoundedArraySpec(shape=(4,), dtype=dtype('float32'), name='observation', minimum=[-4.8000002e+00 -3.4028235e+38 -4.1887903e-01 -3.4028235e+38], maximum=[4.8000002e+00 3.4028235e+38 4.1887903e-01 3.4028235e+38])\n"
     ]
    }
   ],
   "source": [
    "print('Observation Spec:')\n",
    "print(env.time_step_spec().observation)"
   ]
  },
  {
   "cell_type": "code",
   "execution_count": 12,
   "metadata": {
    "execution": {
     "iopub.execute_input": "2021-02-12T22:22:21.866490Z",
     "iopub.status.busy": "2021-02-12T22:22:21.865749Z",
     "iopub.status.idle": "2021-02-12T22:22:21.868268Z",
     "shell.execute_reply": "2021-02-12T22:22:21.868700Z"
    },
    "id": "UxiSyCbBUQPi"
   },
   "outputs": [
    {
     "name": "stdout",
     "output_type": "stream",
     "text": [
      "Reward Spec:\n",
      "ArraySpec(shape=(), dtype=dtype('float32'), name='reward')\n"
     ]
    }
   ],
   "source": [
    "print('Reward Spec:')\n",
    "print(env.time_step_spec().reward)"
   ]
  },
  {
   "cell_type": "markdown",
   "metadata": {
    "id": "b_lHcIcqUaqB"
   },
   "source": [
    "`action_spec()`メソッドは、有効な行動の形状、データタイプ、および許容値を返します。"
   ]
  },
  {
   "cell_type": "code",
   "execution_count": 13,
   "metadata": {
    "execution": {
     "iopub.execute_input": "2021-02-12T22:22:21.872899Z",
     "iopub.status.busy": "2021-02-12T22:22:21.872172Z",
     "iopub.status.idle": "2021-02-12T22:22:21.874769Z",
     "shell.execute_reply": "2021-02-12T22:22:21.875283Z"
    },
    "id": "bttJ4uxZUQBr"
   },
   "outputs": [
    {
     "name": "stdout",
     "output_type": "stream",
     "text": [
      "Action Spec:\n",
      "BoundedArraySpec(shape=(), dtype=dtype('int64'), name='action', minimum=0, maximum=1)\n"
     ]
    }
   ],
   "source": [
    "print('Action Spec:')\n",
    "print(env.action_spec())"
   ]
  },
  {
   "cell_type": "markdown",
   "metadata": {
    "id": "eJCgJnx3g0yY"
   },
   "source": [
    "CartPole 環境では\n",
    "\n",
    "- `observation`は以下の 4 つの float 型の配列です。\n",
    "    - 台車の位置と速度\n",
    "    - 棒の角度位置と速度\n",
    "- `reward`はスカラーの浮動小数点値です\n",
    "- `action`は可能な値が 2 つだけのスカラー整数です。\n",
    "    - `0` — 「左に移動」\n",
    "    - `1` — 「右に移動」\n"
   ]
  },
  {
   "cell_type": "code",
   "execution_count": 14,
   "metadata": {
    "execution": {
     "iopub.execute_input": "2021-02-12T22:22:21.882903Z",
     "iopub.status.busy": "2021-02-12T22:22:21.882258Z",
     "iopub.status.idle": "2021-02-12T22:22:21.885282Z",
     "shell.execute_reply": "2021-02-12T22:22:21.884820Z"
    },
    "id": "V2UGR5t_iZX-"
   },
   "outputs": [
    {
     "name": "stdout",
     "output_type": "stream",
     "text": [
      "Time step:\n",
      "TimeStep(\n",
      "{'discount': array(1., dtype=float32),\n",
      " 'observation': array([ 0.03411204, -0.04018744, -0.00101935,  0.01811303], dtype=float32),\n",
      " 'reward': array(0., dtype=float32),\n",
      " 'step_type': array(0, dtype=int32)})\n",
      "Next time step:\n",
      "TimeStep(\n",
      "{'discount': array(1., dtype=float32),\n",
      " 'observation': array([ 0.03330829,  0.15494911, -0.00065708, -0.27489135], dtype=float32),\n",
      " 'reward': array(1., dtype=float32),\n",
      " 'step_type': array(1, dtype=int32)})\n"
     ]
    }
   ],
   "source": [
    "time_step = env.reset()\n",
    "print('Time step:')\n",
    "print(time_step)\n",
    "\n",
    "action = np.array(1, dtype=np.int32)\n",
    "\n",
    "next_time_step = env.step(action)\n",
    "print('Next time step:')\n",
    "print(next_time_step)"
   ]
  },
  {
   "cell_type": "markdown",
   "metadata": {
    "id": "4JSc9GviWUBK"
   },
   "source": [
    "通常、2 つの環境（トレーニング用、評価用）のみがインスタンス化されます。 "
   ]
  },
  {
   "cell_type": "code",
   "execution_count": 15,
   "metadata": {
    "execution": {
     "iopub.execute_input": "2021-02-12T22:22:21.891274Z",
     "iopub.status.busy": "2021-02-12T22:22:21.890457Z",
     "iopub.status.idle": "2021-02-12T22:22:21.892464Z",
     "shell.execute_reply": "2021-02-12T22:22:21.892806Z"
    },
    "id": "N7brXNIGWXjC"
   },
   "outputs": [],
   "source": [
    "train_py_env = suite_gym.load(env_name)\n",
    "eval_py_env = suite_gym.load(env_name)"
   ]
  },
  {
   "cell_type": "markdown",
   "metadata": {
    "id": "zuUqXAVmecTU"
   },
   "source": [
    "CartPole 環境は、ほとんどの環境と同様に純粋な Python で記述されています。これは、`TFPyEnvironment`ラッパーを使用して TensorFlow に変換されます。\n",
    "\n",
    "従来の環境の API は Numpy 配列を使用します。`TFPyEnvironment`は、これらを`Tensors`に変換して、Tensorflow エージェントおよびポリシーとの互換性を確保します。\n"
   ]
  },
  {
   "cell_type": "code",
   "execution_count": 16,
   "metadata": {
    "execution": {
     "iopub.execute_input": "2021-02-12T22:22:21.897609Z",
     "iopub.status.busy": "2021-02-12T22:22:21.896922Z",
     "iopub.status.idle": "2021-02-12T22:22:21.906184Z",
     "shell.execute_reply": "2021-02-12T22:22:21.906582Z"
    },
    "id": "Xp-Y4mD6eDhF"
   },
   "outputs": [],
   "source": [
    "train_env = tf_py_environment.TFPyEnvironment(train_py_env)\n",
    "eval_env = tf_py_environment.TFPyEnvironment(eval_py_env)"
   ]
  },
  {
   "cell_type": "markdown",
   "metadata": {
    "id": "E9lW_OZYFR8A"
   },
   "source": [
    "## エージェント\n",
    "\n",
    "RL問題の解決に使用されるアルゴリズムは、`Agent`で表されます。TF-Agent は、以下を含むさまざまな`Agents`の標準実装を提供します。\n",
    "\n",
    "- [DQN](https://storage.googleapis.com/deepmind-media/dqn/DQNNaturePaper.pdf)（本チュートリアルで使用）\n",
    "- [REINFORCE](http://www-anw.cs.umass.edu/~barto/courses/cs687/williams92simple.pdf)\n",
    "- [DDPG](https://arxiv.org/pdf/1509.02971.pdf)\n",
    "- [TD3](https://arxiv.org/pdf/1802.09477.pdf)\n",
    "- [PPO](https://arxiv.org/abs/1707.06347)\n",
    "- [SAC](https://arxiv.org/abs/1801.01290)\n",
    "\n",
    "DQN エージェントは、個別の行動領域がある任意の環境で使用できます。\n",
    "\n",
    "DQN エージェントの中心にあるのが`QNetwork`です。これは、環境から観察を得て、すべての行動の`QValues`（予期される戻り値）を予測する方法を学習するニューラルネットワークモデルです。\n",
    "\n",
    "`tf_agents.networks.q_network`を使用して`QNetwork`を作成し、`observation_spec`、`action_spec`、およびモデルの非表示レイヤーの数とサイズを表すタプルを渡します。\n"
   ]
  },
  {
   "cell_type": "code",
   "execution_count": 17,
   "metadata": {
    "execution": {
     "iopub.execute_input": "2021-02-12T22:22:21.910972Z",
     "iopub.status.busy": "2021-02-12T22:22:21.910414Z",
     "iopub.status.idle": "2021-02-12T22:22:21.946848Z",
     "shell.execute_reply": "2021-02-12T22:22:21.946312Z"
    },
    "id": "TgkdEPg_muzV"
   },
   "outputs": [],
   "source": [
    "fc_layer_params = (100,)\n",
    "\n",
    "q_net = q_network.QNetwork(\n",
    "    train_env.observation_spec(),\n",
    "    train_env.action_spec(),\n",
    "    fc_layer_params=fc_layer_params)"
   ]
  },
  {
   "cell_type": "markdown",
   "metadata": {
    "id": "z62u55hSmviJ"
   },
   "source": [
    "`tf_agents.agents.dqn.dqn_agent`を使用して`DqnAgent`をインスタンス化します。`time_step_spec`、`action_spec`、および QNetwork に加えて、エージェントコンストラクタにもオプティマイザ（この場合、`AdamOptimizer`）、損失関数、および整数ステップカウンタが必要です。"
   ]
  },
  {
   "cell_type": "code",
   "execution_count": 18,
   "metadata": {
    "execution": {
     "iopub.execute_input": "2021-02-12T22:22:22.634467Z",
     "iopub.status.busy": "2021-02-12T22:22:22.633673Z",
     "iopub.status.idle": "2021-02-12T22:22:23.953705Z",
     "shell.execute_reply": "2021-02-12T22:22:23.953164Z"
    },
    "id": "jbY4yrjTEyc9"
   },
   "outputs": [],
   "source": [
    "optimizer = tf.compat.v1.train.AdamOptimizer(learning_rate=learning_rate)\n",
    "\n",
    "train_step_counter = tf.Variable(0)\n",
    "\n",
    "agent = dqn_agent.DqnAgent(\n",
    "    train_env.time_step_spec(),\n",
    "    train_env.action_spec(),\n",
    "    q_network=q_net,\n",
    "    optimizer=optimizer,\n",
    "    td_errors_loss_fn=common.element_wise_squared_loss,\n",
    "    train_step_counter=train_step_counter)\n",
    "\n",
    "agent.initialize()"
   ]
  },
  {
   "cell_type": "markdown",
   "metadata": {
    "id": "I0KLrEPwkn5x"
   },
   "source": [
    "## ポリシー\n",
    "\n",
    "ポリシーは、エージェントが環境で行動する方法を定義します。通常、強化学習の目標は、ポリシーが望ましい結果を生成するまで、基礎となるモデルをトレーニングすることです。\n",
    "\n",
    "このチュートリアルでは\n",
    "\n",
    "- 望ましい結果は、台車の上の棒が倒れないようにバランスを保つことです。\n",
    "- ポリシーは、`time_step`観測ごとに行動（左または右）を返します。\n",
    "\n",
    "エージェントには 2 つのポリシーが含まれています。\n",
    "\n",
    "- `agent.policy` — 評価とデプロイに使用される主なポリシー。\n",
    "- `agent.collect_policy` — データ収集に使用される補助的なポリシー。\n"
   ]
  },
  {
   "cell_type": "code",
   "execution_count": 19,
   "metadata": {
    "execution": {
     "iopub.execute_input": "2021-02-12T22:22:23.958289Z",
     "iopub.status.busy": "2021-02-12T22:22:23.957522Z",
     "iopub.status.idle": "2021-02-12T22:22:23.960142Z",
     "shell.execute_reply": "2021-02-12T22:22:23.959612Z"
    },
    "id": "BwY7StuMkuV4"
   },
   "outputs": [],
   "source": [
    "eval_policy = agent.policy\n",
    "collect_policy = agent.collect_policy"
   ]
  },
  {
   "cell_type": "markdown",
   "metadata": {
    "id": "2Qs1Fl3dV0ae"
   },
   "source": [
    "ポリシーはエージェントとは無関係に作成できます。たとえば、`tf_agents.policies.random_tf_policy`を使用して、各`time_step`の行動をランダムに選択するポリシーを作成できます。"
   ]
  },
  {
   "cell_type": "code",
   "execution_count": 20,
   "metadata": {
    "execution": {
     "iopub.execute_input": "2021-02-12T22:22:23.964841Z",
     "iopub.status.busy": "2021-02-12T22:22:23.964081Z",
     "iopub.status.idle": "2021-02-12T22:22:23.966454Z",
     "shell.execute_reply": "2021-02-12T22:22:23.965992Z"
    },
    "id": "HE37-UCIrE69"
   },
   "outputs": [],
   "source": [
    "random_policy = random_tf_policy.RandomTFPolicy(train_env.time_step_spec(),\n",
    "                                                train_env.action_spec())"
   ]
  },
  {
   "cell_type": "markdown",
   "metadata": {
    "id": "dOlnlRRsUbxP"
   },
   "source": [
    "ポリシーから行動を取得するには、`policy.action(time_step)`メソッドを呼び出します。`time_step`には、環境からの観測が含まれています。このメソッドは、3 つのコンポーネントを持つ名前付きタプルである`PolicyStep`を返します。\n",
    "\n",
    "- `action` — 実行する行動（ここでは`0`または`1`)\n",
    "- `state` — ステートフルポリシー（RNNベース）に使用\n",
    "- `info` — 行動のログ確率などの補助データ"
   ]
  },
  {
   "cell_type": "code",
   "execution_count": 21,
   "metadata": {
    "execution": {
     "iopub.execute_input": "2021-02-12T22:22:23.972096Z",
     "iopub.status.busy": "2021-02-12T22:22:23.971436Z",
     "iopub.status.idle": "2021-02-12T22:22:23.974875Z",
     "shell.execute_reply": "2021-02-12T22:22:23.974447Z"
    },
    "id": "5gCcpXswVAxk"
   },
   "outputs": [],
   "source": [
    "example_environment = tf_py_environment.TFPyEnvironment(\n",
    "    suite_gym.load('CartPole-v0'))"
   ]
  },
  {
   "cell_type": "code",
   "execution_count": 22,
   "metadata": {
    "execution": {
     "iopub.execute_input": "2021-02-12T22:22:23.978975Z",
     "iopub.status.busy": "2021-02-12T22:22:23.978207Z",
     "iopub.status.idle": "2021-02-12T22:22:23.981476Z",
     "shell.execute_reply": "2021-02-12T22:22:23.980951Z"
    },
    "id": "D4DHZtq3Ndis"
   },
   "outputs": [],
   "source": [
    "time_step = example_environment.reset()"
   ]
  },
  {
   "cell_type": "code",
   "execution_count": 23,
   "metadata": {
    "execution": {
     "iopub.execute_input": "2021-02-12T22:22:23.986127Z",
     "iopub.status.busy": "2021-02-12T22:22:23.985559Z",
     "iopub.status.idle": "2021-02-12T22:22:23.991615Z",
     "shell.execute_reply": "2021-02-12T22:22:23.991168Z"
    },
    "id": "PRFqAUzpNaAW"
   },
   "outputs": [
    {
     "data": {
      "text/plain": [
       "PolicyStep(action=<tf.Tensor: shape=(1,), dtype=int64, numpy=array([1])>, state=(), info=())"
      ]
     },
     "execution_count": 23,
     "metadata": {},
     "output_type": "execute_result"
    }
   ],
   "source": [
    "random_policy.action(time_step)"
   ]
  },
  {
   "cell_type": "markdown",
   "metadata": {
    "id": "94rCXQtbUbXv"
   },
   "source": [
    "## 指標と評価\n",
    "\n",
    "ポリシーの評価に使用される最も一般的な指標は、平均リターンです。リターンは、エピソードの環境でポリシーを実行中に取得した報酬の合計です。エピソードは何回か実行され、平均リターンが生成されます。\n",
    "\n",
    "次の関数は、ポリシー、環境、およびエピソードの数を指定して、ポリシーの平均リターンを計算します。\n"
   ]
  },
  {
   "cell_type": "code",
   "execution_count": 24,
   "metadata": {
    "execution": {
     "iopub.execute_input": "2021-02-12T22:22:23.997710Z",
     "iopub.status.busy": "2021-02-12T22:22:23.996994Z",
     "iopub.status.idle": "2021-02-12T22:22:23.999468Z",
     "shell.execute_reply": "2021-02-12T22:22:23.998979Z"
    },
    "id": "bitzHo5_UbXy"
   },
   "outputs": [],
   "source": [
    "#@test {\"skip\": true}\n",
    "def compute_avg_return(environment, policy, num_episodes=10):\n",
    "\n",
    "  total_return = 0.0\n",
    "  for _ in range(num_episodes):\n",
    "\n",
    "    time_step = environment.reset()\n",
    "    episode_return = 0.0\n",
    "\n",
    "    while not time_step.is_last():\n",
    "      action_step = policy.action(time_step)\n",
    "      time_step = environment.step(action_step.action)\n",
    "      episode_return += time_step.reward\n",
    "    total_return += episode_return\n",
    "\n",
    "  avg_return = total_return / num_episodes\n",
    "  return avg_return.numpy()[0]\n",
    "\n",
    "\n",
    "# See also the metrics module for standard implementations of different metrics.\n",
    "# https://github.com/tensorflow/agents/tree/master/tf_agents/metrics"
   ]
  },
  {
   "cell_type": "markdown",
   "metadata": {
    "id": "_snCVvq5Z8lJ"
   },
   "source": [
    "この計算を`random_policy`で実行すると、環境のベースラインパフォーマンスが示されます。"
   ]
  },
  {
   "cell_type": "code",
   "execution_count": 25,
   "metadata": {
    "execution": {
     "iopub.execute_input": "2021-02-12T22:22:24.004020Z",
     "iopub.status.busy": "2021-02-12T22:22:24.003430Z",
     "iopub.status.idle": "2021-02-12T22:22:24.394562Z",
     "shell.execute_reply": "2021-02-12T22:22:24.394066Z"
    },
    "id": "9bgU6Q6BZ8Bp"
   },
   "outputs": [
    {
     "data": {
      "text/plain": [
       "37.9"
      ]
     },
     "execution_count": 25,
     "metadata": {},
     "output_type": "execute_result"
    }
   ],
   "source": [
    "compute_avg_return(eval_env, random_policy, num_eval_episodes)"
   ]
  },
  {
   "cell_type": "markdown",
   "metadata": {
    "id": "NLva6g2jdWgr"
   },
   "source": [
    "## 再生バッファ\n",
    "\n",
    "再生バッファは、環境から収集されたデータを追跡します。このチュートリアルでは最も一般的な`tf_agents.replay_buffers.tf_uniform_replay_buffer.TFUniformReplayBuffer`を使用します。\n",
    "\n",
    "コンストラクタは、収集するデータの仕様を必要とします。これは、`collect_data_spec`メソッドを使用してエージェントから入手できます。バッチサイズと最大バッファ長も必要です。\n"
   ]
  },
  {
   "cell_type": "code",
   "execution_count": 26,
   "metadata": {
    "execution": {
     "iopub.execute_input": "2021-02-12T22:22:24.399611Z",
     "iopub.status.busy": "2021-02-12T22:22:24.398982Z",
     "iopub.status.idle": "2021-02-12T22:22:24.409649Z",
     "shell.execute_reply": "2021-02-12T22:22:24.409234Z"
    },
    "id": "vX2zGUWJGWAl"
   },
   "outputs": [],
   "source": [
    "replay_buffer = tf_uniform_replay_buffer.TFUniformReplayBuffer(\n",
    "    data_spec=agent.collect_data_spec,\n",
    "    batch_size=train_env.batch_size,\n",
    "    max_length=replay_buffer_max_length)"
   ]
  },
  {
   "cell_type": "markdown",
   "metadata": {
    "id": "ZGNTDJpZs4NN"
   },
   "source": [
    "ほとんどのエージェントの場合、`collect_data_spec`は、`Trajectory`と呼ばれる名前付きタプルであり、観測、行動、報酬、およびその他の要素の仕様が含まれています。"
   ]
  },
  {
   "cell_type": "code",
   "execution_count": 27,
   "metadata": {
    "execution": {
     "iopub.execute_input": "2021-02-12T22:22:24.414858Z",
     "iopub.status.busy": "2021-02-12T22:22:24.414068Z",
     "iopub.status.idle": "2021-02-12T22:22:24.417439Z",
     "shell.execute_reply": "2021-02-12T22:22:24.417005Z"
    },
    "id": "_IZ-3HcqgE1z"
   },
   "outputs": [
    {
     "data": {
      "text/plain": [
       "Trajectory(\n",
       "{'action': BoundedTensorSpec(shape=(), dtype=tf.int64, name='action', minimum=array(0), maximum=array(1)),\n",
       " 'discount': BoundedTensorSpec(shape=(), dtype=tf.float32, name='discount', minimum=array(0., dtype=float32), maximum=array(1., dtype=float32)),\n",
       " 'next_step_type': TensorSpec(shape=(), dtype=tf.int32, name='step_type'),\n",
       " 'observation': BoundedTensorSpec(shape=(4,), dtype=tf.float32, name='observation', minimum=array([-4.8000002e+00, -3.4028235e+38, -4.1887903e-01, -3.4028235e+38],\n",
       "      dtype=float32), maximum=array([4.8000002e+00, 3.4028235e+38, 4.1887903e-01, 3.4028235e+38],\n",
       "      dtype=float32)),\n",
       " 'policy_info': (),\n",
       " 'reward': TensorSpec(shape=(), dtype=tf.float32, name='reward'),\n",
       " 'step_type': TensorSpec(shape=(), dtype=tf.int32, name='step_type')})"
      ]
     },
     "execution_count": 27,
     "metadata": {},
     "output_type": "execute_result"
    }
   ],
   "source": [
    "agent.collect_data_spec"
   ]
  },
  {
   "cell_type": "code",
   "execution_count": 28,
   "metadata": {
    "execution": {
     "iopub.execute_input": "2021-02-12T22:22:24.421568Z",
     "iopub.status.busy": "2021-02-12T22:22:24.420842Z",
     "iopub.status.idle": "2021-02-12T22:22:24.423986Z",
     "shell.execute_reply": "2021-02-12T22:22:24.423561Z"
    },
    "id": "sy6g1tGcfRlw"
   },
   "outputs": [
    {
     "data": {
      "text/plain": [
       "('step_type',\n",
       " 'observation',\n",
       " 'action',\n",
       " 'policy_info',\n",
       " 'next_step_type',\n",
       " 'reward',\n",
       " 'discount')"
      ]
     },
     "execution_count": 28,
     "metadata": {},
     "output_type": "execute_result"
    }
   ],
   "source": [
    "agent.collect_data_spec._fields"
   ]
  },
  {
   "cell_type": "markdown",
   "metadata": {
    "id": "rVD5nQ9ZGo8_"
   },
   "source": [
    "## データ収集\n",
    "\n",
    "次に、環境でランダムポリシーを数ステップ実行し、データを再生バッファに記録します。"
   ]
  },
  {
   "cell_type": "code",
   "execution_count": 29,
   "metadata": {
    "execution": {
     "iopub.execute_input": "2021-02-12T22:22:24.429670Z",
     "iopub.status.busy": "2021-02-12T22:22:24.429097Z",
     "iopub.status.idle": "2021-02-12T22:22:24.797209Z",
     "shell.execute_reply": "2021-02-12T22:22:24.797614Z"
    },
    "id": "wr1KSAEGG4h9"
   },
   "outputs": [],
   "source": [
    "#@test {\"skip\": true}\n",
    "def collect_step(environment, policy, buffer):\n",
    "  time_step = environment.current_time_step()\n",
    "  action_step = policy.action(time_step)\n",
    "  next_time_step = environment.step(action_step.action)\n",
    "  traj = trajectory.from_transition(time_step, action_step, next_time_step)\n",
    "\n",
    "  # Add trajectory to the replay buffer\n",
    "  buffer.add_batch(traj)\n",
    "\n",
    "def collect_data(env, policy, buffer, steps):\n",
    "  for _ in range(steps):\n",
    "    collect_step(env, policy, buffer)\n",
    "\n",
    "collect_data(train_env, random_policy, replay_buffer, steps=100)\n",
    "\n",
    "# This loop is so common in RL, that we provide standard implementations. \n",
    "# For more details see the drivers module.\n",
    "# https://www.tensorflow.org/agents/api_docs/python/tf_agents/drivers"
   ]
  },
  {
   "cell_type": "markdown",
   "metadata": {
    "id": "84z5pQJdoKxo"
   },
   "source": [
    "再生バッファは Trajectory のコレクションではありません。"
   ]
  },
  {
   "cell_type": "code",
   "execution_count": 30,
   "metadata": {
    "execution": {
     "iopub.execute_input": "2021-02-12T22:22:24.801706Z",
     "iopub.status.busy": "2021-02-12T22:22:24.800991Z",
     "iopub.status.idle": "2021-02-12T22:22:24.802924Z",
     "shell.execute_reply": "2021-02-12T22:22:24.803319Z"
    },
    "id": "4wZnLu2ViO4E"
   },
   "outputs": [],
   "source": [
    "# For the curious:\n",
    "# Uncomment to peel one of these off and inspect it.\n",
    "# iter(replay_buffer.as_dataset()).next()"
   ]
  },
  {
   "cell_type": "markdown",
   "metadata": {
    "id": "TujU-PMUsKjS"
   },
   "source": [
    "エージェントは再生バッファにアクセスする必要があります。これは、エージェントにデータをフィードするイテレーション可能な`tf.data.Dataset`パイプラインを作成することにより提供されます。\n",
    "\n",
    "再生バッファの各行には、1 つの観測ステップのみが格納されます。しかし、DQN エージェントは損失を計算するためにその時点の観測と次の観測を両方必要とするので、データセットパイプラインは、バッチ内の要素ごとに2つの隣接する行をサンプリングします(`num_steps=2`)。\n",
    "\n",
    "また、このデータセットは、並列呼び出しを実行してデータをプリフェッチすることにより最適化されます。"
   ]
  },
  {
   "cell_type": "code",
   "execution_count": 31,
   "metadata": {
    "execution": {
     "iopub.execute_input": "2021-02-12T22:22:24.807786Z",
     "iopub.status.busy": "2021-02-12T22:22:24.807174Z",
     "iopub.status.idle": "2021-02-12T22:22:25.495130Z",
     "shell.execute_reply": "2021-02-12T22:22:25.494624Z"
    },
    "id": "ba7bilizt_qW"
   },
   "outputs": [
    {
     "name": "stdout",
     "output_type": "stream",
     "text": [
      "WARNING:tensorflow:From /usr/local/lib/python3.8/dist-packages/tensorflow/python/autograph/impl/api.py:377: ReplayBuffer.get_next (from tf_agents.replay_buffers.replay_buffer) is deprecated and will be removed in a future version.\n",
      "Instructions for updating:\n",
      "Use `as_dataset(..., single_deterministic_pass=False) instead.\n"
     ]
    },
    {
     "data": {
      "text/plain": [
       "<PrefetchDataset element_spec=(Trajectory(\n",
       "{'action': TensorSpec(shape=(64, 2), dtype=tf.int64, name=None),\n",
       " 'discount': TensorSpec(shape=(64, 2), dtype=tf.float32, name=None),\n",
       " 'next_step_type': TensorSpec(shape=(64, 2), dtype=tf.int32, name=None),\n",
       " 'observation': TensorSpec(shape=(64, 2, 4), dtype=tf.float32, name=None),\n",
       " 'policy_info': (),\n",
       " 'reward': TensorSpec(shape=(64, 2), dtype=tf.float32, name=None),\n",
       " 'step_type': TensorSpec(shape=(64, 2), dtype=tf.int32, name=None)}), BufferInfo(ids=TensorSpec(shape=(64, 2), dtype=tf.int64, name=None), probabilities=TensorSpec(shape=(64,), dtype=tf.float32, name=None)))>"
      ]
     },
     "execution_count": 31,
     "metadata": {},
     "output_type": "execute_result"
    }
   ],
   "source": [
    "# Dataset generates trajectories with shape [Bx2x...]\n",
    "dataset = replay_buffer.as_dataset(\n",
    "    num_parallel_calls=3, \n",
    "    sample_batch_size=batch_size, \n",
    "    num_steps=2).prefetch(3)\n",
    "\n",
    "\n",
    "dataset"
   ]
  },
  {
   "cell_type": "code",
   "execution_count": 32,
   "metadata": {
    "execution": {
     "iopub.execute_input": "2021-02-12T22:22:25.500181Z",
     "iopub.status.busy": "2021-02-12T22:22:25.499562Z",
     "iopub.status.idle": "2021-02-12T22:22:25.549920Z",
     "shell.execute_reply": "2021-02-12T22:22:25.549455Z"
    },
    "id": "K13AST-2ppOq"
   },
   "outputs": [
    {
     "name": "stdout",
     "output_type": "stream",
     "text": [
      "<tensorflow.python.data.ops.iterator_ops.OwnedIterator object at 0x7fbf405e9dc0>\n"
     ]
    }
   ],
   "source": [
    "iterator = iter(dataset)\n",
    "\n",
    "print(iterator)\n"
   ]
  },
  {
   "cell_type": "code",
   "execution_count": 33,
   "metadata": {
    "execution": {
     "iopub.execute_input": "2021-02-12T22:22:25.553608Z",
     "iopub.status.busy": "2021-02-12T22:22:25.552910Z",
     "iopub.status.idle": "2021-02-12T22:22:25.555319Z",
     "shell.execute_reply": "2021-02-12T22:22:25.554833Z"
    },
    "id": "Th5w5Sff0b16"
   },
   "outputs": [],
   "source": [
    "# For the curious:\n",
    "# Uncomment to see what the dataset iterator is feeding to the agent.\n",
    "# Compare this representation of replay data \n",
    "# to the collection of individual trajectories shown earlier.\n",
    "\n",
    "# iterator.next()"
   ]
  },
  {
   "cell_type": "markdown",
   "metadata": {
    "id": "hBc9lj9VWWtZ"
   },
   "source": [
    "## エージェントのトレーニング\n",
    "\n",
    "トレーニングループ時には、以下の 2 つが行われる必要があります。\n",
    "\n",
    "- 環境からデータを収集する\n",
    "- そのデータを使用してエージェントのニューラルネットワークをトレーニングする\n",
    "\n",
    "この例では、定期的にポリシーを評価し、その時点のスコアを出力します。\n",
    "\n",
    "以下の実行には 5 分ほどかかります。"
   ]
  },
  {
   "cell_type": "code",
   "execution_count": 34,
   "metadata": {
    "execution": {
     "iopub.execute_input": "2021-02-12T22:22:25.564760Z",
     "iopub.status.busy": "2021-02-12T22:22:25.564033Z",
     "iopub.status.idle": "2021-02-12T22:28:40.625837Z",
     "shell.execute_reply": "2021-02-12T22:28:40.626273Z"
    },
    "id": "0pTbJ3PeyF-u"
   },
   "outputs": [
    {
     "name": "stdout",
     "output_type": "stream",
     "text": [
      "WARNING:tensorflow:From /usr/local/lib/python3.8/dist-packages/tensorflow/python/util/dispatch.py:1082: calling foldr_v2 (from tensorflow.python.ops.functional_ops) with back_prop=False is deprecated and will be removed in a future version.\n",
      "Instructions for updating:\n",
      "back_prop=False is deprecated. Consider using tf.stop_gradient instead.\n",
      "Instead of:\n",
      "results = tf.foldr(fn, elems, back_prop=False)\n",
      "Use:\n",
      "results = tf.nest.map_structure(tf.stop_gradient, tf.foldr(fn, elems))\n",
      "step = 200: loss = 18.84231948852539\n",
      "step = 400: loss = 7.325646877288818\n",
      "step = 600: loss = 3.234804153442383\n",
      "step = 800: loss = 8.40639591217041\n",
      "step = 1000: loss = 18.24089813232422\n",
      "step = 1000: Average Return = 13.300000190734863\n",
      "step = 1200: loss = 21.680253982543945\n",
      "step = 1400: loss = 14.163959503173828\n",
      "step = 1600: loss = 19.611549377441406\n",
      "step = 1800: loss = 16.759553909301758\n",
      "step = 2000: loss = 17.449344635009766\n",
      "step = 2000: Average Return = 40.400001525878906\n",
      "step = 2200: loss = 24.75940704345703\n",
      "step = 2400: loss = 28.23773765563965\n",
      "step = 2600: loss = 27.66582679748535\n",
      "step = 2800: loss = 48.88410186767578\n",
      "step = 3000: loss = 11.821383476257324\n",
      "step = 3000: Average Return = 105.19999694824219\n",
      "step = 3200: loss = 19.160369873046875\n",
      "step = 3400: loss = 68.44991302490234\n",
      "step = 3600: loss = 37.23905944824219\n",
      "step = 3800: loss = 83.280517578125\n",
      "step = 4000: loss = 50.67463684082031\n",
      "step = 4000: Average Return = 150.8000030517578\n",
      "step = 4200: loss = 6.294672966003418\n",
      "step = 4400: loss = 65.80995178222656\n",
      "step = 4600: loss = 94.56562042236328\n",
      "step = 4800: loss = 101.28700256347656\n",
      "step = 5000: loss = 10.576417922973633\n",
      "step = 5000: Average Return = 172.5\n",
      "step = 5200: loss = 7.224641799926758\n",
      "step = 5400: loss = 129.50912475585938\n",
      "step = 5600: loss = 51.574676513671875\n",
      "step = 5800: loss = 115.16117858886719\n",
      "step = 6000: loss = 11.02865219116211\n",
      "step = 6000: Average Return = 197.5\n",
      "step = 6200: loss = 128.41342163085938\n",
      "step = 6400: loss = 149.02603149414062\n",
      "step = 6600: loss = 267.4631652832031\n",
      "step = 6800: loss = 89.65660858154297\n",
      "step = 7000: loss = 223.5223388671875\n",
      "step = 7000: Average Return = 200.0\n",
      "step = 7200: loss = 383.20355224609375\n",
      "step = 7400: loss = 13.692569732666016\n",
      "step = 7600: loss = 13.456398963928223\n",
      "step = 7800: loss = 234.88648986816406\n",
      "step = 8000: loss = 161.14002990722656\n",
      "step = 8000: Average Return = 200.0\n",
      "step = 8200: loss = 180.29830932617188\n",
      "step = 8400: loss = 413.4677734375\n",
      "step = 8600: loss = 139.32644653320312\n",
      "step = 8800: loss = 20.19043731689453\n",
      "step = 9000: loss = 356.8111572265625\n",
      "step = 9000: Average Return = 200.0\n",
      "step = 9200: loss = 156.0738067626953\n",
      "step = 9400: loss = 26.96915626525879\n",
      "step = 9600: loss = 124.65043640136719\n",
      "step = 9800: loss = 698.988037109375\n",
      "step = 10000: loss = 640.573486328125\n",
      "step = 10000: Average Return = 200.0\n",
      "step = 10200: loss = 152.08143615722656\n",
      "step = 10400: loss = 190.60244750976562\n",
      "step = 10600: loss = 19.399486541748047\n",
      "step = 10800: loss = 169.84841918945312\n",
      "step = 11000: loss = 35.793907165527344\n",
      "step = 11000: Average Return = 200.0\n",
      "step = 11200: loss = 801.4571533203125\n",
      "step = 11400: loss = 35.818275451660156\n",
      "step = 11600: loss = 25.321949005126953\n",
      "step = 11800: loss = 44.67086410522461\n",
      "step = 12000: loss = 14.76699161529541\n",
      "step = 12000: Average Return = 200.0\n",
      "step = 12200: loss = 421.96563720703125\n",
      "step = 12400: loss = 494.8036193847656\n",
      "step = 12600: loss = 35.30348205566406\n",
      "step = 12800: loss = 22.653961181640625\n",
      "step = 13000: loss = 29.16173553466797\n",
      "step = 13000: Average Return = 200.0\n",
      "step = 13200: loss = 1589.0147705078125\n",
      "step = 13400: loss = 28.76548957824707\n",
      "step = 13600: loss = 11.659217834472656\n",
      "step = 13800: loss = 9.890012741088867\n",
      "step = 14000: loss = 16.547435760498047\n",
      "step = 14000: Average Return = 200.0\n",
      "step = 14200: loss = 332.8841247558594\n",
      "step = 14400: loss = 26.053747177124023\n",
      "step = 14600: loss = 204.93157958984375\n",
      "step = 14800: loss = 406.1076354980469\n",
      "step = 15000: loss = 988.6414794921875\n",
      "step = 15000: Average Return = 200.0\n",
      "step = 15200: loss = 270.91156005859375\n",
      "step = 15400: loss = 705.8353271484375\n",
      "step = 15600: loss = 27.660446166992188\n",
      "step = 15800: loss = 15.420133590698242\n",
      "step = 16000: loss = 153.98486328125\n",
      "step = 16000: Average Return = 200.0\n",
      "step = 16200: loss = 20.416749954223633\n",
      "step = 16400: loss = 221.357666015625\n",
      "step = 16600: loss = 97.44161987304688\n",
      "step = 16800: loss = 1675.5191650390625\n",
      "step = 17000: loss = 21.18280792236328\n",
      "step = 17000: Average Return = 200.0\n",
      "step = 17200: loss = 893.9159545898438\n",
      "step = 17400: loss = 12.159915924072266\n",
      "step = 17600: loss = 1122.2855224609375\n",
      "step = 17800: loss = 312.5259094238281\n",
      "step = 18000: loss = 21.728181838989258\n",
      "step = 18000: Average Return = 200.0\n",
      "step = 18200: loss = 218.02978515625\n",
      "step = 18400: loss = 59.639305114746094\n",
      "step = 18600: loss = 23.564136505126953\n",
      "step = 18800: loss = 25.214553833007812\n",
      "step = 19000: loss = 21.028221130371094\n",
      "step = 19000: Average Return = 200.0\n",
      "step = 19200: loss = 2493.334716796875\n",
      "step = 19400: loss = 901.1109619140625\n",
      "step = 19600: loss = 472.140869140625\n",
      "step = 19800: loss = 752.200927734375\n",
      "step = 20000: loss = 16.461074829101562\n",
      "step = 20000: Average Return = 200.0\n"
     ]
    }
   ],
   "source": [
    "#@test {\"skip\": true}\n",
    "try:\n",
    "  %%time\n",
    "except:\n",
    "  pass\n",
    "\n",
    "# (Optional) Optimize by wrapping some of the code in a graph using TF function.\n",
    "agent.train = common.function(agent.train)\n",
    "\n",
    "# Reset the train step\n",
    "agent.train_step_counter.assign(0)\n",
    "\n",
    "# Evaluate the agent's policy once before training.\n",
    "avg_return = compute_avg_return(eval_env, agent.policy, num_eval_episodes)\n",
    "returns = [avg_return]\n",
    "\n",
    "for _ in range(num_iterations):\n",
    "\n",
    "  # Collect a few steps using collect_policy and save to the replay buffer.\n",
    "  for _ in range(collect_steps_per_iteration):\n",
    "    collect_step(train_env, agent.collect_policy, replay_buffer)\n",
    "\n",
    "  # Sample a batch of data from the buffer and update the agent's network.\n",
    "  experience, unused_info = next(iterator)\n",
    "  train_loss = agent.train(experience).loss\n",
    "\n",
    "  step = agent.train_step_counter.numpy()\n",
    "\n",
    "  if step % log_interval == 0:\n",
    "    print('step = {0}: loss = {1}'.format(step, train_loss))\n",
    "\n",
    "  if step % eval_interval == 0:\n",
    "    avg_return = compute_avg_return(eval_env, agent.policy, num_eval_episodes)\n",
    "    print('step = {0}: Average Return = {1}'.format(step, avg_return))\n",
    "    returns.append(avg_return)"
   ]
  },
  {
   "cell_type": "markdown",
   "metadata": {
    "id": "68jNcA_TiJDq"
   },
   "source": [
    "## 可視化\n"
   ]
  },
  {
   "cell_type": "markdown",
   "metadata": {
    "id": "aO-LWCdbbOIC"
   },
   "source": [
    "### プロット\n",
    "\n",
    "`matplotlib.pyplot`を使用して、トレーニング中にポリシーがどのように改善されたかをグラフ化します。\n",
    "\n",
    "`Cartpole-v0`の 1 回のイテレーションには、200のタイムステップがあります。環境は、棒が立ったままでいる各ステップに対して`+1`の報酬を与えるので、1 つのエピソードの最大リターンは 200 です。グラフは、トレーニング中に評価されるたびに、最大値に向かって増加するリターンを示しています。（多少不安定になり、毎回単調に増加しないこともあります。）"
   ]
  },
  {
   "cell_type": "code",
   "execution_count": 35,
   "metadata": {
    "execution": {
     "iopub.execute_input": "2021-02-12T22:28:40.649147Z",
     "iopub.status.busy": "2021-02-12T22:28:40.645463Z",
     "iopub.status.idle": "2021-02-12T22:28:40.781202Z",
     "shell.execute_reply": "2021-02-12T22:28:40.780663Z"
    },
    "id": "NxtL1mbOYCVO"
   },
   "outputs": [
    {
     "data": {
      "text/plain": [
       "(-0.8650002002716075, 250.0)"
      ]
     },
     "execution_count": 35,
     "metadata": {},
     "output_type": "execute_result"
    }
   ],
   "source": [
    "#@test {\"skip\": true}\n",
    "\n",
    "iterations = range(0, num_iterations + 1, eval_interval)\n",
    "plt.plot(iterations, returns)\n",
    "plt.ylabel('Average Return')\n",
    "plt.xlabel('Iterations')\n",
    "plt.ylim(top=250)"
   ]
  },
  {
   "cell_type": "markdown",
   "metadata": {
    "id": "M7-XpPP99Cy7"
   },
   "source": [
    "### 動画"
   ]
  },
  {
   "cell_type": "markdown",
   "metadata": {
    "id": "9pGfGxSH32gn"
   },
   "source": [
    "グラフは便利ですが、エージェントが環境内で実際にタスクを実行している様子を動画で視覚化するとさらに分かりやすくなります。\n",
    "\n",
    "まず、ノートブックに動画を埋め込む関数を作成します。"
   ]
  },
  {
   "cell_type": "code",
   "execution_count": 36,
   "metadata": {
    "execution": {
     "iopub.execute_input": "2021-02-12T22:28:40.786907Z",
     "iopub.status.busy": "2021-02-12T22:28:40.786251Z",
     "iopub.status.idle": "2021-02-12T22:28:40.788060Z",
     "shell.execute_reply": "2021-02-12T22:28:40.788545Z"
    },
    "id": "ULaGr8pvOKbl"
   },
   "outputs": [],
   "source": [
    "def embed_mp4(filename):\n",
    "  \"\"\"Embeds an mp4 file in the notebook.\"\"\"\n",
    "  video = open(filename,'rb').read()\n",
    "  b64 = base64.b64encode(video)\n",
    "  tag = '''\n",
    "  <video width=\"640\" height=\"480\" controls>\n",
    "    <source src=\"data:video/mp4;base64,{0}\" type=\"video/mp4\">\n",
    "  Your browser does not support the video tag.\n",
    "  </video>'''.format(b64.decode())\n",
    "\n",
    "  return IPython.display.HTML(tag)"
   ]
  },
  {
   "cell_type": "markdown",
   "metadata": {
    "id": "9c_PH-pX4Pr5"
   },
   "source": [
    "CartPole ゲームのいくつかのエピソードをエージェントで繰り返します。基礎となる Python 環境（TensorFlow 環境ラッパーの「内部」のもの）は、環境の状態のイメージを出力する`render()`メソッドを提供します。これらは動画に収集できます。"
   ]
  },
  {
   "cell_type": "code",
   "execution_count": 37,
   "metadata": {
    "execution": {
     "iopub.execute_input": "2021-02-12T22:28:40.795218Z",
     "iopub.status.busy": "2021-02-12T22:28:40.794433Z",
     "iopub.status.idle": "2021-02-12T22:28:53.292173Z",
     "shell.execute_reply": "2021-02-12T22:28:53.292634Z"
    },
    "id": "owOVWB158NlF"
   },
   "outputs": [
    {
     "name": "stderr",
     "output_type": "stream",
     "text": [
      "WARNING:root:IMAGEIO FFMPEG_WRITER WARNING: input image is not divisible by macro_block_size=16, resizing from (400, 600) to (400, 608) to ensure video compatibility with most codecs and players. To prevent resizing, make your input image divisible by the macro_block_size or set the macro_block_size to None (risking incompatibility). You may also see a FFMPEG warning concerning speedloss due to data not being aligned.\n"
     ]
    },
    {
     "data": {
      "text/html": [
       "\n",
       "  <video width=\"640\" height=\"480\" controls>\n",
       "    <source src=\"data:video/mp4;base64,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\" type=\"video/mp4\">\n",
       "  Your browser does not support the video tag.\n",
       "  </video>"
      ],
      "text/plain": [
       "<IPython.core.display.HTML object>"
      ]
     },
     "execution_count": 37,
     "metadata": {},
     "output_type": "execute_result"
    }
   ],
   "source": [
    "def create_policy_eval_video(policy, filename, num_episodes=5, fps=30):\n",
    "  filename = filename + \".mp4\"\n",
    "  with imageio.get_writer(filename, fps=fps) as video:\n",
    "    for _ in range(num_episodes):\n",
    "      time_step = eval_env.reset()\n",
    "      video.append_data(eval_py_env.render())\n",
    "      while not time_step.is_last():\n",
    "        action_step = policy.action(time_step)\n",
    "        time_step = eval_env.step(action_step.action)\n",
    "        video.append_data(eval_py_env.render())\n",
    "  return embed_mp4(filename)\n",
    "\n",
    "\n",
    "\n",
    "\n",
    "create_policy_eval_video(agent.policy, \"trained-agent\")"
   ]
  },
  {
   "cell_type": "markdown",
   "metadata": {
    "id": "povaAOcZygLw"
   },
   "source": [
    "トレーニングされたエージェント（上記）をランダムに移動するエージェントと比較してみてください。（ランダムに移動するエージェントは、トレーニングされたエージェントと比べて上手くできません。）"
   ]
  },
  {
   "cell_type": "code",
   "execution_count": 38,
   "metadata": {
    "execution": {
     "iopub.execute_input": "2021-02-12T22:28:53.299295Z",
     "iopub.status.busy": "2021-02-12T22:28:53.298204Z",
     "iopub.status.idle": "2021-02-12T22:28:54.753046Z",
     "shell.execute_reply": "2021-02-12T22:28:54.752429Z"
    },
    "id": "pJZIdC37yNH4"
   },
   "outputs": [
    {
     "name": "stderr",
     "output_type": "stream",
     "text": [
      "WARNING:root:IMAGEIO FFMPEG_WRITER WARNING: input image is not divisible by macro_block_size=16, resizing from (400, 600) to (400, 608) to ensure video compatibility with most codecs and players. To prevent resizing, make your input image divisible by the macro_block_size or set the macro_block_size to None (risking incompatibility). You may also see a FFMPEG warning concerning speedloss due to data not being aligned.\n"
     ]
    },
    {
     "data": {
      "text/html": [
       "\n",
       "  <video width=\"640\" height=\"480\" controls>\n",
       "    <source src=\"data:video/mp4;base64,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\" type=\"video/mp4\">\n",
       "  Your browser does not support the video tag.\n",
       "  </video>"
      ],
      "text/plain": [
       "<IPython.core.display.HTML object>"
      ]
     },
     "execution_count": 38,
     "metadata": {},
     "output_type": "execute_result"
    }
   ],
   "source": [
    "create_policy_eval_video(random_policy, \"random-agent\")"
   ]
  },
  {
   "cell_type": "code",
   "execution_count": null,
   "metadata": {},
   "outputs": [],
   "source": []
  },
  {
   "cell_type": "code",
   "execution_count": null,
   "metadata": {},
   "outputs": [],
   "source": []
  }
 ],
 "metadata": {
  "colab": {
   "collapsed_sections": [],
   "name": "1_dqn_tutorial.ipynb",
   "toc_visible": true
  },
  "kernelspec": {
   "display_name": "Python 3",
   "language": "python",
   "name": "python3"
  },
  "language_info": {
   "codemirror_mode": {
    "name": "ipython",
    "version": 3
   },
   "file_extension": ".py",
   "mimetype": "text/x-python",
   "name": "python",
   "nbconvert_exporter": "python",
   "pygments_lexer": "ipython3",
   "version": "3.8.10"
  }
 },
 "nbformat": 4,
 "nbformat_minor": 1
}
