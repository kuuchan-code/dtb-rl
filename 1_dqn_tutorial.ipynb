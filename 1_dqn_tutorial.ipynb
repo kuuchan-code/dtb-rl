{
 "cells": [
  {
   "cell_type": "markdown",
   "metadata": {
    "id": "klGNgWREsvQv"
   },
   "source": [
    "##### Copyright 2018 The TF-Agents Authors."
   ]
  },
  {
   "cell_type": "code",
   "execution_count": null,
   "metadata": {
    "cellView": "form",
    "execution": {
     "iopub.execute_input": "2021-02-12T22:21:58.440777Z",
     "iopub.status.busy": "2021-02-12T22:21:58.440184Z",
     "iopub.status.idle": "2021-02-12T22:21:58.441982Z",
     "shell.execute_reply": "2021-02-12T22:21:58.442345Z"
    },
    "id": "nQnmcm0oI1Q-"
   },
   "outputs": [],
   "source": [
    "#@title Licensed under the Apache License, Version 2.0 (the \"License\");\n",
    "# you may not use this file except in compliance with the License.\n",
    "# You may obtain a copy of the License at\n",
    "#\n",
    "# https://www.apache.org/licenses/LICENSE-2.0\n",
    "#\n",
    "# Unless required by applicable law or agreed to in writing, software\n",
    "# distributed under the License is distributed on an \"AS IS\" BASIS,\n",
    "# WITHOUT WARRANTIES OR CONDITIONS OF ANY KIND, either express or implied.\n",
    "# See the License for the specific language governing permissions and\n",
    "# limitations under the License."
   ]
  },
  {
   "cell_type": "markdown",
   "metadata": {
    "id": "pmDI-h7cI0tI"
   },
   "source": [
    "# TF-Agent を使用した Deep Q Network のトレーニング\n",
    "\n",
    "<table class=\"tfo-notebook-buttons\" align=\"left\">\n",
    "  <td><a target=\"_blank\" href=\"https://www.tensorflow.org/agents/tutorials/1_dqn_tutorial\"><img src=\"https://www.tensorflow.org/images/tf_logo_32px.png\"> TensorFlow.orgで表示</a></td>\n",
    "  <td><a target=\"_blank\" href=\"https://colab.research.google.com/github/tensorflow/docs-l10n/blob/master/site/ja/agents/tutorials/1_dqn_tutorial.ipynb\">     <img src=\"https://www.tensorflow.org/images/colab_logo_32px.png\">Google Colabで実行</a></td>\n",
    "  <td><a target=\"_blank\" href=\"https://github.com/tensorflow/docs-l10n/blob/master/site/ja/agents/tutorials/1_dqn_tutorial.ipynb\"><img src=\"https://www.tensorflow.org/images/GitHub-Mark-32px.png\">GitHub でソースを表示{</a></td>\n",
    "  <td><a href=\"https://storage.googleapis.com/tensorflow_docs/docs-l10n/site/ja/agents/tutorials/1_dqn_tutorial.ipynb\"><img src=\"https://www.tensorflow.org/images/download_logo_32px.png\">ノートブックをダウンロード/a0}</a></td>\n",
    "</table>"
   ]
  },
  {
   "cell_type": "markdown",
   "metadata": {
    "id": "lsaQlK8fFQqH"
   },
   "source": [
    "## はじめに\n"
   ]
  },
  {
   "cell_type": "markdown",
   "metadata": {
    "id": "cKOCZlhUgXVK"
   },
   "source": [
    "この例は、Cartpole環境でTF-Agentsライブラリを使用して[ DQN（Deep Q Networks）](https://storage.googleapis.com/deepmind-media/dqn/DQNNaturePaper.pdf)エージェントをトレーニングする方法を示しています。\n",
    "\n",
    "![Cartpole environment](https://raw.githubusercontent.com/tensorflow/agents/master/docs/tutorials/images/cartpole.png)\n",
    "\n",
    "ここでは、トレーニング、評価、データ収集のための強化学習（RL）パイプラインのすべてのコンポーネントについて説明します。\n",
    "\n",
    "このコードをライブで実行するには、上の [Google Colabで実行] リンクをクリックしてください。\n"
   ]
  },
  {
   "cell_type": "markdown",
   "metadata": {
    "id": "1u9QVVsShC9X"
   },
   "source": [
    "## セットアップ"
   ]
  },
  {
   "cell_type": "markdown",
   "metadata": {
    "id": "kNrNXKI7bINP"
   },
   "source": [
    "以下の依存関係をインストールしていない場合は、実行します。"
   ]
  },
  {
   "cell_type": "code",
   "execution_count": null,
   "metadata": {
    "execution": {
     "iopub.execute_input": "2021-02-12T22:21:58.459190Z",
     "iopub.status.busy": "2021-02-12T22:21:58.458456Z",
     "iopub.status.idle": "2021-02-12T22:22:14.622083Z",
     "shell.execute_reply": "2021-02-12T22:22:14.621525Z"
    },
    "id": "KEHR2Ui-lo8O"
   },
   "outputs": [],
   "source": [
    "!sudo apt-get install -y xvfb ffmpeg\n",
    "!pip install -q 'gym==0.10.11'\n",
    "!pip install -q 'imageio==2.4.0'\n",
    "!pip install -q PILLOW\n",
    "!pip install -q 'pyglet==1.3.2'\n",
    "!pip install -q pyvirtualdisplay\n",
    "!pip install -q tf-agents"
   ]
  },
  {
   "cell_type": "code",
   "execution_count": 1,
   "metadata": {
    "scrolled": false
   },
   "outputs": [
    {
     "name": "stderr",
     "output_type": "stream",
     "text": [
      "2022-06-23 16:11:51.996394: I tensorflow/stream_executor/cuda/cuda_gpu_executor.cc:975] successful NUMA node read from SysFS had negative value (-1), but there must be at least one NUMA node, so returning NUMA node zero\n",
      "2022-06-23 16:11:52.187326: W tensorflow/stream_executor/platform/default/dso_loader.cc:64] Could not load dynamic library 'libcudnn.so.8'; dlerror: libcudnn.so.8: cannot open shared object file: No such file or directory\n",
      "2022-06-23 16:11:52.187349: W tensorflow/core/common_runtime/gpu/gpu_device.cc:1850] Cannot dlopen some GPU libraries. Please make sure the missing libraries mentioned above are installed properly if you would like to use GPU. Follow the guide at https://www.tensorflow.org/install/gpu for how to download and setup the required libraries for your platform.\n",
      "Skipping registering GPU devices...\n"
     ]
    },
    {
     "data": {
      "text/plain": [
       "[name: \"/device:CPU:0\"\n",
       " device_type: \"CPU\"\n",
       " memory_limit: 268435456\n",
       " locality {\n",
       " }\n",
       " incarnation: 4252465192787916834\n",
       " xla_global_id: -1]"
      ]
     },
     "execution_count": 1,
     "metadata": {},
     "output_type": "execute_result"
    }
   ],
   "source": [
    "from tensorflow.python.client import device_lib\n",
    "device_lib.list_local_devices()"
   ]
  },
  {
   "cell_type": "code",
   "execution_count": 1,
   "metadata": {
    "execution": {
     "iopub.execute_input": "2021-02-12T22:22:14.629019Z",
     "iopub.status.busy": "2021-02-12T22:22:14.628063Z",
     "iopub.status.idle": "2021-02-12T22:22:21.253624Z",
     "shell.execute_reply": "2021-02-12T22:22:21.252799Z"
    },
    "id": "sMitx5qSgJk1"
   },
   "outputs": [],
   "source": [
    "from __future__ import absolute_import, division, print_function\n",
    "\n",
    "import base64\n",
    "import imageio\n",
    "import IPython\n",
    "import matplotlib\n",
    "import matplotlib.pyplot as plt\n",
    "import numpy as np\n",
    "import PIL.Image\n",
    "import pyvirtualdisplay\n",
    "\n",
    "import tensorflow as tf\n",
    "\n",
    "from tf_agents.agents.dqn import dqn_agent\n",
    "from tf_agents.drivers import dynamic_step_driver\n",
    "from tf_agents.environments import suite_gym\n",
    "from tf_agents.environments import tf_py_environment\n",
    "from tf_agents.eval import metric_utils\n",
    "from tf_agents.metrics import tf_metrics\n",
    "from tf_agents.networks import q_network\n",
    "from tf_agents.policies import random_tf_policy\n",
    "from tf_agents.replay_buffers import tf_uniform_replay_buffer\n",
    "from tf_agents.trajectories import trajectory\n",
    "from tf_agents.utils import common"
   ]
  },
  {
   "cell_type": "code",
   "execution_count": 2,
   "metadata": {
    "execution": {
     "iopub.execute_input": "2021-02-12T22:22:21.265848Z",
     "iopub.status.busy": "2021-02-12T22:22:21.265155Z",
     "iopub.status.idle": "2021-02-12T22:22:21.353942Z",
     "shell.execute_reply": "2021-02-12T22:22:21.354348Z"
    },
    "id": "J6HsdS5GbSjd"
   },
   "outputs": [],
   "source": [
    "tf.compat.v1.enable_v2_behavior()\n",
    "\n",
    "# Set up a virtual display for rendering OpenAI gym environments.\n",
    "display = pyvirtualdisplay.Display(visible=0, size=(1400, 900)).start()"
   ]
  },
  {
   "cell_type": "code",
   "execution_count": 3,
   "metadata": {
    "execution": {
     "iopub.execute_input": "2021-02-12T22:22:21.360730Z",
     "iopub.status.busy": "2021-02-12T22:22:21.360005Z",
     "iopub.status.idle": "2021-02-12T22:22:21.363845Z",
     "shell.execute_reply": "2021-02-12T22:22:21.364227Z"
    },
    "id": "NspmzG4nP3b9"
   },
   "outputs": [
    {
     "data": {
      "text/plain": [
       "'2.9.1'"
      ]
     },
     "execution_count": 3,
     "metadata": {},
     "output_type": "execute_result"
    }
   ],
   "source": [
    "tf.version.VERSION"
   ]
  },
  {
   "cell_type": "markdown",
   "metadata": {
    "id": "LmC0NDhdLIKY"
   },
   "source": [
    "## ハイパーパラメータ"
   ]
  },
  {
   "cell_type": "code",
   "execution_count": 4,
   "metadata": {
    "execution": {
     "iopub.execute_input": "2021-02-12T22:22:21.368921Z",
     "iopub.status.busy": "2021-02-12T22:22:21.368085Z",
     "iopub.status.idle": "2021-02-12T22:22:21.370525Z",
     "shell.execute_reply": "2021-02-12T22:22:21.370033Z"
    },
    "id": "HC1kNrOsLSIZ"
   },
   "outputs": [],
   "source": [
    "num_iterations = 20000 # @param {type:\"integer\"}\n",
    "\n",
    "initial_collect_steps = 1000  # @param {type:\"integer\"} \n",
    "collect_steps_per_iteration = 1  # @param {type:\"integer\"}\n",
    "replay_buffer_max_length = 100000  # @param {type:\"integer\"}\n",
    "\n",
    "batch_size = 64  # @param {type:\"integer\"}\n",
    "learning_rate = 1e-3  # @param {type:\"number\"}\n",
    "log_interval = 200  # @param {type:\"integer\"}\n",
    "\n",
    "num_eval_episodes = 10  # @param {type:\"integer\"}\n",
    "eval_interval = 1000  # @param {type:\"integer\"}"
   ]
  },
  {
   "cell_type": "markdown",
   "metadata": {
    "id": "VMsJC3DEgI0x"
   },
   "source": [
    "## 環境\n",
    "\n",
    "強化学習（RL）では、環境はタスクまたは解決すべき問題を表します。標準環境は、`tf_agents.environments`スイートを使用して TF-Agent で作成できます。TF-Agent には、OpenAI Gym、Atari、DM Control などのソースから環境を読み込むためのスイートがあります。\n",
    "\n",
    "OpenAI Gym スイートから CartPole 環境を読み込みます。 "
   ]
  },
  {
   "cell_type": "code",
   "execution_count": 5,
   "metadata": {
    "execution": {
     "iopub.execute_input": "2021-02-12T22:22:21.375146Z",
     "iopub.status.busy": "2021-02-12T22:22:21.374063Z",
     "iopub.status.idle": "2021-02-12T22:22:21.382998Z",
     "shell.execute_reply": "2021-02-12T22:22:21.383403Z"
    },
    "id": "pYEz-S9gEv2-"
   },
   "outputs": [],
   "source": [
    "env_name = 'CartPole-v0'\n",
    "env = suite_gym.load(env_name)"
   ]
  },
  {
   "cell_type": "markdown",
   "metadata": {
    "id": "IIHYVBkuvPNw"
   },
   "source": [
    "この環境をレンダリングして、どのように見えるかを確認できます。台車の上に自由に振り動く棒を立て、その棒が倒れないように台車を左右に動かすことが目標です。"
   ]
  },
  {
   "cell_type": "code",
   "execution_count": 6,
   "metadata": {
    "execution": {
     "iopub.execute_input": "2021-02-12T22:22:21.389571Z",
     "iopub.status.busy": "2021-02-12T22:22:21.388670Z",
     "iopub.status.idle": "2021-02-12T22:22:21.850717Z",
     "shell.execute_reply": "2021-02-12T22:22:21.850258Z"
    },
    "id": "RlO7WIQHu_7D"
   },
   "outputs": [
    {
     "data": {
      "image/png": "[encoded data removed]",
      "text/plain": [
       "<PIL.Image.Image image mode=RGB size=600x400 at 0x7F834B2B7100>"
      ]
     },
     "execution_count": 6,
     "metadata": {},
     "output_type": "execute_result"
    }
   ],
   "source": [
    "#@test {\"skip\": true}\n",
    "env.reset()\n",
    "PIL.Image.fromarray(env.render())"
   ]
  },
  {
   "cell_type": "markdown",
   "metadata": {
    "id": "B9_lskPOey18"
   },
   "source": [
    "`environment.step`メソッドは、環境内で`action`を取り、環境の次の観測と行動の報酬を含む`TimeStep`タプルを返します。\n",
    "\n",
    "`time_step_spec()`メソッドは、`TimeStep`タプルの仕様を返します。その`observation`属性は、観測の形状、データ型、および許容値の範囲を示します。`reward`属性は、報酬についての同じ詳細を示します。\n"
   ]
  },
  {
   "cell_type": "code",
   "execution_count": 7,
   "metadata": {
    "execution": {
     "iopub.execute_input": "2021-02-12T22:22:21.859797Z",
     "iopub.status.busy": "2021-02-12T22:22:21.858969Z",
     "iopub.status.idle": "2021-02-12T22:22:21.861594Z",
     "shell.execute_reply": "2021-02-12T22:22:21.861978Z"
    },
    "id": "exDv57iHfwQV"
   },
   "outputs": [
    {
     "name": "stdout",
     "output_type": "stream",
     "text": [
      "Observation Spec:\n",
      "BoundedArraySpec(shape=(4,), dtype=dtype('float32'), name='observation', minimum=[-4.8000002e+00 -3.4028235e+38 -4.1887903e-01 -3.4028235e+38], maximum=[4.8000002e+00 3.4028235e+38 4.1887903e-01 3.4028235e+38])\n"
     ]
    }
   ],
   "source": [
    "print('Observation Spec:')\n",
    "print(env.time_step_spec().observation)"
   ]
  },
  {
   "cell_type": "code",
   "execution_count": 8,
   "metadata": {
    "execution": {
     "iopub.execute_input": "2021-02-12T22:22:21.866490Z",
     "iopub.status.busy": "2021-02-12T22:22:21.865749Z",
     "iopub.status.idle": "2021-02-12T22:22:21.868268Z",
     "shell.execute_reply": "2021-02-12T22:22:21.868700Z"
    },
    "id": "UxiSyCbBUQPi"
   },
   "outputs": [
    {
     "name": "stdout",
     "output_type": "stream",
     "text": [
      "Reward Spec:\n",
      "ArraySpec(shape=(), dtype=dtype('float32'), name='reward')\n"
     ]
    }
   ],
   "source": [
    "print('Reward Spec:')\n",
    "print(env.time_step_spec().reward)"
   ]
  },
  {
   "cell_type": "markdown",
   "metadata": {
    "id": "b_lHcIcqUaqB"
   },
   "source": [
    "`action_spec()`メソッドは、有効な行動の形状、データタイプ、および許容値を返します。"
   ]
  },
  {
   "cell_type": "code",
   "execution_count": 9,
   "metadata": {
    "execution": {
     "iopub.execute_input": "2021-02-12T22:22:21.872899Z",
     "iopub.status.busy": "2021-02-12T22:22:21.872172Z",
     "iopub.status.idle": "2021-02-12T22:22:21.874769Z",
     "shell.execute_reply": "2021-02-12T22:22:21.875283Z"
    },
    "id": "bttJ4uxZUQBr"
   },
   "outputs": [
    {
     "name": "stdout",
     "output_type": "stream",
     "text": [
      "Action Spec:\n",
      "BoundedArraySpec(shape=(), dtype=dtype('int64'), name='action', minimum=0, maximum=1)\n"
     ]
    }
   ],
   "source": [
    "print('Action Spec:')\n",
    "print(env.action_spec())"
   ]
  },
  {
   "cell_type": "markdown",
   "metadata": {
    "id": "eJCgJnx3g0yY"
   },
   "source": [
    "CartPole 環境では\n",
    "\n",
    "- `observation`は以下の 4 つの float 型の配列です。\n",
    "    - 台車の位置と速度\n",
    "    - 棒の角度位置と速度\n",
    "- `reward`はスカラーの浮動小数点値です\n",
    "- `action`は可能な値が 2 つだけのスカラー整数です。\n",
    "    - `0` — 「左に移動」\n",
    "    - `1` — 「右に移動」\n"
   ]
  },
  {
   "cell_type": "code",
   "execution_count": 10,
   "metadata": {
    "execution": {
     "iopub.execute_input": "2021-02-12T22:22:21.882903Z",
     "iopub.status.busy": "2021-02-12T22:22:21.882258Z",
     "iopub.status.idle": "2021-02-12T22:22:21.885282Z",
     "shell.execute_reply": "2021-02-12T22:22:21.884820Z"
    },
    "id": "V2UGR5t_iZX-"
   },
   "outputs": [
    {
     "name": "stdout",
     "output_type": "stream",
     "text": [
      "Time step:\n",
      "TimeStep(\n",
      "{'discount': array(1., dtype=float32),\n",
      " 'observation': array([-0.01561419, -0.0394837 , -0.02656266,  0.0020255 ], dtype=float32),\n",
      " 'reward': array(0., dtype=float32),\n",
      " 'step_type': array(0, dtype=int32)})\n",
      "Next time step:\n",
      "TimeStep(\n",
      "{'discount': array(1., dtype=float32),\n",
      " 'observation': array([-0.01640386,  0.15600893, -0.02652215, -0.2989185 ], dtype=float32),\n",
      " 'reward': array(1., dtype=float32),\n",
      " 'step_type': array(1, dtype=int32)})\n"
     ]
    }
   ],
   "source": [
    "time_step = env.reset()\n",
    "print('Time step:')\n",
    "print(time_step)\n",
    "\n",
    "action = np.array(1, dtype=np.int32)\n",
    "\n",
    "next_time_step = env.step(action)\n",
    "print('Next time step:')\n",
    "print(next_time_step)"
   ]
  },
  {
   "cell_type": "markdown",
   "metadata": {
    "id": "4JSc9GviWUBK"
   },
   "source": [
    "通常、2 つの環境（トレーニング用、評価用）のみがインスタンス化されます。 "
   ]
  },
  {
   "cell_type": "code",
   "execution_count": 11,
   "metadata": {
    "execution": {
     "iopub.execute_input": "2021-02-12T22:22:21.891274Z",
     "iopub.status.busy": "2021-02-12T22:22:21.890457Z",
     "iopub.status.idle": "2021-02-12T22:22:21.892464Z",
     "shell.execute_reply": "2021-02-12T22:22:21.892806Z"
    },
    "id": "N7brXNIGWXjC"
   },
   "outputs": [],
   "source": [
    "train_py_env = suite_gym.load(env_name)\n",
    "eval_py_env = suite_gym.load(env_name)"
   ]
  },
  {
   "cell_type": "markdown",
   "metadata": {
    "id": "zuUqXAVmecTU"
   },
   "source": [
    "CartPole 環境は、ほとんどの環境と同様に純粋な Python で記述されています。これは、`TFPyEnvironment`ラッパーを使用して TensorFlow に変換されます。\n",
    "\n",
    "従来の環境の API は Numpy 配列を使用します。`TFPyEnvironment`は、これらを`Tensors`に変換して、Tensorflow エージェントおよびポリシーとの互換性を確保します。\n"
   ]
  },
  {
   "cell_type": "code",
   "execution_count": 12,
   "metadata": {
    "execution": {
     "iopub.execute_input": "2021-02-12T22:22:21.897609Z",
     "iopub.status.busy": "2021-02-12T22:22:21.896922Z",
     "iopub.status.idle": "2021-02-12T22:22:21.906184Z",
     "shell.execute_reply": "2021-02-12T22:22:21.906582Z"
    },
    "id": "Xp-Y4mD6eDhF"
   },
   "outputs": [],
   "source": [
    "train_env = tf_py_environment.TFPyEnvironment(train_py_env)\n",
    "eval_env = tf_py_environment.TFPyEnvironment(eval_py_env)"
   ]
  },
  {
   "cell_type": "markdown",
   "metadata": {
    "id": "E9lW_OZYFR8A"
   },
   "source": [
    "## エージェント\n",
    "\n",
    "RL問題の解決に使用されるアルゴリズムは、`Agent`で表されます。TF-Agent は、以下を含むさまざまな`Agents`の標準実装を提供します。\n",
    "\n",
    "- [DQN](https://storage.googleapis.com/deepmind-media/dqn/DQNNaturePaper.pdf)（本チュートリアルで使用）\n",
    "- [REINFORCE](http://www-anw.cs.umass.edu/~barto/courses/cs687/williams92simple.pdf)\n",
    "- [DDPG](https://arxiv.org/pdf/1509.02971.pdf)\n",
    "- [TD3](https://arxiv.org/pdf/1802.09477.pdf)\n",
    "- [PPO](https://arxiv.org/abs/1707.06347)\n",
    "- [SAC](https://arxiv.org/abs/1801.01290)\n",
    "\n",
    "DQN エージェントは、個別の行動領域がある任意の環境で使用できます。\n",
    "\n",
    "DQN エージェントの中心にあるのが`QNetwork`です。これは、環境から観察を得て、すべての行動の`QValues`（予期される戻り値）を予測する方法を学習するニューラルネットワークモデルです。\n",
    "\n",
    "`tf_agents.networks.q_network`を使用して`QNetwork`を作成し、`observation_spec`、`action_spec`、およびモデルの非表示レイヤーの数とサイズを表すタプルを渡します。\n"
   ]
  },
  {
   "cell_type": "code",
   "execution_count": 13,
   "metadata": {
    "execution": {
     "iopub.execute_input": "2021-02-12T22:22:21.910972Z",
     "iopub.status.busy": "2021-02-12T22:22:21.910414Z",
     "iopub.status.idle": "2021-02-12T22:22:21.946848Z",
     "shell.execute_reply": "2021-02-12T22:22:21.946312Z"
    },
    "id": "TgkdEPg_muzV"
   },
   "outputs": [],
   "source": [
    "fc_layer_params = (100,)\n",
    "\n",
    "q_net = q_network.QNetwork(\n",
    "    train_env.observation_spec(),\n",
    "    train_env.action_spec(),\n",
    "    fc_layer_params=fc_layer_params)"
   ]
  },
  {
   "cell_type": "markdown",
   "metadata": {
    "id": "z62u55hSmviJ"
   },
   "source": [
    "`tf_agents.agents.dqn.dqn_agent`を使用して`DqnAgent`をインスタンス化します。`time_step_spec`、`action_spec`、および QNetwork に加えて、エージェントコンストラクタにもオプティマイザ（この場合、`AdamOptimizer`）、損失関数、および整数ステップカウンタが必要です。"
   ]
  },
  {
   "cell_type": "code",
   "execution_count": 14,
   "metadata": {
    "execution": {
     "iopub.execute_input": "2021-02-12T22:22:22.634467Z",
     "iopub.status.busy": "2021-02-12T22:22:22.633673Z",
     "iopub.status.idle": "2021-02-12T22:22:23.953705Z",
     "shell.execute_reply": "2021-02-12T22:22:23.953164Z"
    },
    "id": "jbY4yrjTEyc9"
   },
   "outputs": [
    {
     "name": "stderr",
     "output_type": "stream",
     "text": [
      "2022-06-23 14:54:52.771821: I tensorflow/stream_executor/cuda/cuda_gpu_executor.cc:975] successful NUMA node read from SysFS had negative value (-1), but there must be at least one NUMA node, so returning NUMA node zero\n",
      "2022-06-23 14:54:52.938290: W tensorflow/stream_executor/platform/default/dso_loader.cc:64] Could not load dynamic library 'libcudnn.so.8'; dlerror: libcudnn.so.8: cannot open shared object file: No such file or directory\n",
      "2022-06-23 14:54:52.938313: W tensorflow/core/common_runtime/gpu/gpu_device.cc:1850] Cannot dlopen some GPU libraries. Please make sure the missing libraries mentioned above are installed properly if you would like to use GPU. Follow the guide at https://www.tensorflow.org/install/gpu for how to download and setup the required libraries for your platform.\n",
      "Skipping registering GPU devices...\n"
     ]
    }
   ],
   "source": [
    "optimizer = tf.compat.v1.train.AdamOptimizer(learning_rate=learning_rate)\n",
    "\n",
    "train_step_counter = tf.Variable(0)\n",
    "\n",
    "agent = dqn_agent.DqnAgent(\n",
    "    train_env.time_step_spec(),\n",
    "    train_env.action_spec(),\n",
    "    q_network=q_net,\n",
    "    optimizer=optimizer,\n",
    "    td_errors_loss_fn=common.element_wise_squared_loss,\n",
    "    train_step_counter=train_step_counter)\n",
    "\n",
    "agent.initialize()"
   ]
  },
  {
   "cell_type": "markdown",
   "metadata": {
    "id": "I0KLrEPwkn5x"
   },
   "source": [
    "## ポリシー\n",
    "\n",
    "ポリシーは、エージェントが環境で行動する方法を定義します。通常、強化学習の目標は、ポリシーが望ましい結果を生成するまで、基礎となるモデルをトレーニングすることです。\n",
    "\n",
    "このチュートリアルでは\n",
    "\n",
    "- 望ましい結果は、台車の上の棒が倒れないようにバランスを保つことです。\n",
    "- ポリシーは、`time_step`観測ごとに行動（左または右）を返します。\n",
    "\n",
    "エージェントには 2 つのポリシーが含まれています。\n",
    "\n",
    "- `agent.policy` — 評価とデプロイに使用される主なポリシー。\n",
    "- `agent.collect_policy` — データ収集に使用される補助的なポリシー。\n"
   ]
  },
  {
   "cell_type": "code",
   "execution_count": 15,
   "metadata": {
    "execution": {
     "iopub.execute_input": "2021-02-12T22:22:23.958289Z",
     "iopub.status.busy": "2021-02-12T22:22:23.957522Z",
     "iopub.status.idle": "2021-02-12T22:22:23.960142Z",
     "shell.execute_reply": "2021-02-12T22:22:23.959612Z"
    },
    "id": "BwY7StuMkuV4"
   },
   "outputs": [],
   "source": [
    "eval_policy = agent.policy\n",
    "collect_policy = agent.collect_policy"
   ]
  },
  {
   "cell_type": "markdown",
   "metadata": {
    "id": "2Qs1Fl3dV0ae"
   },
   "source": [
    "ポリシーはエージェントとは無関係に作成できます。たとえば、`tf_agents.policies.random_tf_policy`を使用して、各`time_step`の行動をランダムに選択するポリシーを作成できます。"
   ]
  },
  {
   "cell_type": "code",
   "execution_count": 16,
   "metadata": {
    "execution": {
     "iopub.execute_input": "2021-02-12T22:22:23.964841Z",
     "iopub.status.busy": "2021-02-12T22:22:23.964081Z",
     "iopub.status.idle": "2021-02-12T22:22:23.966454Z",
     "shell.execute_reply": "2021-02-12T22:22:23.965992Z"
    },
    "id": "HE37-UCIrE69"
   },
   "outputs": [],
   "source": [
    "random_policy = random_tf_policy.RandomTFPolicy(train_env.time_step_spec(),\n",
    "                                                train_env.action_spec())"
   ]
  },
  {
   "cell_type": "markdown",
   "metadata": {
    "id": "dOlnlRRsUbxP"
   },
   "source": [
    "ポリシーから行動を取得するには、`policy.action(time_step)`メソッドを呼び出します。`time_step`には、環境からの観測が含まれています。このメソッドは、3 つのコンポーネントを持つ名前付きタプルである`PolicyStep`を返します。\n",
    "\n",
    "- `action` — 実行する行動（ここでは`0`または`1`)\n",
    "- `state` — ステートフルポリシー（RNNベース）に使用\n",
    "- `info` — 行動のログ確率などの補助データ"
   ]
  },
  {
   "cell_type": "code",
   "execution_count": 17,
   "metadata": {
    "execution": {
     "iopub.execute_input": "2021-02-12T22:22:23.972096Z",
     "iopub.status.busy": "2021-02-12T22:22:23.971436Z",
     "iopub.status.idle": "2021-02-12T22:22:23.974875Z",
     "shell.execute_reply": "2021-02-12T22:22:23.974447Z"
    },
    "id": "5gCcpXswVAxk"
   },
   "outputs": [],
   "source": [
    "example_environment = tf_py_environment.TFPyEnvironment(\n",
    "    suite_gym.load('CartPole-v0'))"
   ]
  },
  {
   "cell_type": "code",
   "execution_count": 18,
   "metadata": {
    "execution": {
     "iopub.execute_input": "2021-02-12T22:22:23.978975Z",
     "iopub.status.busy": "2021-02-12T22:22:23.978207Z",
     "iopub.status.idle": "2021-02-12T22:22:23.981476Z",
     "shell.execute_reply": "2021-02-12T22:22:23.980951Z"
    },
    "id": "D4DHZtq3Ndis"
   },
   "outputs": [],
   "source": [
    "time_step = example_environment.reset()"
   ]
  },
  {
   "cell_type": "code",
   "execution_count": 19,
   "metadata": {
    "execution": {
     "iopub.execute_input": "2021-02-12T22:22:23.986127Z",
     "iopub.status.busy": "2021-02-12T22:22:23.985559Z",
     "iopub.status.idle": "2021-02-12T22:22:23.991615Z",
     "shell.execute_reply": "2021-02-12T22:22:23.991168Z"
    },
    "id": "PRFqAUzpNaAW"
   },
   "outputs": [
    {
     "data": {
      "text/plain": [
       "PolicyStep(action=<tf.Tensor: shape=(1,), dtype=int64, numpy=array([0])>, state=(), info=())"
      ]
     },
     "execution_count": 19,
     "metadata": {},
     "output_type": "execute_result"
    }
   ],
   "source": [
    "random_policy.action(time_step)"
   ]
  },
  {
   "cell_type": "markdown",
   "metadata": {
    "id": "94rCXQtbUbXv"
   },
   "source": [
    "## 指標と評価\n",
    "\n",
    "ポリシーの評価に使用される最も一般的な指標は、平均リターンです。リターンは、エピソードの環境でポリシーを実行中に取得した報酬の合計です。エピソードは何回か実行され、平均リターンが生成されます。\n",
    "\n",
    "次の関数は、ポリシー、環境、およびエピソードの数を指定して、ポリシーの平均リターンを計算します。\n"
   ]
  },
  {
   "cell_type": "code",
   "execution_count": 20,
   "metadata": {
    "execution": {
     "iopub.execute_input": "2021-02-12T22:22:23.997710Z",
     "iopub.status.busy": "2021-02-12T22:22:23.996994Z",
     "iopub.status.idle": "2021-02-12T22:22:23.999468Z",
     "shell.execute_reply": "2021-02-12T22:22:23.998979Z"
    },
    "id": "bitzHo5_UbXy"
   },
   "outputs": [],
   "source": [
    "#@test {\"skip\": true}\n",
    "def compute_avg_return(environment, policy, num_episodes=10):\n",
    "\n",
    "  total_return = 0.0\n",
    "  for _ in range(num_episodes):\n",
    "\n",
    "    time_step = environment.reset()\n",
    "    episode_return = 0.0\n",
    "\n",
    "    while not time_step.is_last():\n",
    "      action_step = policy.action(time_step)\n",
    "      time_step = environment.step(action_step.action)\n",
    "      episode_return += time_step.reward\n",
    "    total_return += episode_return\n",
    "\n",
    "  avg_return = total_return / num_episodes\n",
    "  return avg_return.numpy()[0]\n",
    "\n",
    "\n",
    "# See also the metrics module for standard implementations of different metrics.\n",
    "# https://github.com/tensorflow/agents/tree/master/tf_agents/metrics"
   ]
  },
  {
   "cell_type": "markdown",
   "metadata": {
    "id": "_snCVvq5Z8lJ"
   },
   "source": [
    "この計算を`random_policy`で実行すると、環境のベースラインパフォーマンスが示されます。"
   ]
  },
  {
   "cell_type": "code",
   "execution_count": 21,
   "metadata": {
    "execution": {
     "iopub.execute_input": "2021-02-12T22:22:24.004020Z",
     "iopub.status.busy": "2021-02-12T22:22:24.003430Z",
     "iopub.status.idle": "2021-02-12T22:22:24.394562Z",
     "shell.execute_reply": "2021-02-12T22:22:24.394066Z"
    },
    "id": "9bgU6Q6BZ8Bp"
   },
   "outputs": [
    {
     "data": {
      "text/plain": [
       "23.7"
      ]
     },
     "execution_count": 21,
     "metadata": {},
     "output_type": "execute_result"
    }
   ],
   "source": [
    "compute_avg_return(eval_env, random_policy, num_eval_episodes)"
   ]
  },
  {
   "cell_type": "markdown",
   "metadata": {
    "id": "NLva6g2jdWgr"
   },
   "source": [
    "## 再生バッファ\n",
    "\n",
    "再生バッファは、環境から収集されたデータを追跡します。このチュートリアルでは最も一般的な`tf_agents.replay_buffers.tf_uniform_replay_buffer.TFUniformReplayBuffer`を使用します。\n",
    "\n",
    "コンストラクタは、収集するデータの仕様を必要とします。これは、`collect_data_spec`メソッドを使用してエージェントから入手できます。バッチサイズと最大バッファ長も必要です。\n"
   ]
  },
  {
   "cell_type": "code",
   "execution_count": 22,
   "metadata": {
    "execution": {
     "iopub.execute_input": "2021-02-12T22:22:24.399611Z",
     "iopub.status.busy": "2021-02-12T22:22:24.398982Z",
     "iopub.status.idle": "2021-02-12T22:22:24.409649Z",
     "shell.execute_reply": "2021-02-12T22:22:24.409234Z"
    },
    "id": "vX2zGUWJGWAl"
   },
   "outputs": [],
   "source": [
    "replay_buffer = tf_uniform_replay_buffer.TFUniformReplayBuffer(\n",
    "    data_spec=agent.collect_data_spec,\n",
    "    batch_size=train_env.batch_size,\n",
    "    max_length=replay_buffer_max_length)"
   ]
  },
  {
   "cell_type": "markdown",
   "metadata": {
    "id": "ZGNTDJpZs4NN"
   },
   "source": [
    "ほとんどのエージェントの場合、`collect_data_spec`は、`Trajectory`と呼ばれる名前付きタプルであり、観測、行動、報酬、およびその他の要素の仕様が含まれています。"
   ]
  },
  {
   "cell_type": "code",
   "execution_count": 23,
   "metadata": {
    "execution": {
     "iopub.execute_input": "2021-02-12T22:22:24.414858Z",
     "iopub.status.busy": "2021-02-12T22:22:24.414068Z",
     "iopub.status.idle": "2021-02-12T22:22:24.417439Z",
     "shell.execute_reply": "2021-02-12T22:22:24.417005Z"
    },
    "id": "_IZ-3HcqgE1z"
   },
   "outputs": [
    {
     "data": {
      "text/plain": [
       "Trajectory(\n",
       "{'action': BoundedTensorSpec(shape=(), dtype=tf.int64, name='action', minimum=array(0), maximum=array(1)),\n",
       " 'discount': BoundedTensorSpec(shape=(), dtype=tf.float32, name='discount', minimum=array(0., dtype=float32), maximum=array(1., dtype=float32)),\n",
       " 'next_step_type': TensorSpec(shape=(), dtype=tf.int32, name='step_type'),\n",
       " 'observation': BoundedTensorSpec(shape=(4,), dtype=tf.float32, name='observation', minimum=array([-4.8000002e+00, -3.4028235e+38, -4.1887903e-01, -3.4028235e+38],\n",
       "      dtype=float32), maximum=array([4.8000002e+00, 3.4028235e+38, 4.1887903e-01, 3.4028235e+38],\n",
       "      dtype=float32)),\n",
       " 'policy_info': (),\n",
       " 'reward': TensorSpec(shape=(), dtype=tf.float32, name='reward'),\n",
       " 'step_type': TensorSpec(shape=(), dtype=tf.int32, name='step_type')})"
      ]
     },
     "execution_count": 23,
     "metadata": {},
     "output_type": "execute_result"
    }
   ],
   "source": [
    "agent.collect_data_spec"
   ]
  },
  {
   "cell_type": "code",
   "execution_count": 24,
   "metadata": {
    "execution": {
     "iopub.execute_input": "2021-02-12T22:22:24.421568Z",
     "iopub.status.busy": "2021-02-12T22:22:24.420842Z",
     "iopub.status.idle": "2021-02-12T22:22:24.423986Z",
     "shell.execute_reply": "2021-02-12T22:22:24.423561Z"
    },
    "id": "sy6g1tGcfRlw"
   },
   "outputs": [
    {
     "data": {
      "text/plain": [
       "('step_type',\n",
       " 'observation',\n",
       " 'action',\n",
       " 'policy_info',\n",
       " 'next_step_type',\n",
       " 'reward',\n",
       " 'discount')"
      ]
     },
     "execution_count": 24,
     "metadata": {},
     "output_type": "execute_result"
    }
   ],
   "source": [
    "agent.collect_data_spec._fields"
   ]
  },
  {
   "cell_type": "markdown",
   "metadata": {
    "id": "rVD5nQ9ZGo8_"
   },
   "source": [
    "## データ収集\n",
    "\n",
    "次に、環境でランダムポリシーを数ステップ実行し、データを再生バッファに記録します。"
   ]
  },
  {
   "cell_type": "code",
   "execution_count": 25,
   "metadata": {
    "execution": {
     "iopub.execute_input": "2021-02-12T22:22:24.429670Z",
     "iopub.status.busy": "2021-02-12T22:22:24.429097Z",
     "iopub.status.idle": "2021-02-12T22:22:24.797209Z",
     "shell.execute_reply": "2021-02-12T22:22:24.797614Z"
    },
    "id": "wr1KSAEGG4h9"
   },
   "outputs": [],
   "source": [
    "#@test {\"skip\": true}\n",
    "def collect_step(environment, policy, buffer):\n",
    "  time_step = environment.current_time_step()\n",
    "  action_step = policy.action(time_step)\n",
    "  next_time_step = environment.step(action_step.action)\n",
    "  traj = trajectory.from_transition(time_step, action_step, next_time_step)\n",
    "\n",
    "  # Add trajectory to the replay buffer\n",
    "  buffer.add_batch(traj)\n",
    "\n",
    "def collect_data(env, policy, buffer, steps):\n",
    "  for _ in range(steps):\n",
    "    collect_step(env, policy, buffer)\n",
    "\n",
    "collect_data(train_env, random_policy, replay_buffer, steps=100)\n",
    "\n",
    "# This loop is so common in RL, that we provide standard implementations. \n",
    "# For more details see the drivers module.\n",
    "# https://www.tensorflow.org/agents/api_docs/python/tf_agents/drivers"
   ]
  },
  {
   "cell_type": "markdown",
   "metadata": {
    "id": "84z5pQJdoKxo"
   },
   "source": [
    "再生バッファは Trajectory のコレクションではありません。"
   ]
  },
  {
   "cell_type": "code",
   "execution_count": 26,
   "metadata": {
    "execution": {
     "iopub.execute_input": "2021-02-12T22:22:24.801706Z",
     "iopub.status.busy": "2021-02-12T22:22:24.800991Z",
     "iopub.status.idle": "2021-02-12T22:22:24.802924Z",
     "shell.execute_reply": "2021-02-12T22:22:24.803319Z"
    },
    "id": "4wZnLu2ViO4E"
   },
   "outputs": [],
   "source": [
    "# For the curious:\n",
    "# Uncomment to peel one of these off and inspect it.\n",
    "# iter(replay_buffer.as_dataset()).next()"
   ]
  },
  {
   "cell_type": "markdown",
   "metadata": {
    "id": "TujU-PMUsKjS"
   },
   "source": [
    "エージェントは再生バッファにアクセスする必要があります。これは、エージェントにデータをフィードするイテレーション可能な`tf.data.Dataset`パイプラインを作成することにより提供されます。\n",
    "\n",
    "再生バッファの各行には、1 つの観測ステップのみが格納されます。しかし、DQN エージェントは損失を計算するためにその時点の観測と次の観測を両方必要とするので、データセットパイプラインは、バッチ内の要素ごとに2つの隣接する行をサンプリングします(`num_steps=2`)。\n",
    "\n",
    "また、このデータセットは、並列呼び出しを実行してデータをプリフェッチすることにより最適化されます。"
   ]
  },
  {
   "cell_type": "code",
   "execution_count": 27,
   "metadata": {
    "execution": {
     "iopub.execute_input": "2021-02-12T22:22:24.807786Z",
     "iopub.status.busy": "2021-02-12T22:22:24.807174Z",
     "iopub.status.idle": "2021-02-12T22:22:25.495130Z",
     "shell.execute_reply": "2021-02-12T22:22:25.494624Z"
    },
    "id": "ba7bilizt_qW"
   },
   "outputs": [
    {
     "name": "stdout",
     "output_type": "stream",
     "text": [
      "WARNING:tensorflow:From /home/ikeda/.local/lib/python3.10/site-packages/tensorflow/python/autograph/impl/api.py:377: ReplayBuffer.get_next (from tf_agents.replay_buffers.replay_buffer) is deprecated and will be removed in a future version.\n",
      "Instructions for updating:\n",
      "Use `as_dataset(..., single_deterministic_pass=False) instead.\n"
     ]
    },
    {
     "data": {
      "text/plain": [
       "<PrefetchDataset element_spec=(Trajectory(\n",
       "{'action': TensorSpec(shape=(64, 2), dtype=tf.int64, name=None),\n",
       " 'discount': TensorSpec(shape=(64, 2), dtype=tf.float32, name=None),\n",
       " 'next_step_type': TensorSpec(shape=(64, 2), dtype=tf.int32, name=None),\n",
       " 'observation': TensorSpec(shape=(64, 2, 4), dtype=tf.float32, name=None),\n",
       " 'policy_info': (),\n",
       " 'reward': TensorSpec(shape=(64, 2), dtype=tf.float32, name=None),\n",
       " 'step_type': TensorSpec(shape=(64, 2), dtype=tf.int32, name=None)}), BufferInfo(ids=TensorSpec(shape=(64, 2), dtype=tf.int64, name=None), probabilities=TensorSpec(shape=(64,), dtype=tf.float32, name=None)))>"
      ]
     },
     "execution_count": 27,
     "metadata": {},
     "output_type": "execute_result"
    }
   ],
   "source": [
    "# Dataset generates trajectories with shape [Bx2x...]\n",
    "dataset = replay_buffer.as_dataset(\n",
    "    num_parallel_calls=3, \n",
    "    sample_batch_size=batch_size, \n",
    "    num_steps=2).prefetch(3)\n",
    "\n",
    "\n",
    "dataset"
   ]
  },
  {
   "cell_type": "code",
   "execution_count": 28,
   "metadata": {
    "execution": {
     "iopub.execute_input": "2021-02-12T22:22:25.500181Z",
     "iopub.status.busy": "2021-02-12T22:22:25.499562Z",
     "iopub.status.idle": "2021-02-12T22:22:25.549920Z",
     "shell.execute_reply": "2021-02-12T22:22:25.549455Z"
    },
    "id": "K13AST-2ppOq"
   },
   "outputs": [
    {
     "name": "stdout",
     "output_type": "stream",
     "text": [
      "<tensorflow.python.data.ops.iterator_ops.OwnedIterator object at 0x7f8338102c20>\n"
     ]
    }
   ],
   "source": [
    "iterator = iter(dataset)\n",
    "\n",
    "print(iterator)\n"
   ]
  },
  {
   "cell_type": "code",
   "execution_count": 29,
   "metadata": {
    "execution": {
     "iopub.execute_input": "2021-02-12T22:22:25.553608Z",
     "iopub.status.busy": "2021-02-12T22:22:25.552910Z",
     "iopub.status.idle": "2021-02-12T22:22:25.555319Z",
     "shell.execute_reply": "2021-02-12T22:22:25.554833Z"
    },
    "id": "Th5w5Sff0b16"
   },
   "outputs": [],
   "source": [
    "# For the curious:\n",
    "# Uncomment to see what the dataset iterator is feeding to the agent.\n",
    "# Compare this representation of replay data \n",
    "# to the collection of individual trajectories shown earlier.\n",
    "\n",
    "# iterator.next()"
   ]
  },
  {
   "cell_type": "markdown",
   "metadata": {
    "id": "hBc9lj9VWWtZ"
   },
   "source": [
    "## エージェントのトレーニング\n",
    "\n",
    "トレーニングループ時には、以下の 2 つが行われる必要があります。\n",
    "\n",
    "- 環境からデータを収集する\n",
    "- そのデータを使用してエージェントのニューラルネットワークをトレーニングする\n",
    "\n",
    "この例では、定期的にポリシーを評価し、その時点のスコアを出力します。\n",
    "\n",
    "以下の実行には 5 分ほどかかります。"
   ]
  },
  {
   "cell_type": "code",
   "execution_count": 30,
   "metadata": {
    "execution": {
     "iopub.execute_input": "2021-02-12T22:22:25.564760Z",
     "iopub.status.busy": "2021-02-12T22:22:25.564033Z",
     "iopub.status.idle": "2021-02-12T22:28:40.625837Z",
     "shell.execute_reply": "2021-02-12T22:28:40.626273Z"
    },
    "id": "0pTbJ3PeyF-u"
   },
   "outputs": [
    {
     "name": "stdout",
     "output_type": "stream",
     "text": [
      "WARNING:tensorflow:From /home/ikeda/.local/lib/python3.10/site-packages/tensorflow/python/util/dispatch.py:1082: calling foldr_v2 (from tensorflow.python.ops.functional_ops) with back_prop=False is deprecated and will be removed in a future version.\n",
      "Instructions for updating:\n",
      "back_prop=False is deprecated. Consider using tf.stop_gradient instead.\n",
      "Instead of:\n",
      "results = tf.foldr(fn, elems, back_prop=False)\n",
      "Use:\n",
      "results = tf.nest.map_structure(tf.stop_gradient, tf.foldr(fn, elems))\n",
      "step = 200: loss = 6.102215766906738\n",
      "step = 400: loss = 17.140615463256836\n",
      "step = 600: loss = 2.9092514514923096\n",
      "step = 800: loss = 17.320053100585938\n",
      "step = 1000: loss = 2.934511184692383\n",
      "step = 1000: Average Return = 24.299999237060547\n",
      "step = 1200: loss = 2.135849952697754\n",
      "step = 1400: loss = 3.4013121128082275\n",
      "step = 1600: loss = 8.707769393920898\n",
      "step = 1800: loss = 2.8412909507751465\n",
      "step = 2000: loss = 7.541266441345215\n",
      "step = 2000: Average Return = 23.899999618530273\n",
      "step = 2200: loss = 10.413581848144531\n",
      "step = 2400: loss = 7.78629732131958\n",
      "step = 2600: loss = 23.43850326538086\n",
      "step = 2800: loss = 21.022350311279297\n",
      "step = 3000: loss = 16.26969337463379\n",
      "step = 3000: Average Return = 56.900001525878906\n",
      "step = 3200: loss = 29.43377685546875\n",
      "step = 3400: loss = 12.619701385498047\n",
      "step = 3600: loss = 5.136861801147461\n",
      "step = 3800: loss = 33.4206657409668\n",
      "step = 4000: loss = 22.89810562133789\n",
      "step = 4000: Average Return = 134.60000610351562\n",
      "step = 4200: loss = 62.32987594604492\n",
      "step = 4400: loss = 67.68767547607422\n",
      "step = 4600: loss = 3.8628039360046387\n",
      "step = 4800: loss = 69.95270538330078\n",
      "step = 5000: loss = 69.73220825195312\n",
      "step = 5000: Average Return = 152.6999969482422\n",
      "step = 5200: loss = 134.55581665039062\n",
      "step = 5400: loss = 12.342461585998535\n",
      "step = 5600: loss = 79.10601806640625\n",
      "step = 5800: loss = 59.0007209777832\n",
      "step = 6000: loss = 78.53776550292969\n",
      "step = 6000: Average Return = 164.39999389648438\n",
      "step = 6200: loss = 7.770761489868164\n",
      "step = 6400: loss = 20.20830535888672\n",
      "step = 6600: loss = 102.4747314453125\n",
      "step = 6800: loss = 149.168212890625\n",
      "step = 7000: loss = 98.16546630859375\n",
      "step = 7000: Average Return = 198.8000030517578\n",
      "step = 7200: loss = 11.65188980102539\n",
      "step = 7400: loss = 71.95128631591797\n",
      "step = 7600: loss = 96.4074935913086\n",
      "step = 7800: loss = 13.7592134475708\n",
      "step = 8000: loss = 174.650634765625\n",
      "step = 8000: Average Return = 189.3000030517578\n",
      "step = 8200: loss = 21.863296508789062\n",
      "step = 8400: loss = 21.29541778564453\n",
      "step = 8600: loss = 16.631149291992188\n",
      "step = 8800: loss = 338.07733154296875\n",
      "step = 9000: loss = 293.6462707519531\n",
      "step = 9000: Average Return = 198.6999969482422\n",
      "step = 9200: loss = 459.47247314453125\n",
      "step = 9400: loss = 240.80943298339844\n",
      "step = 9600: loss = 349.1298522949219\n",
      "step = 9800: loss = 490.3771667480469\n",
      "step = 10000: loss = 119.60567474365234\n",
      "step = 10000: Average Return = 200.0\n",
      "step = 10200: loss = 161.2803955078125\n",
      "step = 10400: loss = 191.53457641601562\n",
      "step = 10600: loss = 376.2218017578125\n",
      "step = 10800: loss = 187.10279846191406\n",
      "step = 11000: loss = 25.264463424682617\n",
      "step = 11000: Average Return = 200.0\n",
      "step = 11200: loss = 703.8170776367188\n",
      "step = 11400: loss = 195.5886688232422\n",
      "step = 11600: loss = 28.304582595825195\n",
      "step = 11800: loss = 36.105159759521484\n",
      "step = 12000: loss = 32.19511413574219\n",
      "step = 12000: Average Return = 200.0\n",
      "step = 12200: loss = 600.85546875\n",
      "step = 12400: loss = 36.25679016113281\n",
      "step = 12600: loss = 42.681480407714844\n",
      "step = 12800: loss = 251.46287536621094\n",
      "step = 13000: loss = 35.90550231933594\n",
      "step = 13000: Average Return = 199.5\n",
      "step = 13200: loss = 48.09417724609375\n",
      "step = 13400: loss = 828.1602172851562\n",
      "step = 13600: loss = 658.8757934570312\n",
      "step = 13800: loss = 32.79464340209961\n",
      "step = 14000: loss = 64.41030883789062\n",
      "step = 14000: Average Return = 200.0\n",
      "step = 14200: loss = 51.053733825683594\n",
      "step = 14400: loss = 399.89129638671875\n",
      "step = 14600: loss = 33.75023651123047\n",
      "step = 14800: loss = 440.2644348144531\n",
      "step = 15000: loss = 706.706298828125\n",
      "step = 15000: Average Return = 200.0\n",
      "step = 15200: loss = 1047.162353515625\n",
      "step = 15400: loss = 2598.59521484375\n",
      "step = 15600: loss = 215.2898406982422\n",
      "step = 15800: loss = 1340.287109375\n",
      "step = 16000: loss = 36.566246032714844\n",
      "step = 16000: Average Return = 200.0\n",
      "step = 16200: loss = 75.87307739257812\n",
      "step = 16400: loss = 44.692569732666016\n",
      "step = 16600: loss = 1185.46875\n",
      "step = 16800: loss = 410.2073059082031\n",
      "step = 17000: loss = 633.05615234375\n",
      "step = 17000: Average Return = 200.0\n",
      "step = 17200: loss = 55.58255386352539\n",
      "step = 17400: loss = 82.34325408935547\n",
      "step = 17600: loss = 74.12844848632812\n",
      "step = 17800: loss = 46.52317428588867\n",
      "step = 18000: loss = 49.02685546875\n",
      "step = 18000: Average Return = 200.0\n",
      "step = 18200: loss = 1475.3614501953125\n",
      "step = 18400: loss = 61.09412384033203\n",
      "step = 18600: loss = 71.76060485839844\n",
      "step = 18800: loss = 85.67521667480469\n",
      "step = 19000: loss = 106.36111450195312\n",
      "step = 19000: Average Return = 200.0\n",
      "step = 19200: loss = 1756.0311279296875\n",
      "step = 19400: loss = 85.88671875\n",
      "step = 19600: loss = 302.75103759765625\n",
      "step = 19800: loss = 71.47132873535156\n",
      "step = 20000: loss = 84.96827697753906\n",
      "step = 20000: Average Return = 200.0\n"
     ]
    }
   ],
   "source": [
    "#@test {\"skip\": true}\n",
    "try:\n",
    "  %%time\n",
    "except:\n",
    "  pass\n",
    "\n",
    "# (Optional) Optimize by wrapping some of the code in a graph using TF function.\n",
    "agent.train = common.function(agent.train)\n",
    "\n",
    "# Reset the train step\n",
    "agent.train_step_counter.assign(0)\n",
    "\n",
    "# Evaluate the agent's policy once before training.\n",
    "avg_return = compute_avg_return(eval_env, agent.policy, num_eval_episodes)\n",
    "returns = [avg_return]\n",
    "\n",
    "for _ in range(num_iterations):\n",
    "\n",
    "  # Collect a few steps using collect_policy and save to the replay buffer.\n",
    "  for _ in range(collect_steps_per_iteration):\n",
    "    collect_step(train_env, agent.collect_policy, replay_buffer)\n",
    "\n",
    "  # Sample a batch of data from the buffer and update the agent's network.\n",
    "  experience, unused_info = next(iterator)\n",
    "  train_loss = agent.train(experience).loss\n",
    "\n",
    "  step = agent.train_step_counter.numpy()\n",
    "\n",
    "  if step % log_interval == 0:\n",
    "    print('step = {0}: loss = {1}'.format(step, train_loss))\n",
    "\n",
    "  if step % eval_interval == 0:\n",
    "    avg_return = compute_avg_return(eval_env, agent.policy, num_eval_episodes)\n",
    "    print('step = {0}: Average Return = {1}'.format(step, avg_return))\n",
    "    returns.append(avg_return)"
   ]
  },
  {
   "cell_type": "markdown",
   "metadata": {
    "id": "68jNcA_TiJDq"
   },
   "source": [
    "## 可視化\n"
   ]
  },
  {
   "cell_type": "markdown",
   "metadata": {
    "id": "aO-LWCdbbOIC"
   },
   "source": [
    "### プロット\n",
    "\n",
    "`matplotlib.pyplot`を使用して、トレーニング中にポリシーがどのように改善されたかをグラフ化します。\n",
    "\n",
    "`Cartpole-v0`の 1 回のイテレーションには、200のタイムステップがあります。環境は、棒が立ったままでいる各ステップに対して`+1`の報酬を与えるので、1 つのエピソードの最大リターンは 200 です。グラフは、トレーニング中に評価されるたびに、最大値に向かって増加するリターンを示しています。（多少不安定になり、毎回単調に増加しないこともあります。）"
   ]
  },
  {
   "cell_type": "code",
   "execution_count": 31,
   "metadata": {
    "execution": {
     "iopub.execute_input": "2021-02-12T22:28:40.649147Z",
     "iopub.status.busy": "2021-02-12T22:28:40.645463Z",
     "iopub.status.idle": "2021-02-12T22:28:40.781202Z",
     "shell.execute_reply": "2021-02-12T22:28:40.780663Z"
    },
    "id": "NxtL1mbOYCVO"
   },
   "outputs": [
    {
     "data": {
      "text/plain": [
       "(-0.34000020027160716, 250.0)"
      ]
     },
     "execution_count": 31,
     "metadata": {},
     "output_type": "execute_result"
    },
    {
     "data": {
      "image/png": "[encoded data removed]",
      "text/plain": [
       "<Figure size 432x288 with 1 Axes>"
      ]
     },
     "metadata": {
      "needs_background": "light"
     },
     "output_type": "display_data"
    }
   ],
   "source": [
    "#@test {\"skip\": true}\n",
    "\n",
    "iterations = range(0, num_iterations + 1, eval_interval)\n",
    "plt.plot(iterations, returns)\n",
    "plt.ylabel('Average Return')\n",
    "plt.xlabel('Iterations')\n",
    "plt.ylim(top=250)"
   ]
  },
  {
   "cell_type": "markdown",
   "metadata": {
    "id": "M7-XpPP99Cy7"
   },
   "source": [
    "### 動画"
   ]
  },
  {
   "cell_type": "markdown",
   "metadata": {
    "id": "9pGfGxSH32gn"
   },
   "source": [
    "グラフは便利ですが、エージェントが環境内で実際にタスクを実行している様子を動画で視覚化するとさらに分かりやすくなります。\n",
    "\n",
    "まず、ノートブックに動画を埋め込む関数を作成します。"
   ]
  },
  {
   "cell_type": "code",
   "execution_count": 32,
   "metadata": {
    "execution": {
     "iopub.execute_input": "2021-02-12T22:28:40.786907Z",
     "iopub.status.busy": "2021-02-12T22:28:40.786251Z",
     "iopub.status.idle": "2021-02-12T22:28:40.788060Z",
     "shell.execute_reply": "2021-02-12T22:28:40.788545Z"
    },
    "id": "ULaGr8pvOKbl"
   },
   "outputs": [],
   "source": [
    "def embed_mp4(filename):\n",
    "  \"\"\"Embeds an mp4 file in the notebook.\"\"\"\n",
    "  video = open(filename,'rb').read()\n",
    "  b64 = base64.b64encode(video)\n",
    "  tag = '''\n",
    "  <video width=\"640\" height=\"480\" controls>\n",
    "    <source src=\"data:video/mp4;base64,{0}\" type=\"video/mp4\">\n",
    "  Your browser does not support the video tag.\n",
    "  </video>'''.format(b64.decode())\n",
    "\n",
    "  return IPython.display.HTML(tag)"
   ]
  },
  {
   "cell_type": "markdown",
   "metadata": {
    "id": "9c_PH-pX4Pr5"
   },
   "source": [
    "CartPole ゲームのいくつかのエピソードをエージェントで繰り返します。基礎となる Python 環境（TensorFlow 環境ラッパーの「内部」のもの）は、環境の状態のイメージを出力する`render()`メソッドを提供します。これらは動画に収集できます。"
   ]
  },
  {
   "cell_type": "code",
   "execution_count": 33,
   "metadata": {
    "execution": {
     "iopub.execute_input": "2021-02-12T22:28:40.795218Z",
     "iopub.status.busy": "2021-02-12T22:28:40.794433Z",
     "iopub.status.idle": "2021-02-12T22:28:53.292173Z",
     "shell.execute_reply": "2021-02-12T22:28:53.292634Z"
    },
    "id": "owOVWB158NlF"
   },
   "outputs": [
    {
     "name": "stderr",
     "output_type": "stream",
     "text": [
      "WARNING:root:IMAGEIO FFMPEG_WRITER WARNING: input image is not divisible by macro_block_size=16, resizing from (400, 600) to (400, 608) to ensure video compatibility with most codecs and players. To prevent resizing, make your input image divisible by the macro_block_size or set the macro_block_size to None (risking incompatibility). You may also see a FFMPEG warning concerning speedloss due to data not being aligned.\n",
      "[swscaler @ 0x562893101c00] Warning: data is not aligned! This can lead to a speed loss\n"
     ]
    },
    {
     "data": {
      "text/html": [
       "\n",
       "  <video width=\"640\" height=\"480\" controls>\n",
       "    <source src=\"data:video/mp4;base64,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\" type=\"video/mp4\">\n",
       "  Your browser does not support the video tag.\n",
       "  </video>"
      ],
      "text/plain": [
       "<IPython.core.display.HTML object>"
      ]
     },
     "execution_count": 33,
     "metadata": {},
     "output_type": "execute_result"
    }
   ],
   "source": [
    "def create_policy_eval_video(policy, filename, num_episodes=5, fps=30):\n",
    "  filename = filename + \".mp4\"\n",
    "  with imageio.get_writer(filename, fps=fps) as video:\n",
    "    for _ in range(num_episodes):\n",
    "      time_step = eval_env.reset()\n",
    "      video.append_data(eval_py_env.render())\n",
    "      while not time_step.is_last():\n",
    "        action_step = policy.action(time_step)\n",
    "        time_step = eval_env.step(action_step.action)\n",
    "        video.append_data(eval_py_env.render())\n",
    "  return embed_mp4(filename)\n",
    "\n",
    "\n",
    "\n",
    "\n",
    "create_policy_eval_video(agent.policy, \"trained-agent\")"
   ]
  },
  {
   "cell_type": "markdown",
   "metadata": {
    "id": "povaAOcZygLw"
   },
   "source": [
    "トレーニングされたエージェント（上記）をランダムに移動するエージェントと比較してみてください。（ランダムに移動するエージェントは、トレーニングされたエージェントと比べて上手くできません。）"
   ]
  },
  {
   "cell_type": "code",
   "execution_count": 34,
   "metadata": {
    "execution": {
     "iopub.execute_input": "2021-02-12T22:28:53.299295Z",
     "iopub.status.busy": "2021-02-12T22:28:53.298204Z",
     "iopub.status.idle": "2021-02-12T22:28:54.753046Z",
     "shell.execute_reply": "2021-02-12T22:28:54.752429Z"
    },
    "id": "pJZIdC37yNH4"
   },
   "outputs": [
    {
     "name": "stderr",
     "output_type": "stream",
     "text": [
      "WARNING:root:IMAGEIO FFMPEG_WRITER WARNING: input image is not divisible by macro_block_size=16, resizing from (400, 600) to (400, 608) to ensure video compatibility with most codecs and players. To prevent resizing, make your input image divisible by the macro_block_size or set the macro_block_size to None (risking incompatibility). You may also see a FFMPEG warning concerning speedloss due to data not being aligned.\n",
      "[swscaler @ 0x55dcc8f6ac00] Warning: data is not aligned! This can lead to a speed loss\n"
     ]
    },
    {
     "data": {
      "text/html": [
       "\n",
       "  <video width=\"640\" height=\"480\" controls>\n",
       "    <source src=\"data:video/mp4;base64,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\" type=\"video/mp4\">\n",
       "  Your browser does not support the video tag.\n",
       "  </video>"
      ],
      "text/plain": [
       "<IPython.core.display.HTML object>"
      ]
     },
     "execution_count": 34,
     "metadata": {},
     "output_type": "execute_result"
    }
   ],
   "source": [
    "create_policy_eval_video(random_policy, \"random-agent\")"
   ]
  },
  {
   "cell_type": "code",
   "execution_count": null,
   "metadata": {},
   "outputs": [],
   "source": []
  },
  {
   "cell_type": "code",
   "execution_count": null,
   "metadata": {},
   "outputs": [],
   "source": []
  }
 ],
 "metadata": {
  "colab": {
   "collapsed_sections": [],
   "name": "1_dqn_tutorial.ipynb",
   "toc_visible": true
  },
  "kernelspec": {
   "display_name": "Python 3 (ipykernel)",
   "language": "python",
   "name": "python3"
  },
  "language_info": {
   "codemirror_mode": {
    "name": "ipython",
    "version": 3
   },
   "file_extension": ".py",
   "mimetype": "text/x-python",
   "name": "python",
   "nbconvert_exporter": "python",
   "pygments_lexer": "ipython3",
   "version": "3.10.4"
  }
 },
 "nbformat": 4,
 "nbformat_minor": 1
}
