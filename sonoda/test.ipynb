{
 "cells": [
  {
   "cell_type": "markdown",
   "metadata": {},
   "source": [
    "# [第4回 今更だけど基礎から強化学習を勉強する 連続行動空間編](https://qiita.com/pocokhc/items/0872539ad9d981847595)"
   ]
  },
  {
   "cell_type": "code",
   "execution_count": 1,
   "metadata": {
    "scrolled": true
   },
   "outputs": [],
   "source": [
    "from gym import spaces\n",
    "from gym.envs.classic_control.cartpole import CartPoleEnv\n",
    "import numpy as np\n",
    "import math\n",
    "import tensorflow as tf\n",
    "from tensorflow.python import keras\n",
    "from tensorflow.keras.optimizers import Adam\n",
    "from matplotlib import pyplot as plt"
   ]
  },
  {
   "cell_type": "markdown",
   "metadata": {},
   "source": [
    "## 行動空間を連続値にしたCartPole"
   ]
  },
  {
   "cell_type": "code",
   "execution_count": 2,
   "metadata": {},
   "outputs": [],
   "source": [
    "# オリジナルのCartpoleを継承\n",
    "class MyCartpole(CartPoleEnv):\n",
    "    def __init__(self):\n",
    "        super().__init__()\n",
    "\n",
    "        # action_space を連続空間に変更\n",
    "        self.action_space = spaces.Box(-self.force_mag, self.force_mag, shape=(1,), dtype=np.float32)\n",
    "\n",
    "    def reset(self):\n",
    "        # 終了ターンのが実装内で定義されているので実装\n",
    "        self.step_count = 0\n",
    "        return super().reset()\n",
    "\n",
    "    def step(self, action):\n",
    "        # デバッグ\n",
    "#         print(self.state, action)\n",
    "        # 200ターンたったら終了する\n",
    "        self.step_count += 1\n",
    "        if self.step_count > 200:\n",
    "            return np.array(self.state), 0.0, True, {}\n",
    "        \n",
    "        # 例外処理\n",
    "        if np.isnan(action):\n",
    "            return np.array(self.state), 0.0, True, {}\n",
    "        \n",
    "        # アクションをclipして force の値にする\n",
    "        force = np.clip(action, -self.force_mag, self.force_mag)[0]\n",
    "\n",
    "        #--- 以下オリジナルのstepコードをコピペ ---\n",
    "\n",
    "        x, x_dot, theta, theta_dot = self.state\n",
    "        costheta = math.cos(theta)\n",
    "        sintheta = math.sin(theta)\n",
    "\n",
    "        # For the interested reader:\n",
    "        # https://coneural.org/florian/papers/05_cart_pole.pdf\n",
    "        temp = (force + self.polemass_length * theta_dot ** 2 * sintheta) / self.total_mass\n",
    "        thetaacc = (self.gravity * sintheta - costheta * temp) / (self.length * (4.0 / 3.0 - self.masspole * costheta ** 2 / self.total_mass))\n",
    "        xacc = temp - self.polemass_length * thetaacc * costheta / self.total_mass\n",
    "\n",
    "        if self.kinematics_integrator == 'euler':\n",
    "            x = x + self.tau * x_dot\n",
    "            x_dot = x_dot + self.tau * xacc\n",
    "            theta = theta + self.tau * theta_dot\n",
    "            theta_dot = theta_dot + self.tau * thetaacc\n",
    "        else:  # semi-implicit euler\n",
    "            x_dot = x_dot + self.tau * xacc\n",
    "            x = x + self.tau * x_dot\n",
    "            theta_dot = theta_dot + self.tau * thetaacc\n",
    "            theta = theta + self.tau * theta_dot\n",
    "\n",
    "        self.state = (x, x_dot, theta, theta_dot)\n",
    "\n",
    "        done = bool(\n",
    "            x < -self.x_threshold\n",
    "            or x > self.x_threshold\n",
    "            or theta < -self.theta_threshold_radians\n",
    "            or theta > self.theta_threshold_radians\n",
    "        )\n",
    "\n",
    "        if not done:\n",
    "            reward = 1.0\n",
    "        elif self.steps_beyond_done is None:\n",
    "            # Pole just fell!\n",
    "            self.steps_beyond_done = 0\n",
    "            reward = 1.0\n",
    "        else:\n",
    "            if self.steps_beyond_done == 0:\n",
    "                logger.warn(\n",
    "                    \"You are calling 'step()' even though this \"\n",
    "                    \"environment has already returned done = True. You \"\n",
    "                    \"should always call 'reset()' once you receive 'done = \"\n",
    "                    \"True' -- any further steps are undefined behavior.\"\n",
    "                )\n",
    "            self.steps_beyond_done += 1\n",
    "            reward = 0.0\n",
    "\n",
    "        return np.array(self.state), reward, done, {}\n",
    "config = {\n",
    "    # Environment (RLlib understands openAI gym registered strings).\n",
    "    \"env\": \"Taxi-v3\",\n",
    "    # Use 2 environment workers (aka \"rollout workers\") that parallelly\n",
    "    # collect samples from their own environment clone(s).\n",
    "    \"num_workers\": 2,\n",
    "    # Change this to \"framework: torch\", if you are using PyTorch.\n",
    "    # Also, use \"framework: tf2\" for tf2.x eager execution.\n",
    "    \"framework\": \"tf\",\n",
    "    # Tweak the default model provided automatically by RLlib,\n",
    "    # given the environment's observation- and action spaces.\n",
    "    \"model\": {\n",
    "        \"fcnet_hiddens\": [64, 64],\n",
    "        \"fcnet_activation\": \"relu\",\n",
    "    },\n",
    "    # Set up a separate evaluation worker set for the\n",
    "    # `trainer.evaluate()` call after training (see below).\n",
    "    \"evaluation_num_workers\": 1,\n",
    "    # Only for evaluation runs, render the env.\n",
    "    \"evaluation_config\": {\n",
    "        \"render_env\": True,\n",
    "    },\n",
    "}"
   ]
  },
  {
   "cell_type": "markdown",
   "metadata": {},
   "source": [
    "## 環境動作確認?"
   ]
  },
  {
   "cell_type": "code",
   "execution_count": 3,
   "metadata": {},
   "outputs": [
    {
     "name": "stdout",
     "output_type": "stream",
     "text": [
      "step: 29, reward: 29.0\n"
     ]
    }
   ],
   "source": [
    "env = MyCartpole()\n",
    "\n",
    "env.reset()     # ゲームの初期化\n",
    "done = False\n",
    "total_reward = 0\n",
    "step = 0\n",
    "\n",
    "while not done:\n",
    "    action = env.action_space.sample()\n",
    "    state, reward, done, _ = env.step(action)\n",
    "    total_reward += reward\n",
    "    step += 1\n",
    "env.close()\n",
    "\n",
    "print(f\"step: {step}, reward: {total_reward}\")"
   ]
  },
  {
   "cell_type": "markdown",
   "metadata": {},
   "source": [
    "## 独自のモデルを定義"
   ]
  },
  {
   "cell_type": "code",
   "execution_count": 4,
   "metadata": {
    "scrolled": true
   },
   "outputs": [],
   "source": [
    "# 独自のモデルを定義\n",
    "class PolicyModel(keras.Model):\n",
    "    def __init__(self, action_space):\n",
    "        super().__init__()\n",
    "\n",
    "        # 各レイヤーを定義\n",
    "        self.dense1 = keras.layers.Dense(16, activation=\"relu\")\n",
    "        self.dense2 = keras.layers.Dense(16, activation=\"relu\")\n",
    "        self.pi_mean = keras.layers.Dense(action_space, activation=\"linear\")\n",
    "        self.pi_stddev = keras.layers.Dense(action_space, activation=\"linear\")\n",
    "\n",
    "        # optimizer もついでに定義しておく\n",
    "        self.optimizer = Adam(learning_rate=0.01)\n",
    "\n",
    "    # Forward pass\n",
    "    def call(self, inputs, training=False):\n",
    "        x = self.dense1(inputs)\n",
    "        x = self.dense2(x)\n",
    "        mean = self.pi_mean(x)\n",
    "        stddev = self.pi_stddev(x)\n",
    "\n",
    "        # σ^2 > 0 になるように変換(指数関数)\n",
    "        stddev = tf.exp(stddev)\n",
    "\n",
    "        return mean, stddev\n",
    "\n",
    "    # 状態を元にactionを算出\n",
    "    def sample_action(self, state):\n",
    "        # モデルから平均と分散を取得\n",
    "        mean, stddev = self(state.reshape((1,-1)))\n",
    "\n",
    "        # ガウス分布に従った乱数をだす\n",
    "        sampled_action = tf.random.normal(tf.shape(mean), mean=mean, stddev=stddev)\n",
    "        return sampled_action.numpy()[0]"
   ]
  },
  {
   "cell_type": "markdown",
   "metadata": {},
   "source": [
    "## テスト用?"
   ]
  },
  {
   "cell_type": "code",
   "execution_count": 5,
   "metadata": {},
   "outputs": [],
   "source": [
    "def testEnv(env, sample_action_func):\n",
    "    action_centor = (env.action_space.high + env.action_space.low)/2\n",
    "    action_scale = env.action_space.high - action_centor\n",
    "    for episode in range(5):\n",
    "        state = np.asarray(env.reset())\n",
    "        env.render()\n",
    "        done = False\n",
    "        total_reward = 0\n",
    "        step = 0\n",
    "        while not done:\n",
    "            action = sample_action_func(state)\n",
    "            n_state, reward, done, _ = env.step(action * action_scale + action_centor)\n",
    "            env.render()\n",
    "            state = np.asarray(n_state)\n",
    "            step += 1\n",
    "            total_reward += reward\n",
    "        print(\"{}, step: {}, reward: {}\".format(episode, step, total_reward))"
   ]
  },
  {
   "cell_type": "markdown",
   "metadata": {},
   "source": [
    "## 確率分布計算"
   ]
  },
  {
   "cell_type": "code",
   "execution_count": 6,
   "metadata": {},
   "outputs": [],
   "source": [
    "def compute_logpi(mean, stddev, action):\n",
    "    a1 = -0.5 * np.log(2*np.pi)\n",
    "    a2 = -tf.math.log(stddev)\n",
    "    a3 = -0.5 * (((action - mean) / stddev) ** 2)\n",
    "    return a1 + a2 + a3"
   ]
  },
  {
   "cell_type": "markdown",
   "metadata": {},
   "source": [
    "## 学習コード"
   ]
  },
  {
   "cell_type": "code",
   "execution_count": 15,
   "metadata": {},
   "outputs": [],
   "source": [
    "def train(model, experiences):\n",
    "    gamma = 0.9\n",
    "\n",
    "    # 各経験毎に価値を推定、後ろから計算\n",
    "    v_vals = []\n",
    "    r = 0\n",
    "    for e in reversed(experiences):\n",
    "        print(e)\n",
    "        if e[\"done\"]:\n",
    "            # 終了時は次の状態がないので報酬のみ\n",
    "            r = e[\"reward\"]\n",
    "        else:\n",
    "            r = e[\"reward\"] + gamma * r\n",
    "        v_vals.append(r)\n",
    "    v_vals.reverse()  # 反転して元に戻す\n",
    "    print(v_vals)\n",
    "    v_vals = np.asarray(v_vals).reshape((-1, 1))  # 整形\n",
    "\n",
    "    states = np.asarray([e[\"state\"] for e in experiences])\n",
    "    actions = np.asarray([e[\"action\"] for e in experiences])\n",
    "\n",
    "    # baseline\n",
    "    v_vals -= np.mean(v_vals)\n",
    "\n",
    "    # shapeを念のため確認\n",
    "    assert v_vals.shape == (len(experiences), 1)\n",
    "\n",
    "    # 勾配を計算\n",
    "    with tf.GradientTape() as tape:\n",
    "\n",
    "        # モデルから値を取得\n",
    "        mean, stddev = model(states, training=True)\n",
    "\n",
    "        # log(π(a|s))を計算\n",
    "        logpi = compute_logpi(mean, stddev, actions)\n",
    "\n",
    "        # log(π(a|s)) * Q(s,a) を計算\n",
    "        policy_loss = logpi * v_vals\n",
    "\n",
    "        # ミニバッチ処理\n",
    "        loss = -tf.reduce_mean(policy_loss)\n",
    "\n",
    "    # 勾配を元にoptimizerでモデルを更新\n",
    "    gradients = tape.gradient(loss, model.trainable_variables)\n",
    "    model.optimizer.apply_gradients(zip(gradients, model.trainable_variables))\n",
    "\n",
    "    return loss"
   ]
  },
  {
   "cell_type": "markdown",
   "metadata": {},
   "source": [
    "## 学習の実行"
   ]
  },
  {
   "cell_type": "code",
   "execution_count": 16,
   "metadata": {},
   "outputs": [
    {
     "name": "stdout",
     "output_type": "stream",
     "text": [
      "{'state': array([ 0.14374389,  0.99287819, -0.17886463, -1.62815166]), 'action': array([0.2124038], dtype=float32), 'reward': 1.0, 'n_state': array([ 0.16360145,  1.03627303, -0.21142766, -1.74451171]), 'done': True}\n",
      "{'state': array([ 0.12782032,  0.79617824, -0.15302994, -1.29173436]), 'action': array([1.6416678], dtype=float32), 'reward': 1.0, 'n_state': array([ 0.14374389,  0.99287819, -0.17886463, -1.62815166]), 'done': False}\n",
      "{'state': array([ 0.10802754,  0.98963895, -0.12215114, -1.54393995]), 'action': array([-1.6285996], dtype=float32), 'reward': 1.0, 'n_state': array([ 0.12782032,  0.79617824, -0.15302994, -1.29173436]), 'done': False}\n",
      "{'state': array([ 0.09215947,  0.79340349, -0.09770492, -1.22231106]), 'action': array([1.5902164], dtype=float32), 'reward': 1.0, 'n_state': array([ 0.10802754,  0.98963895, -0.12215114, -1.54393995]), 'done': False}\n",
      "{'state': array([ 0.07710526,  0.75271077, -0.07491615, -1.13943844]), 'action': array([0.20363578], dtype=float32), 'reward': 1.0, 'n_state': array([ 0.09215947,  0.79340349, -0.09770492, -1.22231106]), 'done': False}\n",
      "{'state': array([ 0.06448027,  0.63124969, -0.05609515, -0.94105006]), 'action': array([0.6187651], dtype=float32), 'reward': 1.0, 'n_state': array([ 0.07710526,  0.75271077, -0.07491615, -1.13943844]), 'done': False}\n",
      "{'state': array([ 0.05576926,  0.43555019, -0.04339469, -0.63502313]), 'action': array([1.5018585], dtype=float32), 'reward': 1.0, 'n_state': array([ 0.06448027,  0.63124969, -0.05609515, -0.94105006]), 'done': False}\n",
      "{'state': array([ 0.04986734,  0.29509596, -0.03511167, -0.41415093]), 'action': array([0.71734434], dtype=float32), 'reward': 1.0, 'n_state': array([ 0.05576926,  0.43555019, -0.04339469, -0.63502313]), 'done': False}\n",
      "{'state': array([ 0.04006896,  0.48991901, -0.02110938, -0.70011469]), 'action': array([-1.3341281], dtype=float32), 'reward': 1.0, 'n_state': array([ 0.04986734,  0.29509596, -0.03511167, -0.41415093]), 'done': False}\n",
      "{'state': array([ 0.0307258 ,  0.46715812, -0.00783597, -0.66367066]), 'action': array([0.11609139], dtype=float32), 'reward': 1.0, 'n_state': array([ 0.04006896,  0.48991901, -0.02110938, -0.70011469]), 'done': False}\n",
      "{'state': array([ 2.49728923e-02,  2.87645372e-01,  5.23736696e-05, -3.94416937e-01]), 'action': array([0.92000663], dtype=float32), 'reward': 1.0, 'n_state': array([ 0.0307258 ,  0.46715812, -0.00783597, -0.66367066]), 'done': False}\n",
      "{'state': array([ 0.02312182,  0.09255358,  0.00210032, -0.10239739]), 'action': array([1.1041499], dtype=float32), 'reward': 1.0, 'n_state': array([ 2.49728923e-02,  2.87645372e-01,  5.23736696e-05, -3.94416937e-01]), 'done': False}\n",
      "{'state': array([0.02271884, 0.02014912, 0.00198783, 0.00562466]), 'action': array([0.37121907], dtype=float32), 'reward': 1.0, 'n_state': array([ 0.02312182,  0.09255358,  0.00210032, -0.10239739]), 'done': False}\n",
      "{'state': array([ 0.02300741, -0.01442872,  0.00084296,  0.05724358]), 'action': array([0.17727341], dtype=float32), 'reward': 1.0, 'n_state': array([0.02271884, 0.02014912, 0.00198783, 0.00562466]), 'done': False}\n",
      "{'state': array([ 0.02352323, -0.02579108, -0.00064659,  0.07447721]), 'action': array([0.0581846], dtype=float32), 'reward': 1.0, 'n_state': array([ 0.02300741, -0.01442872,  0.00084296,  0.05724358]), 'done': False}\n",
      "{'state': array([ 0.0220063 ,  0.07584673,  0.0009184 , -0.07824945]), 'action': array([-0.52082634], dtype=float32), 'reward': 1.0, 'n_state': array([ 0.02352323, -0.02579108, -0.00064659,  0.07447721]), 'done': False}\n",
      "{'state': array([ 0.0181554 ,  0.19254474,  0.00601966, -0.25506307]), 'action': array([-0.5976384], dtype=float32), 'reward': 1.0, 'n_state': array([ 0.0220063 ,  0.07584673,  0.0009184 , -0.07824945]), 'done': False}\n",
      "{'state': array([ 0.01820542, -0.0025008 ,  0.00530081,  0.0359427 ], dtype=float32), 'action': array([1.9829752], dtype=float32), 'reward': 1.0, 'n_state': array([ 0.0181554 ,  0.19254474,  0.00601966, -0.25506307]), 'done': False}\n",
      "[8.49905364703001, 8.332281830033345, 8.14697981114816, 7.94108867905351, 7.7123207545039, 7.458134171671, 7.175704635190001, 6.861894039100001, 6.5132155990000005, 6.12579511, 5.6953279000000006, 5.217031, 4.68559, 4.0951, 3.439, 2.71, 1.9, 1.0]\n",
      "0: reward 18.0 18.0 18.0, loss -0.3 -0.3 -0.3\n"
     ]
    }
   ],
   "source": [
    "env = MyCartpole()\n",
    "\n",
    "# 出力用にactionの修正値を計算\n",
    "# アクションは-10～10の範囲をとるが、学習は-1～1の範囲と仮定し、\n",
    "# 出力時に-10～10に戻す\n",
    "action_centor = (env.action_space.high + env.action_space.low)/2\n",
    "action_scale = env.action_space.high - action_centor\n",
    "\n",
    "# print(env.action_space.high, env.action_space.low)\n",
    "# print(action_centor)\n",
    "# print(action_scale)\n",
    "# print(env.action_space)\n",
    "# モデルを作成\n",
    "# model = PolicyModel(env.action_space)\n",
    "# 出力サイズは1じゃだめ?\n",
    "model = PolicyModel(1)\n",
    "\n",
    "# 経験バッファ用\n",
    "experiences = []\n",
    "\n",
    "# 記録用\n",
    "history_metrics = []\n",
    "history_rewards = []\n",
    "\n",
    "interval = 50\n",
    "\n",
    "# 学習ループ\n",
    "for episode in range(1):\n",
    "    state = np.asarray(env.reset())\n",
    "#     print(state)\n",
    "    done = False\n",
    "    total_reward = 0\n",
    "    step = 0\n",
    "\n",
    "    episode_metrics = []\n",
    "\n",
    "    # 1episode\n",
    "    while not done:\n",
    "        # アクションを決定\n",
    "        action = model.sample_action(state)\n",
    "\n",
    "        # 1step進める（アクション値を修正して渡す）\n",
    "        n_state, reward, done, _ = env.step(action * action_scale + action_centor)\n",
    "        n_state = np.asarray(n_state)\n",
    "        total_reward += reward\n",
    "\n",
    "        # 経験を追加\n",
    "        experiences.append({\n",
    "            \"state\": state,\n",
    "            \"action\": action,\n",
    "            \"reward\": reward,\n",
    "            \"n_state\": n_state,\n",
    "            \"done\": done,\n",
    "        })\n",
    "        state = n_state\n",
    "\n",
    "#     print(experiences)\n",
    "    #------------------------\n",
    "    # 1episode毎に学習する手法\n",
    "    #------------------------\n",
    "    metrics = train(model, experiences)\n",
    "    episode_metrics.append(metrics)\n",
    "    experiences.clear()  # 戦略が変わるので初期化\n",
    "\n",
    "    # メトリクス\n",
    "    if len(episode_metrics) == 0:\n",
    "        history_metrics.append((None, None, None, None))\n",
    "    else:\n",
    "        history_metrics.append(np.mean(episode_metrics, axis=0))  # 平均を保存\n",
    "\n",
    "    # 報酬\n",
    "    history_rewards.append(total_reward)\n",
    "    if episode % interval == 0:\n",
    "        print(\"{}: reward {:.1f} {:.1f} {:.1f}, loss {:.1f} {:.1f} {:.1f}\".format(\n",
    "            episode,\n",
    "            min(history_rewards[-interval:]), \n",
    "            np.mean(history_rewards[-interval:]), \n",
    "            max(history_rewards[-interval:]),\n",
    "            min(history_metrics[-interval:]),\n",
    "            np.mean(history_metrics[-interval:]),\n",
    "            max(history_metrics[-interval:]),\n",
    "        ))\n"
   ]
  },
  {
   "cell_type": "markdown",
   "metadata": {},
   "source": [
    "## グラフ描画用"
   ]
  },
  {
   "cell_type": "code",
   "execution_count": 9,
   "metadata": {},
   "outputs": [],
   "source": [
    "def drawHistory(history_rewards, history_metrics):\n",
    "    # グラフで表示\n",
    "    fig, ax1 = plt.subplots()\n",
    "\n",
    "    ax1.set_xlabel('episode')\n",
    "    ax1.grid()\n",
    "    ax1.plot(history_rewards, color=\"C0\", label=\"reward\")\n",
    "    ax1.legend(loc='upper left')\n",
    "\n",
    "    ax2 = ax1.twinx()\n",
    "    ax2.plot([m for m in history_metrics], color=\"C1\", marker='.', label=\"loss\")\n",
    "    ax2.legend(loc='upper right')\n",
    "\n",
    "    fig.tight_layout()\n",
    "    plt.show()"
   ]
  },
  {
   "cell_type": "markdown",
   "metadata": {},
   "source": [
    "## 学習過程のグラフ"
   ]
  },
  {
   "cell_type": "code",
   "execution_count": 10,
   "metadata": {},
   "outputs": [
    {
     "data": {
      "image/png": "[encoded data removed]",
      "text/plain": [
       "<Figure size 640x480 with 2 Axes>"
      ]
     },
     "metadata": {},
     "output_type": "display_data"
    }
   ],
   "source": [
    "drawHistory(history_rewards, history_metrics)"
   ]
  },
  {
   "cell_type": "code",
   "execution_count": null,
   "metadata": {},
   "outputs": [],
   "source": []
  }
 ],
 "metadata": {
  "kernelspec": {
   "display_name": "Python 3",
   "language": "python",
   "name": "python3"
  },
  "language_info": {
   "codemirror_mode": {
    "name": "ipython",
    "version": 3
   },
   "file_extension": ".py",
   "mimetype": "text/x-python",
   "name": "python",
   "nbconvert_exporter": "python",
   "pygments_lexer": "ipython3",
   "version": "3.8.10"
  }
 },
 "nbformat": 4,
 "nbformat_minor": 2
}
